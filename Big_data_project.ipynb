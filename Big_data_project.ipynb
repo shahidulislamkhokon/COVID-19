{
  "nbformat": 4,
  "nbformat_minor": 0,
  "metadata": {
    "colab": {
      "name": "Big_data_project.ipynb",
      "provenance": [],
      "collapsed_sections": []
    },
    "kernelspec": {
      "name": "python3",
      "display_name": "Python 3"
    }
  },
  "cells": [
    {
      "cell_type": "markdown",
      "metadata": {
        "id": "kbdL_nJUk5iu",
        "colab_type": "text"
      },
      "source": [
        "# **1. Spark Installation**"
      ]
    },
    {
      "cell_type": "code",
      "metadata": {
        "id": "ZO2Bn-NgyGjq",
        "colab_type": "code",
        "colab": {
          "base_uri": "https://localhost:8080/",
          "height": 768
        },
        "outputId": "5b22a8ab-7e87-4f2d-da00-3d32d82657a7"
      },
      "source": [
        "!apt-get update\n",
        "!apt-get install openjdk-8-jdk-headless -qq > /dev/null\n",
        "!wget -q http://archive.apache.org/dist/spark/spark-2.4.5/spark-2.4.5-bin-hadoop2.7.tgz\n",
        "!tar xf spark-2.4.5-bin-hadoop2.7.tgz\n",
        "!pip install -q findspark\n",
        "!pip install -U pyarrow\n",
        "!pip install pyspark"
      ],
      "execution_count": 1,
      "outputs": [
        {
          "output_type": "stream",
          "text": [
            "Ign:1 https://developer.download.nvidia.com/compute/cuda/repos/ubuntu1804/x86_64  InRelease\n",
            "Hit:2 http://archive.ubuntu.com/ubuntu bionic InRelease\n",
            "Get:3 http://security.ubuntu.com/ubuntu bionic-security InRelease [88.7 kB]\n",
            "Get:4 http://ppa.launchpad.net/graphics-drivers/ppa/ubuntu bionic InRelease [21.3 kB]\n",
            "Ign:5 https://developer.download.nvidia.com/compute/machine-learning/repos/ubuntu1804/x86_64  InRelease\n",
            "Hit:6 https://developer.download.nvidia.com/compute/cuda/repos/ubuntu1804/x86_64  Release\n",
            "Hit:7 https://developer.download.nvidia.com/compute/machine-learning/repos/ubuntu1804/x86_64  Release\n",
            "Get:8 http://archive.ubuntu.com/ubuntu bionic-updates InRelease [88.7 kB]\n",
            "Get:9 https://cloud.r-project.org/bin/linux/ubuntu bionic-cran35/ InRelease [3,626 B]\n",
            "Get:10 http://ppa.launchpad.net/marutter/c2d4u3.5/ubuntu bionic InRelease [15.4 kB]\n",
            "Get:11 http://archive.ubuntu.com/ubuntu bionic-backports InRelease [74.6 kB]\n",
            "Get:14 http://ppa.launchpad.net/graphics-drivers/ppa/ubuntu bionic/main amd64 Packages [43.0 kB]\n",
            "Get:15 https://cloud.r-project.org/bin/linux/ubuntu bionic-cran35/ Packages [95.7 kB]\n",
            "Get:16 http://security.ubuntu.com/ubuntu bionic-security/universe amd64 Packages [890 kB]\n",
            "Get:17 http://ppa.launchpad.net/marutter/c2d4u3.5/ubuntu bionic/main Sources [1,863 kB]\n",
            "Get:18 http://archive.ubuntu.com/ubuntu bionic-updates/main amd64 Packages [1,341 kB]\n",
            "Get:19 http://security.ubuntu.com/ubuntu bionic-security/main amd64 Packages [1,045 kB]\n",
            "Get:20 http://archive.ubuntu.com/ubuntu bionic-updates/universe amd64 Packages [1,418 kB]\n",
            "Get:21 http://ppa.launchpad.net/marutter/c2d4u3.5/ubuntu bionic/main amd64 Packages [899 kB]\n",
            "Fetched 7,888 kB in 3s (2,358 kB/s)\n",
            "Reading package lists... Done\n",
            "Collecting pyarrow\n",
            "\u001b[?25l  Downloading https://files.pythonhosted.org/packages/f3/99/0a605f016121ca314d1469dc9069e4978395bc46fda40f73099d90ad3ba4/pyarrow-1.0.1-cp36-cp36m-manylinux2014_x86_64.whl (17.3MB)\n",
            "\u001b[K     |████████████████████████████████| 17.3MB 1.4MB/s \n",
            "\u001b[?25hRequirement already satisfied, skipping upgrade: numpy>=1.14 in /usr/local/lib/python3.6/dist-packages (from pyarrow) (1.18.5)\n",
            "Installing collected packages: pyarrow\n",
            "  Found existing installation: pyarrow 0.14.1\n",
            "    Uninstalling pyarrow-0.14.1:\n",
            "      Successfully uninstalled pyarrow-0.14.1\n",
            "Successfully installed pyarrow-1.0.1\n",
            "Collecting pyspark\n",
            "\u001b[?25l  Downloading https://files.pythonhosted.org/packages/8e/b0/bf9020b56492281b9c9d8aae8f44ff51e1bc91b3ef5a884385cb4e389a40/pyspark-3.0.0.tar.gz (204.7MB)\n",
            "\u001b[K     |████████████████████████████████| 204.7MB 55kB/s \n",
            "\u001b[?25hCollecting py4j==0.10.9\n",
            "\u001b[?25l  Downloading https://files.pythonhosted.org/packages/9e/b6/6a4fb90cd235dc8e265a6a2067f2a2c99f0d91787f06aca4bcf7c23f3f80/py4j-0.10.9-py2.py3-none-any.whl (198kB)\n",
            "\u001b[K     |████████████████████████████████| 204kB 43.8MB/s \n",
            "\u001b[?25hBuilding wheels for collected packages: pyspark\n",
            "  Building wheel for pyspark (setup.py) ... \u001b[?25l\u001b[?25hdone\n",
            "  Created wheel for pyspark: filename=pyspark-3.0.0-py2.py3-none-any.whl size=205044184 sha256=99d1060d70a1620a706fc0cfa31858cf2df60d449bea7d5119dc51f8e2e89683\n",
            "  Stored in directory: /root/.cache/pip/wheels/57/27/4d/ddacf7143f8d5b76c45c61ee2e43d9f8492fc5a8e78ebd7d37\n",
            "Successfully built pyspark\n",
            "Installing collected packages: py4j, pyspark\n",
            "Successfully installed py4j-0.10.9 pyspark-3.0.0\n"
          ],
          "name": "stdout"
        }
      ]
    },
    {
      "cell_type": "code",
      "metadata": {
        "id": "rE_1JILyWjo9",
        "colab_type": "code",
        "colab": {
          "base_uri": "https://localhost:8080/",
          "height": 51
        },
        "outputId": "6bbf9420-0ba8-4eab-d329-723a286f68a2"
      },
      "source": [
        "!ls /usr/lib/jvm/"
      ],
      "execution_count": 2,
      "outputs": [
        {
          "output_type": "stream",
          "text": [
            "default-java\t\t   java-11-openjdk-amd64     java-8-openjdk-amd64\n",
            "java-1.11.0-openjdk-amd64  java-1.8.0-openjdk-amd64\n"
          ],
          "name": "stdout"
        }
      ]
    },
    {
      "cell_type": "code",
      "metadata": {
        "id": "sEJuTcvzXJGE",
        "colab_type": "code",
        "colab": {}
      },
      "source": [
        "import os\n",
        "os.environ[\"JAVA_HOME\"] = \"/usr/lib/jvm/java-8-openjdk-amd64\"\n",
        "os.environ[\"SPARK_HOME\"] = \"/content/spark-2.4.5-bin-hadoop2.7\""
      ],
      "execution_count": 3,
      "outputs": []
    },
    {
      "cell_type": "code",
      "metadata": {
        "id": "S0j6LhhrXGZ-",
        "colab_type": "code",
        "colab": {}
      },
      "source": [
        "import findspark\n",
        "findspark.init()\n",
        "\n",
        "import pyspark\n",
        "from pyspark.sql import SparkSession\n",
        "from pyspark.sql.functions import row_number\n",
        "from pyspark.sql.functions import col, struct\n",
        "from time import time\n",
        "from pyspark.sql.window import Window\n",
        "import pyspark.sql.functions as F\n",
        "spark = SparkSession.builder.master(\"local[*]\").getOrCreate()\n",
        "spark.conf.set(\"spark.executor.memory\", \"4g\")\n",
        "spark.conf.set(\"spark.driver.memory\", \"4g\")\n",
        "spark.conf.set(\"spark.memory.fraction\", \"0.9\")"
      ],
      "execution_count": 4,
      "outputs": []
    },
    {
      "cell_type": "code",
      "metadata": {
        "id": "Bthr-QPnaLD_",
        "colab_type": "code",
        "colab": {}
      },
      "source": [
        "import sys, tempfile, urllib\n",
        "import urllib.request\n",
        "from pyspark.sql.functions import*"
      ],
      "execution_count": 5,
      "outputs": []
    },
    {
      "cell_type": "markdown",
      "metadata": {
        "id": "nczGZFBhl7pc",
        "colab_type": "text"
      },
      "source": [
        "# **2. Import Libraries**"
      ]
    },
    {
      "cell_type": "code",
      "metadata": {
        "id": "KGFIp01AmJ_Q",
        "colab_type": "code",
        "colab": {
          "base_uri": "https://localhost:8080/",
          "height": 71
        },
        "outputId": "f429b046-e119-4c6e-9a07-361ede794d07"
      },
      "source": [
        "import pandas as pd\n",
        "import numpy as np\n",
        "import seaborn as sns\n",
        "import matplotlib.pyplot as plt \n",
        "%matplotlib inline\n",
        "import plotly.express as px\n",
        "import plotly.graph_objects as go\n",
        "import folium\n",
        "from folium import  plugins\n",
        "from fbprophet import Prophet\n",
        "\n",
        "# default plot size\n",
        "plt.rcParams['figure.figsize'] = 10,12"
      ],
      "execution_count": 6,
      "outputs": [
        {
          "output_type": "stream",
          "text": [
            "/usr/local/lib/python3.6/dist-packages/statsmodels/tools/_testing.py:19: FutureWarning: pandas.util.testing is deprecated. Use the functions in the public API at pandas.testing instead.\n",
            "  import pandas.util.testing as tm\n"
          ],
          "name": "stderr"
        }
      ]
    },
    {
      "cell_type": "markdown",
      "metadata": {
        "id": "oDiB7pxLmiiZ",
        "colab_type": "text"
      },
      "source": [
        "# **3. Load Data**"
      ]
    },
    {
      "cell_type": "code",
      "metadata": {
        "id": "mSraaqRjvjyY",
        "colab_type": "code",
        "colab": {
          "resources": {
            "http://localhost:8080/nbextensions/google.colab/files.js": {
              "data": "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",
              "ok": true,
              "headers": [
                [
                  "content-type",
                  "application/javascript"
                ]
              ],
              "status": 200,
              "status_text": ""
            }
          },
          "base_uri": "https://localhost:8080/",
          "height": 72
        },
        "outputId": "3be5e816-18e1-4381-c34f-401053131aa6"
      },
      "source": [
        "from google.colab import files     \n",
        "uploaded = files.upload()\n",
        "corona_dataFrame = spark.read.option(\"inferSchema\", \"true\").csv(\"covid_19_data.csv\", header = True)\n",
        "\n",
        "                    "
      ],
      "execution_count": 7,
      "outputs": [
        {
          "output_type": "display_data",
          "data": {
            "text/html": [
              "\n",
              "     <input type=\"file\" id=\"files-994b72f6-2958-46d6-b94f-a500b297a0e8\" name=\"files[]\" multiple disabled\n",
              "        style=\"border:none\" />\n",
              "     <output id=\"result-994b72f6-2958-46d6-b94f-a500b297a0e8\">\n",
              "      Upload widget is only available when the cell has been executed in the\n",
              "      current browser session. Please rerun this cell to enable.\n",
              "      </output>\n",
              "      <script src=\"/nbextensions/google.colab/files.js\"></script> "
            ],
            "text/plain": [
              "<IPython.core.display.HTML object>"
            ]
          },
          "metadata": {
            "tags": []
          }
        },
        {
          "output_type": "stream",
          "text": [
            "Saving covid_19_data.csv to covid_19_data.csv\n"
          ],
          "name": "stdout"
        }
      ]
    },
    {
      "cell_type": "markdown",
      "metadata": {
        "id": "-q4YDhc17CAI",
        "colab_type": "text"
      },
      "source": [
        "# **4. Data preparation**\n",
        "\n"
      ]
    },
    {
      "cell_type": "code",
      "metadata": {
        "id": "CeMEACnH7SXf",
        "colab_type": "code",
        "colab": {
          "base_uri": "https://localhost:8080/",
          "height": 476
        },
        "outputId": "278367ae-aa13-48a4-b0e3-6387ad8947ff"
      },
      "source": [
        "# drop the null data\n",
        "t=time()\n",
        "nullFreeData = corona_dataFrame.na.drop()\n",
        "nullFreeData.show()\n",
        "print(\"The processing Time is: \", time()- t,\"seconds\")"
      ],
      "execution_count": 8,
      "outputs": [
        {
          "output_type": "stream",
          "text": [
            "+---+---------------+--------------+--------------+---------------+---------+------+---------+\n",
            "|SNo|ObservationDate|Province/State|Country/Region|    Last Update|Confirmed|Deaths|Recovered|\n",
            "+---+---------------+--------------+--------------+---------------+---------+------+---------+\n",
            "|  1|     01/22/2020|         Anhui|Mainland China|1/22/2020 17:00|      1.0|   0.0|      0.0|\n",
            "|  2|     01/22/2020|       Beijing|Mainland China|1/22/2020 17:00|     14.0|   0.0|      0.0|\n",
            "|  3|     01/22/2020|     Chongqing|Mainland China|1/22/2020 17:00|      6.0|   0.0|      0.0|\n",
            "|  4|     01/22/2020|        Fujian|Mainland China|1/22/2020 17:00|      1.0|   0.0|      0.0|\n",
            "|  5|     01/22/2020|         Gansu|Mainland China|1/22/2020 17:00|      0.0|   0.0|      0.0|\n",
            "|  6|     01/22/2020|     Guangdong|Mainland China|1/22/2020 17:00|     26.0|   0.0|      0.0|\n",
            "|  7|     01/22/2020|       Guangxi|Mainland China|1/22/2020 17:00|      2.0|   0.0|      0.0|\n",
            "|  8|     01/22/2020|       Guizhou|Mainland China|1/22/2020 17:00|      1.0|   0.0|      0.0|\n",
            "|  9|     01/22/2020|        Hainan|Mainland China|1/22/2020 17:00|      4.0|   0.0|      0.0|\n",
            "| 10|     01/22/2020|         Hebei|Mainland China|1/22/2020 17:00|      1.0|   0.0|      0.0|\n",
            "| 11|     01/22/2020|  Heilongjiang|Mainland China|1/22/2020 17:00|      0.0|   0.0|      0.0|\n",
            "| 12|     01/22/2020|         Henan|Mainland China|1/22/2020 17:00|      5.0|   0.0|      0.0|\n",
            "| 13|     01/22/2020|     Hong Kong|     Hong Kong|1/22/2020 17:00|      0.0|   0.0|      0.0|\n",
            "| 14|     01/22/2020|         Hubei|Mainland China|1/22/2020 17:00|    444.0|  17.0|     28.0|\n",
            "| 15|     01/22/2020|         Hunan|Mainland China|1/22/2020 17:00|      4.0|   0.0|      0.0|\n",
            "| 16|     01/22/2020|Inner Mongolia|Mainland China|1/22/2020 17:00|      0.0|   0.0|      0.0|\n",
            "| 17|     01/22/2020|       Jiangsu|Mainland China|1/22/2020 17:00|      1.0|   0.0|      0.0|\n",
            "| 18|     01/22/2020|       Jiangxi|Mainland China|1/22/2020 17:00|      2.0|   0.0|      0.0|\n",
            "| 19|     01/22/2020|         Jilin|Mainland China|1/22/2020 17:00|      0.0|   0.0|      0.0|\n",
            "| 20|     01/22/2020|      Liaoning|Mainland China|1/22/2020 17:00|      2.0|   0.0|      0.0|\n",
            "+---+---------------+--------------+--------------+---------------+---------+------+---------+\n",
            "only showing top 20 rows\n",
            "\n",
            "The processing Time is:  0.5236523151397705 seconds\n"
          ],
          "name": "stdout"
        }
      ]
    },
    {
      "cell_type": "markdown",
      "metadata": {
        "id": "T7XlNULYoA4t",
        "colab_type": "text"
      },
      "source": [
        "# **5. Resilient Distributed Dataset (RDD) Operation**"
      ]
    },
    {
      "cell_type": "markdown",
      "metadata": {
        "id": "ICaZf03Amm4I",
        "colab_type": "text"
      },
      "source": [
        "**RDD Operations in PySpark**: \n",
        "\n",
        "1.  Transformation\n",
        "2.  Action\n",
        "\n",
        "\n",
        "\n",
        "**Transformations:** \n",
        "    1. map\n",
        "    2. flatMap\n",
        "    3. filter\n",
        "    4. distinct\n",
        "    5. reduceByKey\n",
        "    6. mapPartitions\n",
        "    7. sortBy\n",
        "\n",
        "**Action:**\n",
        "    1. collect\n",
        "    2. collectAsMap\n",
        "    3. reduce\n",
        "    4. countByKey/countByValue\n",
        "    5. take\n",
        "    6. first\n",
        "\n",
        "\n"
      ]
    },
    {
      "cell_type": "markdown",
      "metadata": {
        "id": "nJCZgEImCUmS",
        "colab_type": "text"
      },
      "source": [
        "**Showing dataframe**"
      ]
    },
    {
      "cell_type": "code",
      "metadata": {
        "id": "Xvb4YxpuCTDT",
        "colab_type": "code",
        "colab": {
          "base_uri": "https://localhost:8080/",
          "height": 476
        },
        "outputId": "7a42bc81-0db1-4cb9-976b-0bcbd2f128fa"
      },
      "source": [
        "t=time()\n",
        "corona_dataFrame.show()\n",
        "print(\"The processing Time is: \", time()- t,\"seconds\")"
      ],
      "execution_count": null,
      "outputs": [
        {
          "output_type": "stream",
          "text": [
            "+---+---------------+--------------+--------------+---------------+---------+------+---------+\n",
            "|SNo|ObservationDate|Province/State|Country/Region|    Last Update|Confirmed|Deaths|Recovered|\n",
            "+---+---------------+--------------+--------------+---------------+---------+------+---------+\n",
            "|  1|     01/22/2020|         Anhui|Mainland China|1/22/2020 17:00|      1.0|   0.0|      0.0|\n",
            "|  2|     01/22/2020|       Beijing|Mainland China|1/22/2020 17:00|     14.0|   0.0|      0.0|\n",
            "|  3|     01/22/2020|     Chongqing|Mainland China|1/22/2020 17:00|      6.0|   0.0|      0.0|\n",
            "|  4|     01/22/2020|        Fujian|Mainland China|1/22/2020 17:00|      1.0|   0.0|      0.0|\n",
            "|  5|     01/22/2020|         Gansu|Mainland China|1/22/2020 17:00|      0.0|   0.0|      0.0|\n",
            "|  6|     01/22/2020|     Guangdong|Mainland China|1/22/2020 17:00|     26.0|   0.0|      0.0|\n",
            "|  7|     01/22/2020|       Guangxi|Mainland China|1/22/2020 17:00|      2.0|   0.0|      0.0|\n",
            "|  8|     01/22/2020|       Guizhou|Mainland China|1/22/2020 17:00|      1.0|   0.0|      0.0|\n",
            "|  9|     01/22/2020|        Hainan|Mainland China|1/22/2020 17:00|      4.0|   0.0|      0.0|\n",
            "| 10|     01/22/2020|         Hebei|Mainland China|1/22/2020 17:00|      1.0|   0.0|      0.0|\n",
            "| 11|     01/22/2020|  Heilongjiang|Mainland China|1/22/2020 17:00|      0.0|   0.0|      0.0|\n",
            "| 12|     01/22/2020|         Henan|Mainland China|1/22/2020 17:00|      5.0|   0.0|      0.0|\n",
            "| 13|     01/22/2020|     Hong Kong|     Hong Kong|1/22/2020 17:00|      0.0|   0.0|      0.0|\n",
            "| 14|     01/22/2020|         Hubei|Mainland China|1/22/2020 17:00|    444.0|  17.0|     28.0|\n",
            "| 15|     01/22/2020|         Hunan|Mainland China|1/22/2020 17:00|      4.0|   0.0|      0.0|\n",
            "| 16|     01/22/2020|Inner Mongolia|Mainland China|1/22/2020 17:00|      0.0|   0.0|      0.0|\n",
            "| 17|     01/22/2020|       Jiangsu|Mainland China|1/22/2020 17:00|      1.0|   0.0|      0.0|\n",
            "| 18|     01/22/2020|       Jiangxi|Mainland China|1/22/2020 17:00|      2.0|   0.0|      0.0|\n",
            "| 19|     01/22/2020|         Jilin|Mainland China|1/22/2020 17:00|      0.0|   0.0|      0.0|\n",
            "| 20|     01/22/2020|      Liaoning|Mainland China|1/22/2020 17:00|      2.0|   0.0|      0.0|\n",
            "+---+---------------+--------------+--------------+---------------+---------+------+---------+\n",
            "only showing top 20 rows\n",
            "\n",
            "The processing Time is:  0.13161301612854004 seconds\n"
          ],
          "name": "stdout"
        }
      ]
    },
    {
      "cell_type": "markdown",
      "metadata": {
        "id": "clltfkPGzbXD",
        "colab_type": "text"
      },
      "source": [
        "**Describle function:**\n",
        "This function describe the dataframe so when we describe the dataframe basically it's going to gibe the statistics of that particular all the columns that are available. So it's going to give you a summary statistics of it.\n",
        "For example, it will show you the count value, max and min value, mean and so on."
      ]
    },
    {
      "cell_type": "code",
      "metadata": {
        "id": "0FQTY92Uy4A2",
        "colab_type": "code",
        "colab": {
          "base_uri": "https://localhost:8080/",
          "height": 204
        },
        "outputId": "db5d724e-7fd3-40dd-e341-1f5e6678e527"
      },
      "source": [
        "# describing\n",
        "t=time()\n",
        "corona_dataFrame.describe().show()\n",
        "print(\"The processing Time is: \", time()- t,\"seconds\")"
      ],
      "execution_count": null,
      "outputs": [
        {
          "output_type": "stream",
          "text": [
            "+-------+------------------+---------------+--------------+--------------------+---------------+------------------+-----------------+-----------------+\n",
            "|summary|               SNo|ObservationDate|Province/State|      Country/Region|    Last Update|         Confirmed|           Deaths|        Recovered|\n",
            "+-------+------------------+---------------+--------------+--------------------+---------------+------------------+-----------------+-----------------+\n",
            "|  count|             85638|          85638|         57341|               85638|          85638|             85638|            85638|            85638|\n",
            "|   mean|           42819.5|           null|          null|                null|           null|13165.188572829818|635.8613232443541|6705.794226861907|\n",
            "| stddev|24721.705513576526|           null|          null|                null|           null| 39826.02482540336|2624.868348400354|37893.11709194367|\n",
            "|    min|                 1|     01/22/2020|  Montreal, QC|          Azerbaijan|1/22/2020 17:00|               0.0|              0.0|              0.0|\n",
            "|    max|             85638|     08/12/2020|  Zuid-Holland|occupied Palestin...|    4/6/20 9:37|          655181.0|          42072.0|        1753760.0|\n",
            "+-------+------------------+---------------+--------------+--------------------+---------------+------------------+-----------------+-----------------+\n",
            "\n",
            "The processing Time is:  3.0816938877105713 seconds\n"
          ],
          "name": "stdout"
        }
      ]
    },
    {
      "cell_type": "markdown",
      "metadata": {
        "id": "o95ydf11cktf",
        "colab_type": "text"
      },
      "source": [
        "**Selecting** column"
      ]
    },
    {
      "cell_type": "code",
      "metadata": {
        "id": "x7_scflLcpHF",
        "colab_type": "code",
        "colab": {
          "base_uri": "https://localhost:8080/",
          "height": 476
        },
        "outputId": "0e4db1a7-0eca-4336-d5c1-56df8ff2c1a8"
      },
      "source": [
        "t=time()\n",
        "corona_dataFrame.select(\"Country/Region\",\"Confirmed\",\"Deaths\",\"Recovered\").show()\n",
        "print(\"The processing Time is: \", time()- t,\"seconds\")"
      ],
      "execution_count": null,
      "outputs": [
        {
          "output_type": "stream",
          "text": [
            "+--------------+---------+------+---------+\n",
            "|Country/Region|Confirmed|Deaths|Recovered|\n",
            "+--------------+---------+------+---------+\n",
            "|Mainland China|      1.0|   0.0|      0.0|\n",
            "|Mainland China|     14.0|   0.0|      0.0|\n",
            "|Mainland China|      6.0|   0.0|      0.0|\n",
            "|Mainland China|      1.0|   0.0|      0.0|\n",
            "|Mainland China|      0.0|   0.0|      0.0|\n",
            "|Mainland China|     26.0|   0.0|      0.0|\n",
            "|Mainland China|      2.0|   0.0|      0.0|\n",
            "|Mainland China|      1.0|   0.0|      0.0|\n",
            "|Mainland China|      4.0|   0.0|      0.0|\n",
            "|Mainland China|      1.0|   0.0|      0.0|\n",
            "|Mainland China|      0.0|   0.0|      0.0|\n",
            "|Mainland China|      5.0|   0.0|      0.0|\n",
            "|     Hong Kong|      0.0|   0.0|      0.0|\n",
            "|Mainland China|    444.0|  17.0|     28.0|\n",
            "|Mainland China|      4.0|   0.0|      0.0|\n",
            "|Mainland China|      0.0|   0.0|      0.0|\n",
            "|Mainland China|      1.0|   0.0|      0.0|\n",
            "|Mainland China|      2.0|   0.0|      0.0|\n",
            "|Mainland China|      0.0|   0.0|      0.0|\n",
            "|Mainland China|      2.0|   0.0|      0.0|\n",
            "+--------------+---------+------+---------+\n",
            "only showing top 20 rows\n",
            "\n",
            "The processing Time is:  0.1780381202697754 seconds\n"
          ],
          "name": "stdout"
        }
      ]
    },
    {
      "cell_type": "markdown",
      "metadata": {
        "id": "O5Zn1RY_MTiH",
        "colab_type": "text"
      },
      "source": [
        "**printSchema function** used for showing each of the column and what are the data types.\n",
        "\n",
        "For example,\n",
        "serial number: integer\n",
        "country or region: string\n",
        "deaths: double"
      ]
    },
    {
      "cell_type": "code",
      "metadata": {
        "id": "aEU4-eXtMleC",
        "colab_type": "code",
        "colab": {
          "base_uri": "https://localhost:8080/",
          "height": 204
        },
        "outputId": "93f5e077-547d-4813-93cd-1447106d7631"
      },
      "source": [
        "t=time()\n",
        "corona_dataFrame.printSchema()\n",
        "print(\"The processing Time is: \", time()- t,\"seconds\")"
      ],
      "execution_count": null,
      "outputs": [
        {
          "output_type": "stream",
          "text": [
            "root\n",
            " |-- SNo: integer (nullable = true)\n",
            " |-- ObservationDate: string (nullable = true)\n",
            " |-- Province/State: string (nullable = true)\n",
            " |-- Country/Region: string (nullable = true)\n",
            " |-- Last Update: string (nullable = true)\n",
            " |-- Confirmed: double (nullable = true)\n",
            " |-- Deaths: double (nullable = true)\n",
            " |-- Recovered: double (nullable = true)\n",
            "\n",
            "The processing Time is:  0.009432077407836914 seconds\n"
          ],
          "name": "stdout"
        }
      ]
    },
    {
      "cell_type": "markdown",
      "metadata": {
        "id": "pMjDSqvT90SU",
        "colab_type": "text"
      },
      "source": [
        "**Count function:** Returns the number of rows in this DataFrame"
      ]
    },
    {
      "cell_type": "code",
      "metadata": {
        "id": "hllCzFIW5bjk",
        "colab_type": "code",
        "colab": {
          "base_uri": "https://localhost:8080/",
          "height": 34
        },
        "outputId": "85d8cb5c-544c-4884-9c43-2ac2d5d56067"
      },
      "source": [
        "t=time()\n",
        "corona_dataFrame.count()\n",
        "print(\"The processing Time is: \", time()- t,\"seconds\")"
      ],
      "execution_count": null,
      "outputs": [
        {
          "output_type": "stream",
          "text": [
            "The processing Time is:  0.26320981979370117 seconds\n"
          ],
          "name": "stdout"
        }
      ]
    },
    {
      "cell_type": "markdown",
      "metadata": {
        "id": "5Wi8QoGG-UMG",
        "colab_type": "text"
      },
      "source": [
        "I use **explain()** function to show the actual execution plan in spark engine will creates and uses while executing query."
      ]
    },
    {
      "cell_type": "code",
      "metadata": {
        "id": "Mf4wBUK3aqfy",
        "colab_type": "code",
        "colab": {
          "base_uri": "https://localhost:8080/",
          "height": 88
        },
        "outputId": "b0c0a9a9-704a-42a3-cf61-856968c66bde"
      },
      "source": [
        "t=time()\n",
        "corona_dataFrame.explain()\n",
        "print(\"The processing Time is: \", time()- t,\"seconds\")"
      ],
      "execution_count": null,
      "outputs": [
        {
          "output_type": "stream",
          "text": [
            "== Physical Plan ==\n",
            "*(1) FileScan csv [SNo#606,ObservationDate#607,Province/State#608,Country/Region#609,Last Update#610,Confirmed#611,Deaths#612,Recovered#613] Batched: false, Format: CSV, Location: InMemoryFileIndex[file:/content/covid_19_data.csv], PartitionFilters: [], PushedFilters: [], ReadSchema: struct<SNo:int,ObservationDate:string,Province/State:string,Country/Region:string,Last Update:str...\n",
            "The processing Time is:  0.013428688049316406 seconds\n"
          ],
          "name": "stdout"
        }
      ]
    },
    {
      "cell_type": "markdown",
      "metadata": {
        "id": "FD95IQOz_HUJ",
        "colab_type": "text"
      },
      "source": [
        "**first()** function use for show print the first row of the database"
      ]
    },
    {
      "cell_type": "code",
      "metadata": {
        "id": "3FGDaEIyb8u-",
        "colab_type": "code",
        "colab": {
          "base_uri": "https://localhost:8080/",
          "height": 34
        },
        "outputId": "b90cc05a-d3ac-4e5e-8ae0-d32ff47fcb60"
      },
      "source": [
        "t=time()\n",
        "corona_dataFrame.first()\n",
        "print(\"The processing Time is: \", time()- t,\"seconds\")"
      ],
      "execution_count": null,
      "outputs": [
        {
          "output_type": "stream",
          "text": [
            "The processing Time is:  0.08992362022399902 seconds\n"
          ],
          "name": "stdout"
        }
      ]
    },
    {
      "cell_type": "code",
      "metadata": {
        "id": "h3KKvP-icRxp",
        "colab_type": "code",
        "colab": {
          "base_uri": "https://localhost:8080/",
          "height": 207
        },
        "outputId": "ebf7369b-6b5c-4ee2-f3fe-a75e1ef51ca1"
      },
      "source": [
        "# take first 10 rows\n",
        "t=time()\n",
        "corona_dataFrame.take(10)\n",
        "#print(\"The processing Time is: \", time()- t,\"seconds\")"
      ],
      "execution_count": null,
      "outputs": [
        {
          "output_type": "execute_result",
          "data": {
            "text/plain": [
              "[Row(SNo=1, ObservationDate='01/22/2020', Province/State='Anhui', Country/Region='Mainland China', Last Update='1/22/2020 17:00', Confirmed=1.0, Deaths=0.0, Recovered=0.0),\n",
              " Row(SNo=2, ObservationDate='01/22/2020', Province/State='Beijing', Country/Region='Mainland China', Last Update='1/22/2020 17:00', Confirmed=14.0, Deaths=0.0, Recovered=0.0),\n",
              " Row(SNo=3, ObservationDate='01/22/2020', Province/State='Chongqing', Country/Region='Mainland China', Last Update='1/22/2020 17:00', Confirmed=6.0, Deaths=0.0, Recovered=0.0),\n",
              " Row(SNo=4, ObservationDate='01/22/2020', Province/State='Fujian', Country/Region='Mainland China', Last Update='1/22/2020 17:00', Confirmed=1.0, Deaths=0.0, Recovered=0.0),\n",
              " Row(SNo=5, ObservationDate='01/22/2020', Province/State='Gansu', Country/Region='Mainland China', Last Update='1/22/2020 17:00', Confirmed=0.0, Deaths=0.0, Recovered=0.0),\n",
              " Row(SNo=6, ObservationDate='01/22/2020', Province/State='Guangdong', Country/Region='Mainland China', Last Update='1/22/2020 17:00', Confirmed=26.0, Deaths=0.0, Recovered=0.0),\n",
              " Row(SNo=7, ObservationDate='01/22/2020', Province/State='Guangxi', Country/Region='Mainland China', Last Update='1/22/2020 17:00', Confirmed=2.0, Deaths=0.0, Recovered=0.0),\n",
              " Row(SNo=8, ObservationDate='01/22/2020', Province/State='Guizhou', Country/Region='Mainland China', Last Update='1/22/2020 17:00', Confirmed=1.0, Deaths=0.0, Recovered=0.0),\n",
              " Row(SNo=9, ObservationDate='01/22/2020', Province/State='Hainan', Country/Region='Mainland China', Last Update='1/22/2020 17:00', Confirmed=4.0, Deaths=0.0, Recovered=0.0),\n",
              " Row(SNo=10, ObservationDate='01/22/2020', Province/State='Hebei', Country/Region='Mainland China', Last Update='1/22/2020 17:00', Confirmed=1.0, Deaths=0.0, Recovered=0.0)]"
            ]
          },
          "metadata": {
            "tags": []
          },
          "execution_count": 83
        }
      ]
    },
    {
      "cell_type": "markdown",
      "metadata": {
        "id": "WGWTTGjt6tTp",
        "colab_type": "text"
      },
      "source": [
        "**Filtering** data by country wise\n"
      ]
    },
    {
      "cell_type": "code",
      "metadata": {
        "id": "XTI0GMNJAzOO",
        "colab_type": "code",
        "colab": {
          "base_uri": "https://localhost:8080/",
          "height": 476
        },
        "outputId": "c0abea0e-f2e9-49d1-89ee-4de9c18718be"
      },
      "source": [
        "from pyspark.sql.functions import col\n",
        "t=time() \n",
        "corona_dataFrame.filter(col(\"Country/Region\")==(\"Luxembourg\")).show()\n",
        "print(\"The processing Time is: \", time()- t,\"seconds\")"
      ],
      "execution_count": null,
      "outputs": [
        {
          "output_type": "stream",
          "text": [
            "+----+---------------+--------------+--------------+-------------------+---------+------+---------+\n",
            "| SNo|ObservationDate|Province/State|Country/Region|        Last Update|Confirmed|Deaths|Recovered|\n",
            "+----+---------------+--------------+--------------+-------------------+---------+------+---------+\n",
            "|2796|     02/29/2020|          null|    Luxembourg|2020-02-29T21:03:05|      1.0|   0.0|      0.0|\n",
            "|2922|     03/01/2020|          null|    Luxembourg|2020-03-01T07:13:07|      1.0|   0.0|      0.0|\n",
            "|3055|     03/02/2020|          null|    Luxembourg|2020-03-01T07:13:07|      1.0|   0.0|      0.0|\n",
            "|3204|     03/03/2020|          null|    Luxembourg|2020-03-03T00:23:16|      1.0|   0.0|      0.0|\n",
            "|3366|     03/04/2020|          null|    Luxembourg|2020-03-03T00:23:16|      1.0|   0.0|      0.0|\n",
            "|3535|     03/05/2020|          null|    Luxembourg|2020-03-03T00:23:16|      1.0|   0.0|      0.0|\n",
            "|3690|     03/06/2020|          null|    Luxembourg|2020-03-06T01:29:39|      2.0|   0.0|      0.0|\n",
            "|3901|     03/07/2020|          null|    Luxembourg|2020-03-06T01:29:39|      2.0|   0.0|      0.0|\n",
            "|4130|     03/08/2020|          null|    Luxembourg|2020-03-08T05:13:06|      3.0|   0.0|      0.0|\n",
            "|4389|     03/09/2020|          null|    Luxembourg|2020-03-08T05:13:06|      3.0|   0.0|      0.0|\n",
            "|4648|     03/10/2020|          null|    Luxembourg|2020-03-10T05:13:07|      5.0|   0.0|      0.0|\n",
            "|4857|     03/11/2020|          null|    Luxembourg|2020-03-11T09:33:12|      7.0|   0.0|      0.0|\n",
            "|5039|     03/12/2020|          null|    Luxembourg|2020-03-12T10:53:03|     19.0|   0.0|      0.0|\n",
            "|5300|     03/13/2020|          null|    Luxembourg|2020-03-11T20:00:00|     34.0|   0.0|      0.0|\n",
            "|5475|     03/14/2020|          null|    Luxembourg|2020-03-14T20:33:03|     51.0|   1.0|      0.0|\n",
            "|5723|     03/15/2020|          null|    Luxembourg|2020-03-15T18:20:18|     59.0|   1.0|      0.0|\n",
            "|5979|     03/16/2020|          null|    Luxembourg|2020-03-16T01:53:03|     77.0|   1.0|      0.0|\n",
            "|6238|     03/17/2020|          null|    Luxembourg|2020-03-17T15:33:06|    140.0|   1.0|      0.0|\n",
            "|6502|     03/18/2020|          null|    Luxembourg|2020-03-18T10:53:02|    203.0|   2.0|      0.0|\n",
            "|6772|     03/19/2020|          null|    Luxembourg|2020-03-19T11:13:18|    335.0|   4.0|      0.0|\n",
            "+----+---------------+--------------+--------------+-------------------+---------+------+---------+\n",
            "only showing top 20 rows\n",
            "\n",
            "The processing Time is:  0.2632124423980713 seconds\n"
          ],
          "name": "stdout"
        }
      ]
    },
    {
      "cell_type": "markdown",
      "metadata": {
        "id": "WLQ5bHSkBn35",
        "colab_type": "text"
      },
      "source": [
        "Filtering the dataFarame where the confirmed case **grater than 100000** and sort with with confirmed column"
      ]
    },
    {
      "cell_type": "code",
      "metadata": {
        "id": "TioSFnnM1O8w",
        "colab_type": "code",
        "colab": {
          "base_uri": "https://localhost:8080/",
          "height": 476
        },
        "outputId": "fa37daf4-9876-42a0-831a-367047c1fd32"
      },
      "source": [
        "t=time()\n",
        "corona_dataFrame.filter(\"Confirmed>100000\").sort(col(\"Confirmed\")).show()\n",
        "print(\"The processing Time is: \", time()- t,\"seconds\")\n"
      ],
      "execution_count": null,
      "outputs": [
        {
          "output_type": "stream",
          "text": [
            "+-----+---------------+--------------+--------------+-------------------+---------+------+---------+\n",
            "|  SNo|ObservationDate|Province/State|Country/Region|        Last Update|Confirmed|Deaths|Recovered|\n",
            "+-----+---------------+--------------+--------------+-------------------+---------+------+---------+\n",
            "|17950|     04/23/2020|    New Jersey|            US|2020-04-24 03:31:35| 100025.0|5426.0|      0.0|\n",
            "|83381|     08/09/2020|      Virginia|            US|2020-08-10 04:34:55| 100086.0|2326.0|      0.0|\n",
            "|11990|     04/05/2020|          null|       Germany|2020-04-05 23:13:44| 100123.0|1584.0|  28700.0|\n",
            "|75420|     07/30/2020|      Amazonas|        Brazil|2020-07-31 04:35:18| 100140.0|3252.0|  84218.0|\n",
            "|83491|     08/10/2020|          null|    Kazakhstan|2020-08-11 04:35:08| 100164.0|1058.0|  73702.0|\n",
            "|61953|     07/12/2020|          null|     Argentina|2020-07-13 04:43:04| 100166.0|1845.0|  42694.0|\n",
            "|82100|     08/08/2020|       Alabama|            US|2020-08-09 04:34:54| 100173.0|1755.0|      0.0|\n",
            "|47673|     06/22/2020|       Florida|            US|2020-06-23 04:33:22| 100217.0|3173.0|      0.0|\n",
            "|73082|     07/27/2020|          null|     Indonesia|2020-07-28 04:58:43| 100303.0|4838.0|  58173.0|\n",
            "|40027|     06/11/2020|       Unknown|            UK|2020-06-12 05:09:52| 100306.0|   0.0|      0.0|\n",
            "|79648|     08/04/2020| Uttar Pradesh|         India|2020-08-05 04:34:43| 100310.0|1817.0|  57271.0|\n",
            "|80256|     08/05/2020|    Pernambuco|        Brazil|2020-08-06 04:35:02| 100321.0|6758.0|  77142.0|\n",
            "|26034|     05/18/2020|          null|         India|2020-05-19 02:32:18| 100328.0|3156.0|  39233.0|\n",
            "|63222|     07/13/2020|  Pennsylvania|            US|2020-07-14 04:34:46| 100330.0|6911.0|      0.0|\n",
            "|57697|     07/06/2020|          null|         Qatar|2020-07-07 04:34:00| 100345.0| 133.0|  93898.0|\n",
            "|26999|     05/20/2020|      Illinois|            US|2020-05-21 02:32:48| 100418.0|4525.0|      0.0|\n",
            "|83307|     08/09/2020|South Carolina|            US|2020-08-10 04:34:55| 100435.0|2031.0|      0.0|\n",
            "|52283|     06/28/2020|          Para|        Brazil|2020-06-29 04:33:44| 100443.0|4845.0|  86893.0|\n",
            "|58619|     07/07/2020|       Georgia|            US|2020-07-08 05:33:48| 100470.0|2899.0|      0.0|\n",
            "|32342|     05/31/2020|          Lima|          Peru|2020-06-01 02:32:46| 100526.0|1709.0|      0.0|\n",
            "+-----+---------------+--------------+--------------+-------------------+---------+------+---------+\n",
            "only showing top 20 rows\n",
            "\n",
            "The processing Time is:  0.45359015464782715 seconds\n"
          ],
          "name": "stdout"
        }
      ]
    },
    {
      "cell_type": "markdown",
      "metadata": {
        "id": "z6foJuXPG1y3",
        "colab_type": "text"
      },
      "source": [
        "Sort by **Ascending** **descending** (ASC & DSC)"
      ]
    },
    {
      "cell_type": "code",
      "metadata": {
        "id": "-bHZ5VUfG3pY",
        "colab_type": "code",
        "colab": {
          "base_uri": "https://localhost:8080/",
          "height": 476
        },
        "outputId": "777b4d9a-1d87-427e-b9c6-fed96ad51c97"
      },
      "source": [
        "#sort Country/Region column with ascending and Last update with descending order\n",
        "t=time()\n",
        "corona_dataFrame.sort(col(\"Country/Region\").asc(), col(\"Last Update\").desc()).show(truncate=False)\n",
        "print(\"The processing Time is: \", time()- t,\"seconds\")\n"
      ],
      "execution_count": null,
      "outputs": [
        {
          "output_type": "stream",
          "text": [
            "+-----+---------------+--------------+---------------+-------------------+---------+------+---------+\n",
            "|SNo  |ObservationDate|Province/State|Country/Region |Last Update        |Confirmed|Deaths|Recovered|\n",
            "+-----+---------------+--------------+---------------+-------------------+---------+------+---------+\n",
            "|2664 |02/28/2020     |null          | Azerbaijan    |2020-02-28T15:03:26|1.0      |0.0   |0.0      |\n",
            "|4675 |03/10/2020     |null          |('St. Martin',)|2020-03-10T05:33:02|2.0      |0.0   |0.0      |\n",
            "|12248|04/06/2020     |null          |Afghanistan    |4/6/20 9:37        |367.0    |11.0  |18.0     |\n",
            "|11613|04/04/2020     |null          |Afghanistan    |4/4/20 9:38        |299.0    |7.0   |10.0     |\n",
            "|10983|04/02/2020     |null          |Afghanistan    |4/2/20 8:53        |273.0    |6.0   |10.0     |\n",
            "|10045|03/30/2020     |null          |Afghanistan    |3/8/20 5:31        |170.0    |4.0   |2.0      |\n",
            "|9423 |03/28/2020     |null          |Afghanistan    |3/8/20 5:31        |110.0    |4.0   |2.0      |\n",
            "|9734 |03/29/2020     |null          |Afghanistan    |3/8/20 5:31        |120.0    |4.0   |2.0      |\n",
            "|7618 |03/22/2020     |null          |Afghanistan    |3/8/20 5:31        |40.0     |1.0   |1.0      |\n",
            "|84897|08/12/2020     |null          |Afghanistan    |2020-08-13 04:29:15|37345.0  |1354.0|26694.0  |\n",
            "|84155|08/11/2020     |null          |Afghanistan    |2020-08-12 04:27:29|37269.0  |1344.0|26415.0  |\n",
            "|83412|08/10/2020     |null          |Afghanistan    |2020-08-11 04:35:08|37162.0  |1328.0|26228.0  |\n",
            "|82669|08/09/2020     |null          |Afghanistan    |2020-08-10 04:34:55|37054.0  |1312.0|25960.0  |\n",
            "|81926|08/08/2020     |null          |Afghanistan    |2020-08-09 04:34:54|37054.0  |1312.0|25960.0  |\n",
            "|81183|08/07/2020     |null          |Afghanistan    |2020-08-08 04:34:53|37015.0  |1307.0|25903.0  |\n",
            "|80440|08/06/2020     |null          |Afghanistan    |2020-08-07 04:35:11|36896.0  |1298.0|25840.0  |\n",
            "|79697|08/05/2020     |null          |Afghanistan    |2020-08-06 04:35:02|36829.0  |1294.0|25742.0  |\n",
            "|78954|08/04/2020     |null          |Afghanistan    |2020-08-05 04:34:43|36782.0  |1288.0|25669.0  |\n",
            "|78211|08/03/2020     |null          |Afghanistan    |2020-08-04 04:41:59|36747.0  |1288.0|25669.0  |\n",
            "|77468|08/02/2020     |null          |Afghanistan    |2020-08-03 04:34:35|36710.0  |1284.0|25510.0  |\n",
            "+-----+---------------+--------------+---------------+-------------------+---------+------+---------+\n",
            "only showing top 20 rows\n",
            "\n",
            "The processing Time is:  0.474912166595459 seconds\n"
          ],
          "name": "stdout"
        }
      ]
    },
    {
      "cell_type": "markdown",
      "metadata": {
        "id": "iezm1JyvL12M",
        "colab_type": "text"
      },
      "source": [
        "Finding **Maximum & minimum** deaths, confirmed and recovered"
      ]
    },
    {
      "cell_type": "code",
      "metadata": {
        "id": "xgH81k7sNS-T",
        "colab_type": "code",
        "colab": {
          "base_uri": "https://localhost:8080/",
          "height": 1000
        },
        "outputId": "43db36cd-b120-4d3e-ce10-b2827dc2bc0f"
      },
      "source": [
        "t=time()\n",
        "corona_dataFrame.groupby('Country/Region').agg({'Confirmed': 'max'}).show()\n",
        "corona_dataFrame.groupby('Country/Region').agg({'Deaths': 'max'}).show()\n",
        "corona_dataFrame.groupby('Country/Region').agg({'Recovered': 'max'}).show()\n",
        "corona_dataFrame.groupBy(\"Country/Region\",\"Province/State\").agg(F.max(\"ObservationDate\")).show()\n",
        "print(\"The processing Time is: \", time()- t,\"seconds\")"
      ],
      "execution_count": null,
      "outputs": [
        {
          "output_type": "stream",
          "text": [
            "+--------------+--------------+\n",
            "|Country/Region|max(Confirmed)|\n",
            "+--------------+--------------+\n",
            "|          Chad|         949.0|\n",
            "|        Russia|      405843.0|\n",
            "|      Paraguay|        8018.0|\n",
            "| North Ireland|           1.0|\n",
            "|         Yemen|        1841.0|\n",
            "|       Senegal|       11587.0|\n",
            "|        Sweden|       41883.0|\n",
            "|    Cabo Verde|        3000.0|\n",
            "|        Guyana|         623.0|\n",
            "|   Philippines|      143749.0|\n",
            "|        Jersey|           2.0|\n",
            "|       Eritrea|         285.0|\n",
            "|         Burma|         361.0|\n",
            "|      Djibouti|        5358.0|\n",
            "|     Singapore|       55395.0|\n",
            "|      Malaysia|        9114.0|\n",
            "|          Fiji|          27.0|\n",
            "|        Turkey|      244392.0|\n",
            "|        Malawi|        4752.0|\n",
            "|Western Sahara|          10.0|\n",
            "+--------------+--------------+\n",
            "only showing top 20 rows\n",
            "\n",
            "+--------------+-----------+\n",
            "|Country/Region|max(Deaths)|\n",
            "+--------------+-----------+\n",
            "|          Chad|       76.0|\n",
            "|        Russia|     4693.0|\n",
            "|      Paraguay|       93.0|\n",
            "| North Ireland|        0.0|\n",
            "|         Yemen|      528.0|\n",
            "|       Senegal|      242.0|\n",
            "|        Sweden|     4562.0|\n",
            "|    Cabo Verde|       33.0|\n",
            "|        Guyana|       22.0|\n",
            "|   Philippines|     2404.0|\n",
            "|        Jersey|        0.0|\n",
            "|       Eritrea|        0.0|\n",
            "|         Burma|        6.0|\n",
            "|      Djibouti|       59.0|\n",
            "|     Singapore|       27.0|\n",
            "|      Malaysia|      125.0|\n",
            "|          Fiji|        1.0|\n",
            "|        Turkey|     5891.0|\n",
            "|        Malawi|      152.0|\n",
            "|Western Sahara|        1.0|\n",
            "+--------------+-----------+\n",
            "only showing top 20 rows\n",
            "\n",
            "+--------------+--------------+\n",
            "|Country/Region|max(Recovered)|\n",
            "+--------------+--------------+\n",
            "|          Chad|         859.0|\n",
            "|        Russia|      192686.0|\n",
            "|      Paraguay|        5384.0|\n",
            "| North Ireland|           0.0|\n",
            "|         Yemen|         937.0|\n",
            "|       Senegal|        7523.0|\n",
            "|        Sweden|        4971.0|\n",
            "|    Cabo Verde|        2172.0|\n",
            "|        Guyana|         191.0|\n",
            "|   Philippines|       68997.0|\n",
            "|        Jersey|           0.0|\n",
            "|       Eritrea|         248.0|\n",
            "|         Burma|         318.0|\n",
            "|      Djibouti|        5150.0|\n",
            "|     Singapore|       50520.0|\n",
            "|      Malaysia|        8817.0|\n",
            "|          Fiji|          18.0|\n",
            "|        Turkey|      227089.0|\n",
            "|        Malawi|        2529.0|\n",
            "|Western Sahara|           8.0|\n",
            "+--------------+--------------+\n",
            "only showing top 20 rows\n",
            "\n",
            "+--------------+--------------------+--------------------+\n",
            "|Country/Region|      Province/State|max(ObservationDate)|\n",
            "+--------------+--------------------+--------------------+\n",
            "|         India|         Maharashtra|          08/12/2020|\n",
            "|   Netherlands|       Noord-Brabant|          08/12/2020|\n",
            "|            US|  Douglas County, CO|          03/09/2020|\n",
            "|          Chad|                null|          08/12/2020|\n",
            "|         India|Dadra and Nagar H...|          08/12/2020|\n",
            "|         India|                 Goa|          08/12/2020|\n",
            "|          Peru|               Pasco|          08/12/2020|\n",
            "|      Paraguay|                null|          08/12/2020|\n",
            "|        Russia|                null|          05/31/2020|\n",
            "|        Sweden|             Gotland|          08/12/2020|\n",
            "|            US|            Michigan|          08/12/2020|\n",
            "|   Netherlands|             Limburg|          08/12/2020|\n",
            "|   Netherlands|       Noord-Holland|          08/12/2020|\n",
            "|         Spain|         Extremadura|          08/12/2020|\n",
            "|Mainland China|               Gansu|          08/12/2020|\n",
            "|            US|            Colorado|          08/12/2020|\n",
            "|            US|Grand Princess Cr...|          03/09/2020|\n",
            "|         India|       Uttar Pradesh|          08/12/2020|\n",
            "|         Japan|               Shiga|          08/12/2020|\n",
            "| North Ireland|                null|          02/28/2020|\n",
            "+--------------+--------------------+--------------------+\n",
            "only showing top 20 rows\n",
            "\n",
            "The processing Time is:  2.2902889251708984 seconds\n"
          ],
          "name": "stdout"
        }
      ]
    },
    {
      "cell_type": "markdown",
      "metadata": {
        "id": "vA3ieYUevm3D",
        "colab_type": "text"
      },
      "source": [
        "Joining another column using join, agg, alias methods"
      ]
    },
    {
      "cell_type": "code",
      "metadata": {
        "id": "MIEUiSPRviYg",
        "colab_type": "code",
        "colab": {
          "base_uri": "https://localhost:8080/",
          "height": 1000
        },
        "outputId": "9261aa94-33a5-45b1-baf6-f4c1e012e947"
      },
      "source": [
        "t=time()\n",
        "maximum_data = corona_dataFrame.join(corona_dataFrame.groupBy(\"Country/Region\",\"Province/State\").agg(F.max(\"Confirmed\").alias(\"Confirmed\")),on=[\"Country/Region\", \"Province/State\",\"Confirmed\"],how=\"Leftouter\")\n",
        "maximum_data.show(100)\n",
        "print(\"The processing Time is: \", time()- t,\"seconds\")"
      ],
      "execution_count": null,
      "outputs": [
        {
          "output_type": "stream",
          "text": [
            "+--------------+--------------+---------+---+---------------+---------------+------+---------+\n",
            "|Country/Region|Province/State|Confirmed|SNo|ObservationDate|    Last Update|Deaths|Recovered|\n",
            "+--------------+--------------+---------+---+---------------+---------------+------+---------+\n",
            "|Mainland China|         Anhui|      1.0|  1|     01/22/2020|1/22/2020 17:00|   0.0|      0.0|\n",
            "|Mainland China|       Beijing|     14.0|  2|     01/22/2020|1/22/2020 17:00|   0.0|      0.0|\n",
            "|Mainland China|     Chongqing|      6.0|  3|     01/22/2020|1/22/2020 17:00|   0.0|      0.0|\n",
            "|Mainland China|        Fujian|      1.0|  4|     01/22/2020|1/22/2020 17:00|   0.0|      0.0|\n",
            "|Mainland China|         Gansu|      0.0|  5|     01/22/2020|1/22/2020 17:00|   0.0|      0.0|\n",
            "|Mainland China|     Guangdong|     26.0|  6|     01/22/2020|1/22/2020 17:00|   0.0|      0.0|\n",
            "|Mainland China|       Guangxi|      2.0|  7|     01/22/2020|1/22/2020 17:00|   0.0|      0.0|\n",
            "|Mainland China|       Guizhou|      1.0|  8|     01/22/2020|1/22/2020 17:00|   0.0|      0.0|\n",
            "|Mainland China|        Hainan|      4.0|  9|     01/22/2020|1/22/2020 17:00|   0.0|      0.0|\n",
            "|Mainland China|         Hebei|      1.0| 10|     01/22/2020|1/22/2020 17:00|   0.0|      0.0|\n",
            "|Mainland China|  Heilongjiang|      0.0| 11|     01/22/2020|1/22/2020 17:00|   0.0|      0.0|\n",
            "|Mainland China|         Henan|      5.0| 12|     01/22/2020|1/22/2020 17:00|   0.0|      0.0|\n",
            "|     Hong Kong|     Hong Kong|      0.0| 13|     01/22/2020|1/22/2020 17:00|   0.0|      0.0|\n",
            "|Mainland China|         Hubei|    444.0| 14|     01/22/2020|1/22/2020 17:00|  17.0|     28.0|\n",
            "|Mainland China|         Hunan|      4.0| 15|     01/22/2020|1/22/2020 17:00|   0.0|      0.0|\n",
            "|Mainland China|Inner Mongolia|      0.0| 16|     01/22/2020|1/22/2020 17:00|   0.0|      0.0|\n",
            "|Mainland China|       Jiangsu|      1.0| 17|     01/22/2020|1/22/2020 17:00|   0.0|      0.0|\n",
            "|Mainland China|       Jiangxi|      2.0| 18|     01/22/2020|1/22/2020 17:00|   0.0|      0.0|\n",
            "|Mainland China|         Jilin|      0.0| 19|     01/22/2020|1/22/2020 17:00|   0.0|      0.0|\n",
            "|Mainland China|      Liaoning|      2.0| 20|     01/22/2020|1/22/2020 17:00|   0.0|      0.0|\n",
            "|         Macau|         Macau|      1.0| 21|     01/22/2020|1/22/2020 17:00|   0.0|      0.0|\n",
            "|Mainland China|       Ningxia|      1.0| 22|     01/22/2020|1/22/2020 17:00|   0.0|      0.0|\n",
            "|Mainland China|       Qinghai|      0.0| 23|     01/22/2020|1/22/2020 17:00|   0.0|      0.0|\n",
            "|Mainland China|       Shaanxi|      0.0| 24|     01/22/2020|1/22/2020 17:00|   0.0|      0.0|\n",
            "|Mainland China|      Shandong|      2.0| 25|     01/22/2020|1/22/2020 17:00|   0.0|      0.0|\n",
            "|Mainland China|      Shanghai|      9.0| 26|     01/22/2020|1/22/2020 17:00|   0.0|      0.0|\n",
            "|Mainland China|        Shanxi|      1.0| 27|     01/22/2020|1/22/2020 17:00|   0.0|      0.0|\n",
            "|Mainland China|       Sichuan|      5.0| 28|     01/22/2020|1/22/2020 17:00|   0.0|      0.0|\n",
            "|        Taiwan|        Taiwan|      1.0| 29|     01/22/2020|1/22/2020 17:00|   0.0|      0.0|\n",
            "|Mainland China|       Tianjin|      4.0| 30|     01/22/2020|1/22/2020 17:00|   0.0|      0.0|\n",
            "|Mainland China|         Tibet|      0.0| 31|     01/22/2020|1/22/2020 17:00|   0.0|      0.0|\n",
            "|            US|    Washington|      1.0| 32|     01/22/2020|1/22/2020 17:00|   0.0|      0.0|\n",
            "|Mainland China|      Xinjiang|      0.0| 33|     01/22/2020|1/22/2020 17:00|   0.0|      0.0|\n",
            "|Mainland China|        Yunnan|      1.0| 34|     01/22/2020|1/22/2020 17:00|   0.0|      0.0|\n",
            "|Mainland China|      Zhejiang|     10.0| 35|     01/22/2020|1/22/2020 17:00|   0.0|      0.0|\n",
            "|         Japan|          null|      2.0| 36|     01/22/2020|1/22/2020 17:00|   0.0|      0.0|\n",
            "|      Thailand|          null|      2.0| 37|     01/22/2020|1/22/2020 17:00|   0.0|      0.0|\n",
            "|   South Korea|          null|      1.0| 38|     01/22/2020|1/22/2020 17:00|   0.0|      0.0|\n",
            "|Mainland China|         Anhui|      9.0| 39|     01/23/2020|  1/23/20 17:00|   0.0|      0.0|\n",
            "|Mainland China|       Beijing|     22.0| 40|     01/23/2020|  1/23/20 17:00|   0.0|      0.0|\n",
            "|Mainland China|     Chongqing|      9.0| 41|     01/23/2020|  1/23/20 17:00|   0.0|      0.0|\n",
            "|Mainland China|        Fujian|      5.0| 42|     01/23/2020|  1/23/20 17:00|   0.0|      0.0|\n",
            "|Mainland China|         Gansu|      2.0| 43|     01/23/2020|  1/23/20 17:00|   0.0|      0.0|\n",
            "|Mainland China|     Guangdong|     32.0| 44|     01/23/2020|  1/23/20 17:00|   0.0|      2.0|\n",
            "|Mainland China|       Guangxi|      5.0| 45|     01/23/2020|  1/23/20 17:00|   0.0|      0.0|\n",
            "|Mainland China|       Guizhou|      3.0| 46|     01/23/2020|  1/23/20 17:00|   0.0|      0.0|\n",
            "|Mainland China|        Hainan|      5.0| 47|     01/23/2020|  1/23/20 17:00|   0.0|      0.0|\n",
            "|Mainland China|         Hebei|      1.0| 48|     01/23/2020|  1/23/20 17:00|   1.0|      0.0|\n",
            "|Mainland China|  Heilongjiang|      2.0| 49|     01/23/2020|  1/23/20 17:00|   0.0|      0.0|\n",
            "|Mainland China|         Henan|      5.0| 50|     01/23/2020|  1/23/20 17:00|   0.0|      0.0|\n",
            "|     Hong Kong|     Hong Kong|      2.0| 51|     01/23/2020|  1/23/20 17:00|   0.0|      0.0|\n",
            "|Mainland China|         Hubei|    444.0| 52|     01/23/2020|  1/23/20 17:00|  17.0|     28.0|\n",
            "|Mainland China|         Hunan|      9.0| 53|     01/23/2020|  1/23/20 17:00|   0.0|      0.0|\n",
            "|Mainland China|Inner Mongolia|      0.0| 54|     01/23/2020|  1/23/20 17:00|   0.0|      0.0|\n",
            "|Mainland China|       Jiangsu|      5.0| 55|     01/23/2020|  1/23/20 17:00|   0.0|      0.0|\n",
            "|Mainland China|       Jiangxi|      7.0| 56|     01/23/2020|  1/23/20 17:00|   0.0|      0.0|\n",
            "|Mainland China|         Jilin|      1.0| 57|     01/23/2020|  1/23/20 17:00|   0.0|      0.0|\n",
            "|Mainland China|      Liaoning|      3.0| 58|     01/23/2020|  1/23/20 17:00|   0.0|      0.0|\n",
            "|         Macau|         Macau|      2.0| 59|     01/23/2020|  1/23/20 17:00|   0.0|      0.0|\n",
            "|Mainland China|       Ningxia|      1.0| 60|     01/23/2020|  1/23/20 17:00|   0.0|      0.0|\n",
            "|Mainland China|       Qinghai|      0.0| 61|     01/23/2020|  1/23/20 17:00|   0.0|      0.0|\n",
            "|Mainland China|       Shaanxi|      3.0| 62|     01/23/2020|  1/23/20 17:00|   0.0|      0.0|\n",
            "|Mainland China|      Shandong|      6.0| 63|     01/23/2020|  1/23/20 17:00|   0.0|      0.0|\n",
            "|Mainland China|      Shanghai|     16.0| 64|     01/23/2020|  1/23/20 17:00|   0.0|      0.0|\n",
            "|Mainland China|        Shanxi|      1.0| 65|     01/23/2020|  1/23/20 17:00|   0.0|      0.0|\n",
            "|Mainland China|       Sichuan|      8.0| 66|     01/23/2020|  1/23/20 17:00|   0.0|      0.0|\n",
            "|        Taiwan|        Taiwan|      1.0| 67|     01/23/2020|  1/23/20 17:00|   0.0|      0.0|\n",
            "|Mainland China|       Tianjin|      4.0| 68|     01/23/2020|  1/23/20 17:00|   0.0|      0.0|\n",
            "|Mainland China|         Tibet|      0.0| 69|     01/23/2020|  1/23/20 17:00|   0.0|      0.0|\n",
            "|            US|    Washington|      1.0| 70|     01/23/2020|  1/23/20 17:00|   0.0|      0.0|\n",
            "|Mainland China|      Xinjiang|      2.0| 71|     01/23/2020|  1/23/20 17:00|   0.0|      0.0|\n",
            "|Mainland China|        Yunnan|      2.0| 72|     01/23/2020|  1/23/20 17:00|   0.0|      0.0|\n",
            "|Mainland China|      Zhejiang|     27.0| 73|     01/23/2020|  1/23/20 17:00|   0.0|      0.0|\n",
            "|         Japan|          null|      1.0| 74|     01/23/2020|  1/23/20 17:00|   0.0|      0.0|\n",
            "|      Thailand|          null|      3.0| 75|     01/23/2020|  1/23/20 17:00|   0.0|      0.0|\n",
            "|   South Korea|          null|      1.0| 76|     01/23/2020|  1/23/20 17:00|   0.0|      0.0|\n",
            "|     Singapore|          null|      1.0| 77|     01/23/2020|  1/23/20 17:00|   0.0|      0.0|\n",
            "|   Philippines|          null|      0.0| 78|     01/23/2020|  1/23/20 17:00|   0.0|      0.0|\n",
            "|      Malaysia|          null|      0.0| 79|     01/23/2020|  1/23/20 17:00|   0.0|      0.0|\n",
            "|       Vietnam|          null|      2.0| 80|     01/23/2020|  1/23/20 17:00|   0.0|      0.0|\n",
            "|     Australia|          null|      0.0| 81|     01/23/2020|  1/23/20 17:00|   0.0|      0.0|\n",
            "|        Mexico|          null|      0.0| 82|     01/23/2020|  1/23/20 17:00|   0.0|      0.0|\n",
            "|        Brazil|          null|      0.0| 83|     01/23/2020|  1/23/20 17:00|   0.0|      0.0|\n",
            "|      Colombia|          null|      0.0| 84|     01/23/2020|  1/23/20 17:00|   0.0|      0.0|\n",
            "|Mainland China|         Hubei|    549.0| 85|     01/24/2020|  1/24/20 17:00|  24.0|     31.0|\n",
            "|Mainland China|     Guangdong|     53.0| 86|     01/24/2020|  1/24/20 17:00|   0.0|      2.0|\n",
            "|Mainland China|      Zhejiang|     43.0| 87|     01/24/2020|  1/24/20 17:00|   0.0|      1.0|\n",
            "|Mainland China|       Beijing|     36.0| 88|     01/24/2020|  1/24/20 17:00|   0.0|      1.0|\n",
            "|Mainland China|     Chongqing|     27.0| 89|     01/24/2020|  1/24/20 17:00|   0.0|      0.0|\n",
            "|Mainland China|         Hunan|     24.0| 90|     01/24/2020|  1/24/20 17:00|   0.0|      0.0|\n",
            "|Mainland China|       Guangxi|     23.0| 91|     01/24/2020|  1/24/20 17:00|   0.0|      0.0|\n",
            "|Mainland China|      Shanghai|     20.0| 92|     01/24/2020|  1/24/20 17:00|   0.0|      1.0|\n",
            "|Mainland China|       Jiangxi|     18.0| 93|     01/24/2020|  1/24/20 17:00|   0.0|      0.0|\n",
            "|Mainland China|       Sichuan|     15.0| 94|     01/24/2020|  1/24/20 17:00|   0.0|      0.0|\n",
            "|Mainland China|      Shandong|     15.0| 95|     01/24/2020|  1/24/20 17:00|   0.0|      0.0|\n",
            "|Mainland China|         Anhui|     15.0| 96|     01/24/2020|  1/24/20 17:00|   0.0|      0.0|\n",
            "|Mainland China|        Fujian|     10.0| 97|     01/24/2020|  1/24/20 17:00|   0.0|      0.0|\n",
            "|Mainland China|         Henan|      9.0| 98|     01/24/2020|  1/24/20 17:00|   0.0|      0.0|\n",
            "|Mainland China|       Jiangsu|      9.0| 99|     01/24/2020|  1/24/20 17:00|   0.0|      0.0|\n",
            "|Mainland China|        Hainan|      8.0|100|     01/24/2020|  1/24/20 17:00|   0.0|      0.0|\n",
            "+--------------+--------------+---------+---+---------------+---------------+------+---------+\n",
            "only showing top 100 rows\n",
            "\n",
            "The processing Time is:  1.470759391784668 seconds\n"
          ],
          "name": "stdout"
        }
      ]
    },
    {
      "cell_type": "code",
      "metadata": {
        "id": "3VOKclyG3Wsl",
        "colab_type": "code",
        "colab": {
          "base_uri": "https://localhost:8080/",
          "height": 476
        },
        "outputId": "4300bf75-bafe-4fe4-e434-1ff429c4e167"
      },
      "source": [
        "t=time()\n",
        "corona_dataFrame.join(corona_dataFrame.groupBy(\"Country/Region\",\"Province/State\").agg(F.max(\"ObservationDate\").alias(\"ObservationDate\")),on=[\"Country/Region\", \"Province/State\",\"ObservationDate\"],how=\"inner\").show()\n",
        "print(\"The processing Time is: \", time()- t,\"seconds\")"
      ],
      "execution_count": null,
      "outputs": [
        {
          "output_type": "stream",
          "text": [
            "+--------------+--------------------+---------------+----+-------------------+---------+------+---------+\n",
            "|Country/Region|      Province/State|ObservationDate| SNo|        Last Update|Confirmed|Deaths|Recovered|\n",
            "+--------------+--------------------+---------------+----+-------------------+---------+------+---------+\n",
            "|            US|             Chicago|     01/24/2020| 119|      1/24/20 17:00|      1.0|   0.0|      0.0|\n",
            "|       Germany|             Bavaria|     01/31/2020| 472|    1/31/2020 23:59|      5.0|   0.0|      0.0|\n",
            "|        Others|         Cruise Ship|     02/08/2020|1006|2020-02-07T16:33:03|     61.0|   0.0|      0.0|\n",
            "|            US|         Ashland, NE|     02/21/2020|1986|2020-02-21T23:23:06|     11.0|   0.0|      0.0|\n",
            "|            US|          Travis, CA|     02/21/2020|1992|2020-02-21T23:23:06|      5.0|   0.0|      0.0|\n",
            "|            US|        Lackland, TX|     02/21/2020|2003|2020-02-21T23:23:06|      2.0|   0.0|      0.0|\n",
            "|       Lebanon|                None|     02/21/2020|2013|2020-02-21T15:33:03|      1.0|   0.0|      0.0|\n",
            "|          Iraq|                None|     02/23/2020|2195|2020-02-23T18:23:06|      0.0|   0.0|      0.0|\n",
            "|       Austria|                None|     02/25/2020|2345|2020-02-25T18:55:32|      2.0|   0.0|      0.0|\n",
            "|        Israel|From Diamond Prin...|     02/25/2020|2361|2020-02-22T20:53:02|      1.0|   0.0|      0.0|\n",
            "|            US|         Seattle, WA|     03/01/2020|2879|2020-03-01T21:13:12|      9.0|   1.0|      1.0|\n",
            "|            US|         Chicago, IL|     03/01/2020|2900|2020-03-01T03:53:02|      3.0|   0.0|      2.0|\n",
            "|            US|        Portland, OR|     03/02/2020|3037|2020-03-02T03:33:08|      2.0|   0.0|      0.0|\n",
            "|            US|          Orange, CA|     03/03/2020|3222|2020-02-01T19:53:03|      1.0|   0.0|      0.0|\n",
            "|            US|   New York City, NY|     03/05/2020|3493|2020-03-05T21:03:13|      4.0|   0.0|      0.0|\n",
            "|            US|          Boston, MA|     03/05/2020|3547|2020-02-28T21:13:12|      1.0|   0.0|      1.0|\n",
            "|            US|   Queens County, NY|     03/05/2020|3555|2020-03-05T21:43:02|      1.0|   0.0|      0.0|\n",
            "|            US|     Santa Clara, CA|     03/06/2020|3634|2020-03-05T22:53:03|     20.0|   0.0|      1.0|\n",
            "|            US|      Providence, RI|     03/06/2020|3699|2020-03-02T03:43:02|      2.0|   0.0|      0.0|\n",
            "|            US|        Berkeley, CA|     03/06/2020|3734|2020-03-03T23:53:03|      1.0|   0.0|      0.0|\n",
            "+--------------+--------------------+---------------+----+-------------------+---------+------+---------+\n",
            "only showing top 20 rows\n",
            "\n",
            "The processing Time is:  1.9470674991607666 seconds\n"
          ],
          "name": "stdout"
        }
      ]
    },
    {
      "cell_type": "markdown",
      "metadata": {
        "id": "2LKK5BP13yCc",
        "colab_type": "text"
      },
      "source": [
        "Showing most 10 countries confirmed cases"
      ]
    },
    {
      "cell_type": "code",
      "metadata": {
        "id": "1l6NqHEt34_v",
        "colab_type": "code",
        "colab": {
          "base_uri": "https://localhost:8080/",
          "height": 306
        },
        "outputId": "31518ad6-decf-4c67-e852-e9fb071532dc"
      },
      "source": [
        "t=time()\n",
        "corona_dataFrame.join(corona_dataFrame.groupBy(\"Country/Region\",\"Province/State\").agg(F.max(\"Confirmed\").alias(\"Confirmed\")),on=[\"Country/Region\", \"Province/State\",\"Confirmed\"],how=\"inner\").sort(\"Confirmed\",ascending=False).show(10)\n",
        "print(\"The processing Time is: \", time()- t,\"seconds\")"
      ],
      "execution_count": null,
      "outputs": [
        {
          "output_type": "stream",
          "text": [
            "+--------------+--------------+---------+-----+---------------+-------------------+-------+---------+\n",
            "|Country/Region|Province/State|Confirmed|  SNo|ObservationDate|        Last Update| Deaths|Recovered|\n",
            "+--------------+--------------+---------+-----+---------------+-------------------+-------+---------+\n",
            "|        Brazil|     Sao Paulo| 655181.0|85509|     08/12/2020|2020-08-13 04:29:15|25869.0| 453612.0|\n",
            "|            US|    California| 591376.0|85140|     08/12/2020|2020-08-13 04:29:15|10753.0|      0.0|\n",
            "|            US|       Florida| 550901.0|85204|     08/12/2020|2020-08-13 04:29:15| 8765.0|      0.0|\n",
            "|         India|   Maharashtra| 548313.0|85348|     08/12/2020|2020-08-13 04:29:15|18650.0| 381843.0|\n",
            "|            US|         Texas| 523977.0|85554|     08/12/2020|2020-08-13 04:29:15| 9527.0|      0.0|\n",
            "|            US|      New York| 422703.0|85405|     08/12/2020|2020-08-13 04:29:15|32797.0|      0.0|\n",
            "|         India|    Tamil Nadu| 314520.0|85547|     08/12/2020|2020-08-13 04:29:15| 5278.0| 256313.0|\n",
            "|            UK|       England| 270971.0|85198|     08/12/2020|2020-08-13 04:29:15|42072.0|      0.0|\n",
            "|         Chile| Metropolitana| 263567.0|85366|     08/12/2020|2020-08-13 04:29:15| 7992.0| 249956.0|\n",
            "|         India|Andhra Pradesh| 254146.0|85085|     08/12/2020|2020-08-13 04:29:15| 2296.0| 161425.0|\n",
            "+--------------+--------------+---------+-----+---------------+-------------------+-------+---------+\n",
            "only showing top 10 rows\n",
            "\n",
            "The processing Time is:  1.8723607063293457 seconds\n"
          ],
          "name": "stdout"
        }
      ]
    },
    {
      "cell_type": "markdown",
      "metadata": {
        "id": "CUujIlpgpN7i",
        "colab_type": "text"
      },
      "source": [
        "Aggregation function or agg() function which helps to show the max or min valule in row for every column with the help of collect() funciton"
      ]
    },
    {
      "cell_type": "code",
      "metadata": {
        "id": "DH73oUeQmest",
        "colab_type": "code",
        "colab": {
          "base_uri": "https://localhost:8080/",
          "height": 34
        },
        "outputId": "b721136b-4670-43d9-b379-fa6b3f984d62"
      },
      "source": [
        "t=time()\n",
        "corona_dataFrame.agg({\"Last Update\":\"max\", \"Confirmed\":\"max\",\"Deaths\":\"max\",\"Recovered\":\"max\"}).collect()\n",
        "print(\"The processing Time is: \", time()- t,\"seconds\")"
      ],
      "execution_count": null,
      "outputs": [
        {
          "output_type": "stream",
          "text": [
            "The processing Time is:  0.3839125633239746 seconds\n"
          ],
          "name": "stdout"
        }
      ]
    },
    {
      "cell_type": "markdown",
      "metadata": {
        "id": "l3WEOsn6qlaw",
        "colab_type": "text"
      },
      "source": [
        "Showing max value in column"
      ]
    },
    {
      "cell_type": "code",
      "metadata": {
        "id": "YDtnc48Rqtvj",
        "colab_type": "code",
        "colab": {
          "base_uri": "https://localhost:8080/",
          "height": 34
        },
        "outputId": "e9c2cb78-561f-44e8-9bad-4fc6969a3bda"
      },
      "source": [
        "t=time()\n",
        "max_recovered = corona_dataFrame.agg({\"Recovered\":\"max\"})\n",
        "max_Confirmed = corona_dataFrame.agg({\"Confirmed\":\"max\"})\n",
        "max_Deaths= corona_dataFrame.agg({\"Deaths\":\"max\"})\n",
        "print(\"The processing Time is: \", time()- t,\"seconds\")\n"
      ],
      "execution_count": null,
      "outputs": [
        {
          "output_type": "stream",
          "text": [
            "The processing Time is:  0.020050525665283203 seconds\n"
          ],
          "name": "stdout"
        }
      ]
    },
    {
      "cell_type": "code",
      "metadata": {
        "id": "rw2_DmIZq9t4",
        "colab_type": "code",
        "colab": {
          "base_uri": "https://localhost:8080/",
          "height": 340
        },
        "outputId": "9aebb2f4-164a-4d3d-806d-0c4f8de8b06e"
      },
      "source": [
        "t=time()\n",
        "max_Confirmed.show()\n",
        "max_recovered.show()\n",
        "max_Deaths.show()\n",
        "print(\"The processing Time is: \", time()- t,\"seconds\")"
      ],
      "execution_count": null,
      "outputs": [
        {
          "output_type": "stream",
          "text": [
            "+--------------+\n",
            "|max(Confirmed)|\n",
            "+--------------+\n",
            "|      655181.0|\n",
            "+--------------+\n",
            "\n",
            "+--------------+\n",
            "|max(Recovered)|\n",
            "+--------------+\n",
            "|     1753760.0|\n",
            "+--------------+\n",
            "\n",
            "+-----------+\n",
            "|max(Deaths)|\n",
            "+-----------+\n",
            "|    42072.0|\n",
            "+-----------+\n",
            "\n",
            "The processing Time is:  0.9158692359924316 seconds\n"
          ],
          "name": "stdout"
        }
      ]
    },
    {
      "cell_type": "markdown",
      "metadata": {
        "id": "wde4xHACNw38",
        "colab_type": "text"
      },
      "source": [
        "Quantile: "
      ]
    },
    {
      "cell_type": "code",
      "metadata": {
        "id": "l2K4UM1rPi4o",
        "colab_type": "code",
        "colab": {
          "base_uri": "https://localhost:8080/",
          "height": 34
        },
        "outputId": "f8fd5bc5-d716-45e7-ea56-d529b23a603b"
      },
      "source": [
        "t=time()\n",
        "corona_dataFrame.filter(\"Confirmed>10000\").approxQuantile(\"Confirmed\",[0.25,0.50,0.75,0.8,0.90,0.95],0.90)\n",
        "print(\"The processing Time is: \", time()- t,\"seconds\")"
      ],
      "execution_count": null,
      "outputs": [
        {
          "output_type": "stream",
          "text": [
            "The processing Time is:  0.33688974380493164 seconds\n"
          ],
          "name": "stdout"
        }
      ]
    },
    {
      "cell_type": "code",
      "metadata": {
        "id": "clr8SjduQUiV",
        "colab_type": "code",
        "colab": {
          "base_uri": "https://localhost:8080/",
          "height": 34
        },
        "outputId": "de062946-3736-4715-c34d-88beaf15e439"
      },
      "source": [
        "t=time()\n",
        "corona_dataFrame.filter(\"Deaths>1000\").approxQuantile(\"Deaths\",[0.25,0.50,0.75,0.90,0.95],0.90)\n",
        "#print(\"The processing Time is: \", time()- t,\"seconds\")"
      ],
      "execution_count": null,
      "outputs": [
        {
          "output_type": "execute_result",
          "data": {
            "text/plain": [
              "[1001.0, 1001.0, 1001.0, 1001.0, 42072.0]"
            ]
          },
          "metadata": {
            "tags": []
          },
          "execution_count": 95
        }
      ]
    },
    {
      "cell_type": "code",
      "metadata": {
        "id": "y5sU5dzIQXN1",
        "colab_type": "code",
        "colab": {
          "base_uri": "https://localhost:8080/",
          "height": 34
        },
        "outputId": "5140d55e-0525-4633-da77-a2e80483dc36"
      },
      "source": [
        "t=time()\n",
        "corona_dataFrame.filter(\"Recovered>1000\").approxQuantile(\"Recovered\",[0.25,0.50,0.75,0.90,0.95],0.90)\n",
        "#print(\"The processing Time is: \", time()- t,\"seconds\")"
      ],
      "execution_count": null,
      "outputs": [
        {
          "output_type": "execute_result",
          "data": {
            "text/plain": [
              "[1001.0, 1001.0, 1001.0, 1001.0, 1753760.0]"
            ]
          },
          "metadata": {
            "tags": []
          },
          "execution_count": 96
        }
      ]
    },
    {
      "cell_type": "markdown",
      "metadata": {
        "id": "IZ7Jx0F__Z8C",
        "colab_type": "text"
      },
      "source": [
        "Partition by Country/Region and Province/State\n",
        "**Window function:**Window functions allow users of Spark SQL to calculate results such as the rank of a given row or a moving average over a range of input rows. They significantly improve the expressiveness of Spark’s SQL and DataFrame APIs.\n"
      ]
    },
    {
      "cell_type": "code",
      "metadata": {
        "id": "thCHdYaj_tN3",
        "colab_type": "code",
        "colab": {
          "base_uri": "https://localhost:8080/",
          "height": 476
        },
        "outputId": "982cf286-1b15-46d7-db14-68785b3b9b25"
      },
      "source": [
        "t=time()\n",
        "window_specification=Window().partitionBy(\"Country/Region\",\"Province/State\").orderBy(col(\"ObservationDate\").desc())\n",
        "corona_dataFrame.withColumn(\"row_No\",row_number().over(window_specification)).show()\n",
        "print(\"The processing Time is: \", time()- t,\"seconds\")"
      ],
      "execution_count": null,
      "outputs": [
        {
          "output_type": "stream",
          "text": [
            "+-----+---------------+--------------+--------------+-------------------+---------+-------+---------+------+\n",
            "|  SNo|ObservationDate|Province/State|Country/Region|        Last Update|Confirmed| Deaths|Recovered|row_No|\n",
            "+-----+---------------+--------------+--------------+-------------------+---------+-------+---------+------+\n",
            "|85348|     08/12/2020|   Maharashtra|         India|2020-08-13 04:29:15| 548313.0|18650.0| 381843.0|     1|\n",
            "|84606|     08/11/2020|   Maharashtra|         India|2020-08-12 04:27:29| 535601.0|18306.0| 368435.0|     2|\n",
            "|83863|     08/10/2020|   Maharashtra|         India|2020-08-11 04:35:08| 524513.0|18050.0| 358421.0|     3|\n",
            "|83120|     08/09/2020|   Maharashtra|         India|2020-08-10 04:34:55| 515332.0|17757.0| 351710.0|     4|\n",
            "|82377|     08/08/2020|   Maharashtra|         India|2020-08-09 04:34:54| 503084.0|17367.0| 338362.0|     5|\n",
            "|81634|     08/07/2020|   Maharashtra|         India|2020-08-08 04:34:53| 490262.0|17092.0| 327281.0|     6|\n",
            "|80891|     08/06/2020|   Maharashtra|         India|2020-08-07 04:35:11| 479779.0|16792.0| 316375.0|     7|\n",
            "|80148|     08/05/2020|   Maharashtra|         India|2020-08-06 04:35:02| 468265.0|16476.0| 305521.0|     8|\n",
            "|79405|     08/04/2020|   Maharashtra|         India|2020-08-05 04:34:43| 457956.0|16142.0| 299356.0|     9|\n",
            "|78662|     08/03/2020|   Maharashtra|         India|2020-08-04 04:41:59| 450196.0|15842.0| 287030.0|    10|\n",
            "|77919|     08/02/2020|   Maharashtra|         India|2020-08-03 04:34:35| 441228.0|15576.0| 276809.0|    11|\n",
            "|77176|     08/01/2020|   Maharashtra|         India|2020-08-02 04:34:47| 431719.0|15316.0| 266883.0|    12|\n",
            "|76433|     07/31/2020|   Maharashtra|         India|2020-08-01 04:36:27| 422118.0|14994.0| 256158.0|    13|\n",
            "|75690|     07/30/2020|   Maharashtra|         India|2020-07-31 04:35:18| 411798.0|14729.0| 248615.0|    14|\n",
            "|74947|     07/29/2020|   Maharashtra|         India|2020-07-30 04:35:05| 400651.0|14463.0| 239755.0|    15|\n",
            "|74204|     07/28/2020|   Maharashtra|         India|2020-07-29 04:35:11| 383723.0|13883.0| 221944.0|    16|\n",
            "|73461|     07/27/2020|   Maharashtra|         India|2020-07-28 04:58:43| 383723.0|13883.0| 221944.0|    17|\n",
            "|72719|     07/26/2020|   Maharashtra|         India|2020-07-27 04:35:02| 375799.0|13656.0| 213238.0|    18|\n",
            "|71977|     07/25/2020|   Maharashtra|         India|2020-07-26 04:35:00| 366368.0|13389.0| 207194.0|    19|\n",
            "|71235|     07/24/2020|   Maharashtra|         India|2020-07-25 04:47:39| 357117.0|13132.0| 199967.0|    20|\n",
            "+-----+---------------+--------------+--------------+-------------------+---------+-------+---------+------+\n",
            "only showing top 20 rows\n",
            "\n",
            "The processing Time is:  0.9367103576660156 seconds\n"
          ],
          "name": "stdout"
        }
      ]
    },
    {
      "cell_type": "markdown",
      "metadata": {
        "id": "yoTWcRrmW-yU",
        "colab_type": "text"
      },
      "source": [
        "showing for each country only the first row number "
      ]
    },
    {
      "cell_type": "code",
      "metadata": {
        "id": "zZ_rdEBvXTp8",
        "colab_type": "code",
        "colab": {
          "base_uri": "https://localhost:8080/",
          "height": 476
        },
        "outputId": "b09b87a7-20b7-4a6d-b07c-227478fc6960"
      },
      "source": [
        "t=time()\n",
        "corona_dataFrame.withColumn(\"row_No\", row_number().over(window_specification)).where(col(\"row_No\")==1).show()\n",
        "print(\"The processing Time is: \", time()- t,\"seconds\")"
      ],
      "execution_count": null,
      "outputs": [
        {
          "output_type": "stream",
          "text": [
            "+-----+---------------+--------------------+--------------+-------------------+---------+-------+---------+------+\n",
            "|  SNo|ObservationDate|      Province/State|Country/Region|        Last Update|Confirmed| Deaths|Recovered|row_No|\n",
            "+-----+---------------+--------------------+--------------+-------------------+---------+-------+---------+------+\n",
            "|85348|     08/12/2020|         Maharashtra|         India|2020-08-13 04:29:15| 548313.0|18650.0| 381843.0|     1|\n",
            "|85411|     08/12/2020|       Noord-Brabant|   Netherlands|2020-08-13 04:29:15|  10873.0| 1542.0|      0.0|     1|\n",
            "| 4396|     03/09/2020|  Douglas County, CO|            US|2020-03-07T01:53:03|      3.0|    0.0|      0.0|     1|\n",
            "|84928|     08/12/2020|                null|          Chad|2020-08-13 04:29:15|    949.0|   76.0|    859.0|     1|\n",
            "|85183|     08/12/2020|Dadra and Nagar H...|         India|2020-08-13 04:29:15|   1696.0|    2.0|   1248.0|     1|\n",
            "|85221|     08/12/2020|                 Goa|         India|2020-08-13 04:29:15|   9924.0|   89.0|   6641.0|     1|\n",
            "|85452|     08/12/2020|               Pasco|          Peru|2020-08-13 04:29:15|   2703.0|   58.0|      0.0|     1|\n",
            "|85016|     08/12/2020|                null|      Paraguay|2020-08-13 04:29:15|   8018.0|   93.0|   5384.0|     1|\n",
            "|32121|     05/31/2020|                null|        Russia|2020-06-01 02:32:46| 405843.0| 4693.0| 171883.0|     1|\n",
            "|85223|     08/12/2020|             Gotland|        Sweden|2020-08-13 04:29:15|    288.0|    6.0|      0.0|     1|\n",
            "|85368|     08/12/2020|            Michigan|            US|2020-08-13 04:29:15|  98689.0| 6539.0|      0.0|     1|\n",
            "|85332|     08/12/2020|             Limburg|   Netherlands|2020-08-13 04:29:15|   5030.0|  754.0|      0.0|     1|\n",
            "|85412|     08/12/2020|       Noord-Holland|   Netherlands|2020-08-13 04:29:15|   9717.0|  816.0|      0.0|     1|\n",
            "|85200|     08/12/2020|         Extremadura|         Spain|2020-08-13 04:29:15|   3664.0|  522.0|   2652.0|     1|\n",
            "|85214|     08/12/2020|               Gansu|Mainland China|2020-08-13 04:29:15|    169.0|    2.0|    165.0|     1|\n",
            "|85175|     08/12/2020|            Colorado|            US|2020-08-13 04:29:15|  51737.0| 1875.0|      0.0|     1|\n",
            "| 4324|     03/09/2020|Grand Princess Cr...|            US|2020-03-07T01:33:02|     21.0|    0.0|      0.0|     1|\n",
            "|85590|     08/12/2020|       Uttar Pradesh|         India|2020-08-13 04:29:15| 136238.0| 2230.0|  84661.0|     1|\n",
            "|85521|     08/12/2020|               Shiga|         Japan|2020-08-13 04:29:15|    311.0|    3.0|    175.0|     1|\n",
            "| 2685|     02/28/2020|                null| North Ireland|2020-02-28T05:43:02|      1.0|    0.0|      0.0|     1|\n",
            "+-----+---------------+--------------------+--------------+-------------------+---------+-------+---------+------+\n",
            "only showing top 20 rows\n",
            "\n",
            "The processing Time is:  0.9288496971130371 seconds\n"
          ],
          "name": "stdout"
        }
      ]
    },
    {
      "cell_type": "markdown",
      "metadata": {
        "id": "k5uNDraubjsX",
        "colab_type": "text"
      },
      "source": [
        "Convert the observationDate rows into column for showing the each and every date for every country"
      ]
    },
    {
      "cell_type": "code",
      "metadata": {
        "id": "Vn04mrCMbzJR",
        "colab_type": "code",
        "colab": {
          "base_uri": "https://localhost:8080/",
          "height": 496
        },
        "outputId": "90c5e51a-d7c3-48e6-db2c-37dc1fab0e2b"
      },
      "source": [
        "t=time()\n",
        "corona_dataFrame.groupby(\"Country/Region\").pivot(\"ObservationDate\").agg(F.sum(\"Confirmed\")).show()\n",
        "print(\"The processing Time is: \", time()- t,\"seconds\")"
      ],
      "execution_count": null,
      "outputs": [
        {
          "output_type": "stream",
          "text": [
            "+--------------+----------+----------+----------+----------+----------+----------+----------+----------+----------+----------+----------+----------+----------+----------+----------+----------+----------+----------+----------+----------+----------+----------+----------+----------+----------+----------+----------+----------+----------+----------+----------+----------+----------+----------+----------+----------+----------+----------+----------+----------+----------+----------+----------+----------+----------+----------+----------+----------+----------+----------+----------+----------+----------+----------+----------+----------+----------+----------+----------+----------+----------+----------+----------+----------+----------+----------+----------+----------+----------+----------+----------+----------+----------+----------+----------+----------+----------+----------+----------+----------+----------+----------+----------+----------+----------+----------+----------+----------+----------+----------+----------+----------+----------+----------+----------+----------+----------+----------+----------+----------+----------+----------+----------+----------+----------+----------+----------+----------+----------+----------+----------+----------+----------+----------+----------+----------+----------+----------+----------+----------+----------+----------+----------+----------+----------+----------+----------+----------+----------+----------+----------+----------+----------+----------+----------+----------+----------+----------+----------+----------+----------+----------+----------+----------+----------+----------+----------+----------+----------+----------+----------+----------+----------+----------+----------+----------+----------+----------+----------+----------+----------+----------+----------+----------+----------+----------+----------+----------+----------+----------+----------+----------+----------+----------+----------+----------+----------+----------+----------+----------+----------+----------+----------+----------+----------+----------+----------+----------+----------+----------+----------+----------+----------+----------+----------+----------+----------+----------+----------+----------+----------+----------+----------+----------+\n",
            "|Country/Region|01/22/2020|01/23/2020|01/24/2020|01/25/2020|01/26/2020|01/27/2020|01/28/2020|01/29/2020|01/30/2020|01/31/2020|02/01/2020|02/02/2020|02/03/2020|02/04/2020|02/05/2020|02/06/2020|02/07/2020|02/08/2020|02/09/2020|02/10/2020|02/11/2020|02/12/2020|02/13/2020|02/14/2020|02/15/2020|02/16/2020|02/17/2020|02/18/2020|02/19/2020|02/20/2020|02/21/2020|02/22/2020|02/23/2020|02/24/2020|02/25/2020|02/26/2020|02/27/2020|02/28/2020|02/29/2020|03/01/2020|03/02/2020|03/03/2020|03/04/2020|03/05/2020|03/06/2020|03/07/2020|03/08/2020|03/09/2020|03/10/2020|03/11/2020|03/12/2020|03/13/2020|03/14/2020|03/15/2020|03/16/2020|03/17/2020|03/18/2020|03/19/2020|03/20/2020|03/21/2020|03/22/2020|03/23/2020|03/24/2020|03/25/2020|03/26/2020|03/27/2020|03/28/2020|03/29/2020|03/30/2020|03/31/2020|04/01/2020|04/02/2020|04/03/2020|04/04/2020|04/05/2020|04/06/2020|04/07/2020|04/08/2020|04/09/2020|04/10/2020|04/11/2020|04/12/2020|04/13/2020|04/14/2020|04/15/2020|04/16/2020|04/17/2020|04/18/2020|04/19/2020|04/20/2020|04/21/2020|04/22/2020|04/23/2020|04/24/2020|04/25/2020|04/26/2020|04/27/2020|04/28/2020|04/29/2020|04/30/2020|05/01/2020|05/02/2020|05/03/2020|05/04/2020|05/05/2020|05/06/2020|05/07/2020|05/08/2020|05/09/2020|05/10/2020|05/11/2020|05/12/2020|05/13/2020|05/14/2020|05/15/2020|05/16/2020|05/17/2020|05/18/2020|05/19/2020|05/20/2020|05/21/2020|05/22/2020|05/23/2020|05/24/2020|05/25/2020|05/26/2020|05/27/2020|05/28/2020|05/29/2020|05/30/2020|05/31/2020|06/01/2020|06/02/2020|06/03/2020|06/04/2020|06/05/2020|06/06/2020|06/07/2020|06/08/2020|06/09/2020|06/10/2020|06/11/2020|06/12/2020|06/13/2020|06/14/2020|06/15/2020|06/16/2020|06/17/2020|06/18/2020|06/19/2020|06/20/2020|06/21/2020|06/22/2020|06/23/2020|06/24/2020|06/25/2020|06/26/2020|06/27/2020|06/28/2020|06/29/2020|06/30/2020|07/01/2020|07/02/2020|07/03/2020|07/04/2020|07/05/2020|07/06/2020|07/07/2020|07/08/2020|07/09/2020|07/10/2020|07/11/2020|07/12/2020|07/13/2020|07/14/2020|07/15/2020|07/16/2020|07/17/2020|07/18/2020|07/19/2020|07/20/2020|07/21/2020|07/22/2020|07/23/2020|07/24/2020|07/25/2020|07/26/2020|07/27/2020|07/28/2020|07/29/2020|07/30/2020|07/31/2020|08/01/2020|08/02/2020|08/03/2020|08/04/2020|08/05/2020|08/06/2020|08/07/2020|08/08/2020|08/09/2020|08/10/2020|08/11/2020|08/12/2020|\n",
            "+--------------+----------+----------+----------+----------+----------+----------+----------+----------+----------+----------+----------+----------+----------+----------+----------+----------+----------+----------+----------+----------+----------+----------+----------+----------+----------+----------+----------+----------+----------+----------+----------+----------+----------+----------+----------+----------+----------+----------+----------+----------+----------+----------+----------+----------+----------+----------+----------+----------+----------+----------+----------+----------+----------+----------+----------+----------+----------+----------+----------+----------+----------+----------+----------+----------+----------+----------+----------+----------+----------+----------+----------+----------+----------+----------+----------+----------+----------+----------+----------+----------+----------+----------+----------+----------+----------+----------+----------+----------+----------+----------+----------+----------+----------+----------+----------+----------+----------+----------+----------+----------+----------+----------+----------+----------+----------+----------+----------+----------+----------+----------+----------+----------+----------+----------+----------+----------+----------+----------+----------+----------+----------+----------+----------+----------+----------+----------+----------+----------+----------+----------+----------+----------+----------+----------+----------+----------+----------+----------+----------+----------+----------+----------+----------+----------+----------+----------+----------+----------+----------+----------+----------+----------+----------+----------+----------+----------+----------+----------+----------+----------+----------+----------+----------+----------+----------+----------+----------+----------+----------+----------+----------+----------+----------+----------+----------+----------+----------+----------+----------+----------+----------+----------+----------+----------+----------+----------+----------+----------+----------+----------+----------+----------+----------+----------+----------+----------+----------+----------+----------+----------+----------+----------+----------+----------+\n",
            "|          Chad|      null|      null|      null|      null|      null|      null|      null|      null|      null|      null|      null|      null|      null|      null|      null|      null|      null|      null|      null|      null|      null|      null|      null|      null|      null|      null|      null|      null|      null|      null|      null|      null|      null|      null|      null|      null|      null|      null|      null|      null|      null|      null|      null|      null|      null|      null|      null|      null|      null|      null|      null|      null|      null|      null|      null|      null|      null|       1.0|       1.0|       1.0|       1.0|       1.0|       3.0|       3.0|       3.0|       3.0|       3.0|       3.0|       5.0|       7.0|       7.0|       8.0|       8.0|       9.0|       9.0|       9.0|      10.0|      10.0|      11.0|      11.0|      11.0|      18.0|      23.0|      23.0|      23.0|      27.0|      27.0|      33.0|      33.0|      33.0|      33.0|      33.0|      33.0|      40.0|      46.0|      46.0|      46.0|      52.0|      52.0|      73.0|      73.0|     117.0|     117.0|     117.0|     170.0|     170.0|     253.0|     260.0|     322.0|     322.0|     322.0|     357.0|     372.0|     399.0|     428.0|     474.0|     503.0|     519.0|     545.0|     565.0|     588.0|     611.0|     648.0|     675.0|     687.0|     700.0|     715.0|     726.0|     759.0|     759.0|     778.0|     790.0|     803.0|     820.0|     828.0|     836.0|     836.0|     837.0|     839.0|     844.0|     846.0|     848.0|     848.0|     848.0|     850.0|     850.0|     853.0|     854.0|     854.0|     858.0|     858.0|     858.0|     858.0|     860.0|     860.0|     863.0|     865.0|     865.0|     866.0|     866.0|     866.0|     866.0|     868.0|     871.0|     871.0|     872.0|     872.0|     873.0|     873.0|     873.0|     874.0|     874.0|     880.0|     880.0|     884.0|     885.0|     886.0|     887.0|     889.0|     889.0|     889.0|     889.0|     889.0|     915.0|     915.0|     915.0|     915.0|     922.0|     926.0|     926.0|     935.0|     936.0|     936.0|     936.0|     936.0|     938.0|     939.0|     942.0|     942.0|     942.0|     944.0|     945.0|     946.0|     949.0|\n",
            "|        Russia|      null|      null|      null|      null|      null|      null|      null|      null|      null|       2.0|       2.0|       2.0|       2.0|       2.0|       2.0|       2.0|       2.0|       2.0|       2.0|       2.0|       2.0|       2.0|       2.0|       2.0|       2.0|       2.0|       2.0|       2.0|       2.0|       2.0|       2.0|       2.0|       2.0|       2.0|       2.0|       2.0|       2.0|       2.0|       2.0|       2.0|       3.0|       3.0|       3.0|       4.0|      13.0|      13.0|      17.0|      17.0|      10.0|      20.0|      28.0|      45.0|      59.0|      63.0|      90.0|     114.0|     147.0|     199.0|     253.0|     306.0|     367.0|     438.0|     495.0|     658.0|     840.0|    1036.0|    1264.0|    1534.0|    1836.0|    2337.0|    2777.0|    3548.0|    4149.0|    4731.0|    5389.0|    6343.0|    7497.0|    8672.0|   10131.0|   11917.0|   13584.0|   15770.0|   18328.0|   21102.0|   24490.0|   27938.0|   32008.0|   36793.0|   42853.0|   47121.0|   52763.0|   57999.0|   62773.0|   68622.0|   74588.0|   80949.0|   87147.0|   93558.0|   99399.0|  106498.0|  114431.0|  124054.0|  134687.0|  145268.0|  155370.0|  165929.0|  177160.0|  187859.0|  198676.0|  209688.0|  221344.0|  232243.0|  242271.0|  252245.0|  262843.0|  272043.0|  281752.0|  290678.0|  299941.0|  308705.0|  317554.0|  326448.0|  335882.0|  344481.0|  353427.0|  362342.0|  370680.0|  379051.0|  387623.0|  396575.0|  405843.0|  414328.0|  423186.0|  431715.0|  440538.0|  449256.0|  458102.0|  467073.0|  476043.0|  484630.0|  493023.0|  501800.0|  510761.0|  519458.0|  528267.0|  536484.0|  544725.0|  552549.0|  560321.0|  568292.0|  576162.0|  583879.0|  591465.0|  598878.0|  606043.0|  613148.0|  619936.0|  626779.0|  633563.0|  640246.0|  646929.0|  653479.0|  660231.0|  666941.0|  673564.0|  680283.0|  686852.0|  693215.0|  699749.0|  706240.0|  712863.0|  719449.0|  726036.0|  732547.0|  738787.0|  745197.0|  751612.0|  758001.0|  764215.0|  770311.0|  776212.0|  782040.0|  787890.0|  793720.0|  799499.0|  805332.0|  811073.0|  816680.0|  822060.0|  827509.0|  832993.0|  838461.0|  843890.0|  849277.0|  854641.0|  859762.0|  864948.0|  870187.0|  875378.0|  880563.0|  885718.0|  890799.0|  895691.0|  900745.0|\n",
            "|      Paraguay|      null|      null|      null|      null|      null|      null|      null|      null|      null|      null|      null|      null|      null|      null|      null|      null|      null|      null|      null|      null|      null|      null|      null|      null|      null|      null|      null|      null|      null|      null|      null|      null|      null|      null|      null|      null|      null|      null|      null|      null|      null|      null|      null|      null|      null|      null|       1.0|       1.0|       1.0|       5.0|       5.0|       6.0|       6.0|       6.0|       8.0|       9.0|      11.0|      11.0|      13.0|      18.0|      22.0|      22.0|      27.0|      37.0|      41.0|      52.0|      56.0|      59.0|      64.0|      65.0|      69.0|      77.0|      92.0|      96.0|     104.0|     113.0|     115.0|     119.0|     124.0|     129.0|     133.0|     134.0|     147.0|     159.0|     161.0|     174.0|     199.0|     202.0|     206.0|     208.0|     208.0|     213.0|     213.0|     223.0|     228.0|     228.0|     228.0|     239.0|     239.0|     266.0|     333.0|     370.0|     396.0|     415.0|     431.0|     440.0|     462.0|     563.0|     689.0|     713.0|     724.0|     737.0|     740.0|     754.0|     759.0|     778.0|     786.0|     788.0|     829.0|     833.0|     836.0|     838.0|     850.0|     862.0|     865.0|     877.0|     884.0|     900.0|     917.0|     964.0|     986.0|     995.0|    1013.0|    1070.0|    1086.0|    1087.0|    1090.0|    1135.0|    1145.0|    1187.0|    1202.0|    1230.0|    1254.0|    1261.0|    1289.0|    1296.0|    1303.0|    1308.0|    1330.0|    1336.0|    1362.0|    1379.0|    1392.0|    1422.0|    1528.0|    1569.0|    1711.0|    1942.0|    2127.0|    2191.0|    2221.0|    2260.0|    2303.0|    2349.0|    2385.0|    2427.0|    2456.0|    2502.0|    2554.0|    2638.0|    2736.0|    2820.0|    2948.0|    2980.0|    3074.0|    3198.0|    3342.0|    3457.0|    3629.0|    3721.0|    3748.0|    3817.0|    4000.0|    4113.0|    4224.0|    4328.0|    4444.0|    4548.0|    4674.0|    4866.0|    5207.0|    5338.0|    5485.0|    5644.0|    5724.0|    5852.0|    6060.0|    6375.0|    6508.0|    6705.0|    6907.0|    7234.0|    7519.0|    8018.0|\n",
            "| North Ireland|      null|      null|      null|      null|      null|      null|      null|      null|      null|      null|      null|      null|      null|      null|      null|      null|      null|      null|      null|      null|      null|      null|      null|      null|      null|      null|      null|      null|      null|      null|      null|      null|      null|      null|      null|      null|      null|       1.0|      null|      null|      null|      null|      null|      null|      null|      null|      null|      null|      null|      null|      null|      null|      null|      null|      null|      null|      null|      null|      null|      null|      null|      null|      null|      null|      null|      null|      null|      null|      null|      null|      null|      null|      null|      null|      null|      null|      null|      null|      null|      null|      null|      null|      null|      null|      null|      null|      null|      null|      null|      null|      null|      null|      null|      null|      null|      null|      null|      null|      null|      null|      null|      null|      null|      null|      null|      null|      null|      null|      null|      null|      null|      null|      null|      null|      null|      null|      null|      null|      null|      null|      null|      null|      null|      null|      null|      null|      null|      null|      null|      null|      null|      null|      null|      null|      null|      null|      null|      null|      null|      null|      null|      null|      null|      null|      null|      null|      null|      null|      null|      null|      null|      null|      null|      null|      null|      null|      null|      null|      null|      null|      null|      null|      null|      null|      null|      null|      null|      null|      null|      null|      null|      null|      null|      null|      null|      null|      null|      null|      null|      null|      null|      null|      null|      null|      null|      null|      null|      null|      null|      null|      null|      null|      null|      null|      null|      null|      null|      null|      null|      null|      null|      null|      null|      null|\n",
            "|         Yemen|      null|      null|      null|      null|      null|      null|      null|      null|      null|      null|      null|      null|      null|      null|      null|      null|      null|      null|      null|      null|      null|      null|      null|      null|      null|      null|      null|      null|      null|      null|      null|      null|      null|      null|      null|      null|      null|      null|      null|      null|      null|      null|      null|      null|      null|      null|      null|      null|      null|      null|      null|      null|      null|      null|      null|      null|      null|      null|      null|      null|      null|      null|      null|      null|      null|      null|      null|      null|      null|      null|      null|      null|      null|      null|      null|      null|      null|      null|      null|       1.0|       1.0|       1.0|       1.0|       1.0|       1.0|       1.0|       1.0|       1.0|       1.0|       1.0|       1.0|       1.0|       1.0|       1.0|       1.0|       1.0|       1.0|       1.0|       6.0|       6.0|       7.0|      10.0|      10.0|      12.0|      22.0|      25.0|      25.0|      34.0|      34.0|      51.0|      56.0|      65.0|      70.0|      85.0|     106.0|     122.0|     128.0|     130.0|     167.0|     184.0|     197.0|     209.0|     212.0|     222.0|     233.0|     249.0|     256.0|     278.0|     283.0|     310.0|     323.0|     354.0|     399.0|     419.0|     453.0|     469.0|     482.0|     484.0|     496.0|     524.0|     560.0|     591.0|     632.0|     705.0|     728.0|     844.0|     885.0|     902.0|     909.0|     919.0|     922.0|     941.0|     967.0|     992.0|    1015.0|    1076.0|    1089.0|    1103.0|    1118.0|    1128.0|    1158.0|    1190.0|    1221.0|    1240.0|    1248.0|    1265.0|    1284.0|    1297.0|    1318.0|    1356.0|    1380.0|    1389.0|    1465.0|    1498.0|    1516.0|    1526.0|    1552.0|    1576.0|    1581.0|    1606.0|    1619.0|    1629.0|    1640.0|    1654.0|    1674.0|    1674.0|    1681.0|    1691.0|    1703.0|    1711.0|    1726.0|    1728.0|    1730.0|    1734.0|    1734.0|    1760.0|    1763.0|    1768.0|    1796.0|    1797.0|    1804.0|    1832.0|    1831.0|    1841.0|\n",
            "|       Senegal|      null|      null|      null|      null|      null|      null|      null|      null|      null|      null|      null|      null|      null|      null|      null|      null|      null|      null|      null|      null|      null|      null|      null|      null|      null|      null|      null|      null|      null|      null|      null|      null|      null|      null|      null|      null|      null|      null|      null|      null|       1.0|       2.0|       4.0|       4.0|       4.0|       4.0|       4.0|       4.0|       4.0|       4.0|       4.0|      10.0|      10.0|      24.0|      24.0|      26.0|      31.0|      31.0|      38.0|      47.0|      67.0|      79.0|      86.0|      99.0|     105.0|     119.0|     130.0|     142.0|     162.0|     175.0|     190.0|     195.0|     207.0|     219.0|     222.0|     226.0|     237.0|     244.0|     250.0|     265.0|     278.0|     280.0|     291.0|     299.0|     314.0|     335.0|     342.0|     350.0|     367.0|     377.0|     412.0|     442.0|     479.0|     545.0|     614.0|     671.0|     736.0|     823.0|     882.0|     933.0|    1024.0|    1115.0|    1182.0|    1271.0|    1329.0|    1433.0|    1492.0|    1551.0|    1634.0|    1709.0|    1886.0|    1995.0|    2105.0|    2189.0|    2310.0|    2429.0|    2480.0|    2544.0|    2617.0|    2714.0|    2812.0|    2909.0|    2976.0|    3047.0|    3130.0|    3161.0|    3253.0|    3348.0|    3429.0|    3535.0|    3645.0|    3739.0|    3836.0|    3932.0|    4021.0|    4155.0|    4249.0|    4328.0|    4427.0|    4516.0|    4640.0|    4759.0|    4851.0|    4996.0|    5090.0|    5173.0|    5247.0|    5369.0|    5475.0|    5639.0|    5783.0|    5888.0|    5970.0|    6034.0|    6129.0|    6233.0|    6354.0|    6459.0|    6586.0|    6698.0|    6793.0|    6925.0|    7054.0|    7164.0|    7272.0|    7400.0|    7478.0|    7547.0|    7657.0|    7784.0|    7882.0|    8014.0|    8135.0|    8198.0|    8243.0|    8369.0|    8481.0|    8544.0|    8669.0|    8810.0|    8948.0|    8985.0|    9121.0|    9266.0|    9422.0|    9552.0|    9681.0|    9764.0|    9805.0|    9961.0|   10106.0|   10232.0|   10284.0|   10344.0|   10386.0|   10432.0|   10538.0|   10715.0|   10887.0|   11003.0|   11175.0|   11312.0|   11380.0|   11587.0|\n",
            "|        Sweden|      null|      null|      null|      null|      null|      null|      null|      null|      null|       1.0|       1.0|       1.0|       1.0|       1.0|       1.0|       1.0|       1.0|       1.0|       1.0|       1.0|       1.0|       1.0|       1.0|       1.0|       1.0|       1.0|       1.0|       1.0|       1.0|       1.0|       1.0|       1.0|       1.0|       1.0|       1.0|       2.0|       7.0|       7.0|      12.0|      14.0|      15.0|      21.0|      35.0|      94.0|     101.0|     161.0|     203.0|     248.0|     355.0|     500.0|     599.0|     814.0|     961.0|    1022.0|    1103.0|    1190.0|    1279.0|    1439.0|    1639.0|    1763.0|    1931.0|    2046.0|    2286.0|    2526.0|    2840.0|    3069.0|    3447.0|    3700.0|    4028.0|    4435.0|    4947.0|    5568.0|    6131.0|    6443.0|    6830.0|    7206.0|    7693.0|    8419.0|    9141.0|    9685.0|   10151.0|   10483.0|   10948.0|   11445.0|   11927.0|   12540.0|   13216.0|   13822.0|   14385.0|   14777.0|   15322.0|   16004.0|   16755.0|   17567.0|   18177.0|   18640.0|   18926.0|   19621.0|   20302.0|   21092.0|   21520.0|   22082.0|   22317.0|   22721.0|   23216.0|   23918.0|   24623.0|   25265.0|   25921.0|   26322.0|   26670.0|   27272.0|   27909.0|   28582.0|   29207.0|   29677.0|   30143.0|   30377.0|   30799.0|   31523.0|   32172.0|   32809.0|   33188.0|   33459.0|   33843.0|   34440.0|   35088.0|   35727.0|   36476.0|   37113.0|   37542.0|   37814.0|   38589.0|   40803.0|   41883.0|   42939.0|   43887.0|   44730.0|   45133.0|   45924.0|   46814.0|   48288.0|   49684.0|   50931.0|   51614.0|   52383.0|   53323.0|   54562.0|   56043.0|   56043.0|   56043.0|   56043.0|   58932.0|   60837.0|   62324.0|   63890.0|   65137.0|   65137.0|   65137.0|   67667.0|   68451.0|   69692.0|   70639.0|   71419.0|   71419.0|   71419.0|   73061.0|   73344.0|   73858.0|   74333.0|   74898.0|   74898.0|   74898.0|   75826.0|   76001.0|   76492.0|   76877.0|   77281.0|   77281.0|   77281.0|   78048.0|   78166.0|   78504.0|   78763.0|   78997.0|   78997.0|   78997.0|   79395.0|   79494.0|   79782.0|   80100.0|   80422.0|   80422.0|   80422.0|   81012.0|   81181.0|   81540.0|   81967.0|   82323.0|   82323.0|   82323.0|   82972.0|   83126.0|   83455.0|\n",
            "|    Cabo Verde|      null|      null|      null|      null|      null|      null|      null|      null|      null|      null|      null|      null|      null|      null|      null|      null|      null|      null|      null|      null|      null|      null|      null|      null|      null|      null|      null|      null|      null|      null|      null|      null|      null|      null|      null|      null|      null|      null|      null|      null|      null|      null|      null|      null|      null|      null|      null|      null|      null|      null|      null|      null|      null|      null|      null|      null|      null|      null|       1.0|       3.0|       3.0|       3.0|       3.0|       4.0|       4.0|       5.0|       5.0|       6.0|       6.0|       6.0|       6.0|       6.0|       6.0|       7.0|       7.0|       7.0|       7.0|       7.0|       7.0|       7.0|       8.0|       8.0|      10.0|      11.0|      56.0|      56.0|      56.0|      58.0|      61.0|      67.0|      68.0|      73.0|      82.0|      88.0|      90.0|     106.0|     109.0|     114.0|     114.0|     121.0|     122.0|     152.0|     165.0|     175.0|     186.0|     191.0|     218.0|     230.0|     236.0|     246.0|     260.0|     267.0|     289.0|     315.0|     326.0|     328.0|     328.0|     328.0|     335.0|     349.0|     356.0|     362.0|     371.0|     380.0|     390.0|     390.0|     390.0|     390.0|     405.0|     421.0|     435.0|     458.0|     466.0|     477.0|     502.0|     536.0|     542.0|     554.0|     567.0|     585.0|     615.0|     657.0|     697.0|     726.0|     750.0|     760.0|     781.0|     792.0|     823.0|     848.0|     863.0|     890.0|     944.0|     982.0|     999.0|    1003.0|    1027.0|    1091.0|    1155.0|    1165.0|    1227.0|    1267.0|    1301.0|    1382.0|    1421.0|    1451.0|    1463.0|    1499.0|    1542.0|    1552.0|    1591.0|    1623.0|    1623.0|    1698.0|    1722.0|    1780.0|    1894.0|    1939.0|    2014.0|    2045.0|    2071.0|    2107.0|    2154.0|    2190.0|    2220.0|    2258.0|    2307.0|    2328.0|    2354.0|    2373.0|    2418.0|    2451.0|    2480.0|    2547.0|    2583.0|    2631.0|    2689.0|    2734.0|    2780.0|    2835.0|    2858.0|    2883.0|    2920.0|    3000.0|\n",
            "|        Guyana|      null|      null|      null|      null|      null|      null|      null|      null|      null|      null|      null|      null|      null|      null|      null|      null|      null|      null|      null|      null|      null|      null|      null|      null|      null|      null|      null|      null|      null|      null|      null|      null|      null|      null|      null|      null|      null|      null|      null|      null|      null|      null|      null|      null|      null|      null|      null|      null|      null|      null|       1.0|       1.0|       1.0|       4.0|       4.0|       7.0|       7.0|       7.0|       7.0|       7.0|      18.0|      20.0|       5.0|       5.0|       5.0|       5.0|       8.0|       8.0|       8.0|      12.0|      19.0|      19.0|      23.0|      23.0|      24.0|      31.0|      33.0|      37.0|      37.0|      37.0|      45.0|      45.0|      45.0|      47.0|      55.0|      55.0|      63.0|      63.0|      65.0|      65.0|      66.0|      67.0|      70.0|      73.0|      73.0|      74.0|      74.0|      74.0|      78.0|      82.0|      82.0|      82.0|      82.0|      92.0|      93.0|      93.0|      93.0|      94.0|      94.0|     104.0|     109.0|     113.0|     113.0|     113.0|     116.0|     117.0|     117.0|     124.0|     125.0|     125.0|     127.0|     127.0|     127.0|     135.0|     137.0|     139.0|     139.0|     150.0|     150.0|     152.0|     153.0|     153.0|     153.0|     153.0|     153.0|     153.0|     154.0|     154.0|     154.0|     156.0|     156.0|     158.0|     159.0|     159.0|     159.0|     159.0|     171.0|     171.0|     183.0|     183.0|     183.0|     184.0|     205.0|     206.0|     209.0|     215.0|     215.0|     230.0|     230.0|     235.0|     245.0|     248.0|     250.0|     256.0|     272.0|     273.0|     273.0|     284.0|     284.0|     286.0|     290.0|     291.0|     297.0|     300.0|     308.0|     313.0|     315.0|     320.0|     327.0|     336.0|     337.0|     339.0|     350.0|     351.0|     352.0|     360.0|     370.0|     389.0|     396.0|     398.0|     401.0|     413.0|     430.0|     474.0|     474.0|     497.0|     509.0|     538.0|     538.0|     554.0|     568.0|     568.0|     602.0|     623.0|\n",
            "|         Burma|      null|      null|      null|      null|      null|      null|      null|      null|      null|      null|      null|      null|      null|      null|      null|      null|      null|      null|      null|      null|      null|      null|      null|      null|      null|      null|      null|      null|      null|      null|      null|      null|      null|      null|      null|      null|      null|      null|      null|      null|      null|      null|      null|      null|      null|      null|      null|      null|      null|      null|      null|      null|      null|      null|      null|      null|      null|      null|      null|      null|      null|      null|      null|      null|      null|       8.0|       8.0|      10.0|      14.0|      15.0|      15.0|      20.0|      20.0|      21.0|      21.0|      22.0|      22.0|      22.0|      23.0|      27.0|      38.0|      41.0|      62.0|      63.0|      74.0|      85.0|      88.0|      98.0|     111.0|     119.0|     121.0|     123.0|     139.0|     144.0|     146.0|     146.0|     146.0|     150.0|     150.0|     151.0|     151.0|     151.0|     155.0|     161.0|     161.0|     161.0|     176.0|     177.0|     178.0|     180.0|     180.0|     180.0|     181.0|     181.0|     182.0|     182.0|     184.0|     191.0|     193.0|     199.0|     199.0|     199.0|     201.0|     201.0|     203.0|     206.0|     206.0|     206.0|     207.0|     224.0|     224.0|     228.0|     232.0|     233.0|     236.0|     236.0|     240.0|     242.0|     244.0|     246.0|     248.0|     260.0|     261.0|     261.0|     261.0|     262.0|     262.0|     262.0|     286.0|     286.0|     287.0|     290.0|     291.0|     292.0|     293.0|     293.0|     293.0|     296.0|     299.0|     299.0|     299.0|     303.0|     304.0|     306.0|     313.0|     313.0|     316.0|     316.0|     317.0|     321.0|     326.0|     330.0|     331.0|     336.0|     337.0|     337.0|     339.0|     339.0|     340.0|     341.0|     341.0|     341.0|     343.0|     343.0|     346.0|     348.0|     350.0|     350.0|     351.0|     351.0|     353.0|     353.0|     353.0|     353.0|     355.0|     356.0|     357.0|     357.0|     359.0|     359.0|     360.0|     360.0|     360.0|     361.0|\n",
            "|   Philippines|      null|       0.0|      null|      null|      null|      null|      null|      null|       1.0|       1.0|       1.0|       2.0|       2.0|       2.0|       2.0|       2.0|       3.0|       3.0|       3.0|       3.0|       3.0|       3.0|       3.0|       3.0|       3.0|       3.0|       3.0|       3.0|       3.0|       3.0|       3.0|       3.0|       3.0|       3.0|       3.0|       3.0|       3.0|       3.0|       3.0|       3.0|       3.0|       3.0|       3.0|       3.0|       5.0|       6.0|      10.0|      20.0|      33.0|      49.0|      52.0|      64.0|     111.0|     140.0|     142.0|     187.0|     202.0|     217.0|     230.0|     307.0|     380.0|     462.0|     552.0|     636.0|     707.0|     803.0|    1075.0|    1418.0|    1546.0|    2084.0|    2311.0|    2633.0|    3018.0|    3094.0|    3246.0|    3660.0|    3764.0|    3870.0|    4076.0|    4195.0|    4428.0|    4648.0|    4932.0|    5223.0|    5453.0|    5660.0|    5878.0|    6087.0|    6259.0|    6459.0|    6599.0|    6710.0|    6981.0|    7192.0|    7294.0|    7579.0|    7777.0|    7958.0|    8212.0|    8488.0|    8772.0|    8928.0|    9223.0|    9485.0|    9684.0|   10004.0|   10343.0|   10463.0|   10610.0|   10794.0|   11086.0|   11350.0|   11618.0|   11876.0|   12091.0|   12305.0|   12513.0|   12718.0|   12942.0|   13221.0|   13434.0|   13597.0|   13777.0|   14035.0|   14319.0|   14669.0|   15049.0|   15588.0|   16634.0|   17224.0|   18086.0|   18638.0|   18997.0|   19748.0|   20382.0|   20626.0|   21340.0|   21895.0|   22474.0|   22992.0|   23732.0|   24175.0|   24787.0|   25392.0|   25930.0|   26420.0|   26781.0|   27238.0|   27799.0|   28459.0|   29400.0|   30052.0|   30682.0|   31825.0|   32295.0|   33069.0|   34073.0|   34803.0|   35455.0|   36438.0|   37514.0|   38511.0|   38805.0|   40336.0|   41830.0|   44254.0|   46333.0|   47873.0|   50359.0|   51754.0|   52914.0|   54222.0|   56259.0|   57006.0|   57545.0|   58850.0|   61266.0|   63001.0|   65304.0|   67456.0|   68898.0|   70764.0|   72269.0|   74390.0|   76444.0|   78412.0|   80448.0|   82040.0|   83673.0|   85486.0|   89374.0|   93354.0|   98232.0|  103185.0|  106330.0|  112593.0|  115980.0|  119460.0|  122754.0|  126885.0|  129913.0|  136638.0|  139538.0|  143749.0|\n",
            "|       Eritrea|      null|      null|      null|      null|      null|      null|      null|      null|      null|      null|      null|      null|      null|      null|      null|      null|      null|      null|      null|      null|      null|      null|      null|      null|      null|      null|      null|      null|      null|      null|      null|      null|      null|      null|      null|      null|      null|      null|      null|      null|      null|      null|      null|      null|      null|      null|      null|      null|      null|      null|      null|      null|      null|      null|      null|      null|      null|      null|      null|       1.0|       1.0|       1.0|       1.0|       4.0|       6.0|       6.0|       6.0|      12.0|      12.0|      15.0|      15.0|      22.0|      22.0|      29.0|      29.0|      31.0|      31.0|      33.0|      33.0|      34.0|      34.0|      34.0|      34.0|      34.0|      35.0|      35.0|      35.0|      39.0|      39.0|      39.0|      39.0|      39.0|      39.0|      39.0|      39.0|      39.0|      39.0|      39.0|      39.0|      39.0|      39.0|      39.0|      39.0|      39.0|      39.0|      39.0|      39.0|      39.0|      39.0|      39.0|      39.0|      39.0|      39.0|      39.0|      39.0|      39.0|      39.0|      39.0|      39.0|      39.0|      39.0|      39.0|      39.0|      39.0|      39.0|      39.0|      39.0|      39.0|      39.0|      39.0|      39.0|      39.0|      39.0|      39.0|      39.0|      39.0|      39.0|      39.0|      39.0|      39.0|      41.0|      41.0|      41.0|      65.0|      96.0|     109.0|     121.0|     131.0|     142.0|     142.0|     143.0|     143.0|     143.0|     143.0|     144.0|     144.0|     167.0|     191.0|     191.0|     191.0|     203.0|     203.0|     215.0|     215.0|     215.0|     215.0|     215.0|     215.0|     215.0|     232.0|     232.0|     232.0|     232.0|     232.0|     232.0|     232.0|     251.0|     251.0|     251.0|     251.0|     251.0|     251.0|     251.0|     261.0|     261.0|     263.0|     263.0|     265.0|     265.0|     265.0|     279.0|     279.0|     279.0|     279.0|     282.0|     282.0|     282.0|     282.0|     285.0|     285.0|     285.0|     285.0|     285.0|     285.0|\n",
            "|        Jersey|      null|      null|      null|      null|      null|      null|      null|      null|      null|      null|      null|      null|      null|      null|      null|      null|      null|      null|      null|      null|      null|      null|      null|      null|      null|      null|      null|      null|      null|      null|      null|      null|      null|      null|      null|      null|      null|      null|      null|      null|      null|      null|      null|      null|      null|      null|      null|      null|      null|      null|      null|      null|       2.0|       2.0|       2.0|       0.0|       0.0|       0.0|       0.0|       0.0|      null|      null|      null|      null|      null|      null|      null|      null|      null|      null|      null|      null|      null|      null|      null|      null|      null|      null|      null|      null|      null|      null|      null|      null|      null|      null|      null|      null|      null|      null|      null|      null|      null|      null|      null|      null|      null|      null|      null|      null|      null|      null|      null|      null|      null|      null|      null|      null|      null|      null|      null|      null|      null|      null|      null|      null|      null|      null|      null|      null|      null|      null|      null|      null|      null|      null|      null|      null|      null|      null|      null|      null|      null|      null|      null|      null|      null|      null|      null|      null|      null|      null|      null|      null|      null|      null|      null|      null|      null|      null|      null|      null|      null|      null|      null|      null|      null|      null|      null|      null|      null|      null|      null|      null|      null|      null|      null|      null|      null|      null|      null|      null|      null|      null|      null|      null|      null|      null|      null|      null|      null|      null|      null|      null|      null|      null|      null|      null|      null|      null|      null|      null|      null|      null|      null|      null|      null|      null|      null|      null|      null|      null|      null|      null|\n",
            "|      Djibouti|      null|      null|      null|      null|      null|      null|      null|      null|      null|      null|      null|      null|      null|      null|      null|      null|      null|      null|      null|      null|      null|      null|      null|      null|      null|      null|      null|      null|      null|      null|      null|      null|      null|      null|      null|      null|      null|      null|      null|      null|      null|      null|      null|      null|      null|      null|      null|      null|      null|      null|      null|      null|      null|      null|      null|      null|       1.0|       1.0|       1.0|       1.0|       1.0|       3.0|       3.0|      11.0|      11.0|      12.0|      14.0|      18.0|      18.0|      30.0|      33.0|      40.0|      49.0|      50.0|      59.0|      90.0|      90.0|     135.0|     135.0|     150.0|     187.0|     214.0|     298.0|     363.0|     435.0|     591.0|     732.0|     732.0|     846.0|     846.0|     945.0|     974.0|     986.0|     999.0|    1008.0|    1023.0|    1035.0|    1072.0|    1077.0|    1089.0|    1097.0|    1112.0|    1112.0|    1116.0|    1120.0|    1124.0|    1133.0|    1135.0|    1189.0|    1210.0|    1227.0|    1256.0|    1268.0|    1284.0|    1309.0|    1331.0|    1401.0|    1518.0|    1618.0|    1828.0|    2047.0|    2270.0|    2270.0|    2270.0|    2468.0|    2468.0|    2697.0|    2914.0|    2914.0|    3194.0|    3354.0|    3569.0|    3779.0|    3935.0|    4054.0|    4123.0|    4169.0|    4207.0|    4278.0|    4331.0|    4373.0|    4398.0|    4441.0|    4449.0|    4465.0|    4501.0|    4539.0|    4545.0|    4557.0|    4565.0|    4565.0|    4582.0|    4599.0|    4617.0|    4630.0|    4635.0|    4643.0|    4643.0|    4643.0|    4656.0|    4682.0|    4704.0|    4715.0|    4736.0|    4736.0|    4792.0|    4822.0|    4878.0|    4889.0|    4955.0|    4968.0|    4968.0|    4972.0|    4977.0|    4979.0|    4985.0|    4993.0|    5003.0|    5003.0|    5011.0|    5020.0|    5027.0|    5030.0|    5031.0|    5039.0|    5039.0|    5050.0|    5059.0|    5068.0|    5081.0|    5081.0|    5084.0|    5084.0|    5161.0|    5240.0|    5248.0|    5330.0|    5330.0|    5338.0|    5338.0|    5344.0|    5347.0|    5348.0|    5358.0|\n",
            "|      Malaysia|      null|       0.0|      null|       3.0|       4.0|       4.0|       4.0|       7.0|       8.0|       8.0|       8.0|       8.0|       8.0|      10.0|      12.0|      12.0|      12.0|      16.0|      16.0|      18.0|      18.0|      18.0|      19.0|      19.0|      22.0|      22.0|      22.0|      22.0|      22.0|      22.0|      22.0|      22.0|      22.0|      22.0|      22.0|      22.0|      23.0|      23.0|      25.0|      29.0|      29.0|      36.0|      50.0|      50.0|      83.0|      93.0|      99.0|     117.0|     129.0|     149.0|     149.0|     197.0|     238.0|     428.0|     566.0|     673.0|     790.0|     900.0|    1030.0|    1183.0|    1306.0|    1518.0|    1624.0|    1796.0|    2031.0|    2161.0|    2320.0|    2470.0|    2626.0|    2766.0|    2908.0|    3116.0|    3333.0|    3483.0|    3662.0|    3793.0|    3963.0|    4119.0|    4228.0|    4346.0|    4530.0|    4683.0|    4817.0|    4987.0|    5072.0|    5182.0|    5251.0|    5305.0|    5389.0|    5425.0|    5482.0|    5532.0|    5603.0|    5691.0|    5742.0|    5780.0|    5820.0|    5851.0|    5945.0|    6002.0|    6071.0|    6176.0|    6298.0|    6353.0|    6383.0|    6428.0|    6467.0|    6535.0|    6589.0|    6656.0|    6726.0|    6742.0|    6779.0|    6819.0|    6855.0|    6872.0|    6894.0|    6941.0|    6978.0|    7009.0|    7059.0|    7137.0|    7185.0|    7245.0|    7417.0|    7604.0|    7619.0|    7629.0|    7732.0|    7762.0|    7819.0|    7857.0|    7877.0|    7970.0|    8247.0|    8266.0|    8303.0|    8322.0|    8329.0|    8336.0|    8338.0|    8369.0|    8402.0|    8445.0|    8453.0|    8494.0|    8505.0|    8515.0|    8529.0|    8535.0|    8556.0|    8572.0|    8587.0|    8590.0|    8596.0|    8600.0|    8606.0|    8616.0|    8634.0|    8637.0|    8639.0|    8640.0|    8643.0|    8648.0|    8658.0|    8663.0|    8668.0|    8674.0|    8677.0|    8683.0|    8696.0|    8704.0|    8718.0|    8725.0|    8729.0|    8734.0|    8737.0|    8755.0|    8764.0|    8779.0|    8800.0|    8815.0|    8831.0|    8840.0|    8861.0|    8884.0|    8897.0|    8904.0|    8943.0|    8956.0|    8964.0|    8976.0|    8985.0|    8999.0|    9001.0|    9002.0|    9023.0|    9038.0|    9063.0|    9070.0|    9083.0|    9094.0|    9103.0|    9114.0|\n",
            "|     Singapore|      null|       1.0|       3.0|       3.0|       4.0|       5.0|       7.0|       7.0|      10.0|      13.0|      16.0|      18.0|      18.0|      24.0|      28.0|      28.0|      30.0|      33.0|      40.0|      45.0|      47.0|      50.0|      58.0|      67.0|      72.0|      75.0|      77.0|      81.0|      84.0|      84.0|      85.0|      85.0|      89.0|      89.0|      91.0|      93.0|      93.0|      93.0|     102.0|     106.0|     108.0|     110.0|     110.0|     117.0|     130.0|     138.0|     150.0|     150.0|     160.0|     178.0|     178.0|     200.0|     212.0|     226.0|     243.0|     266.0|     313.0|     345.0|     385.0|     432.0|     455.0|     509.0|     558.0|     631.0|     683.0|     732.0|     802.0|     844.0|     879.0|     926.0|    1000.0|    1049.0|    1114.0|    1189.0|    1309.0|    1375.0|    1481.0|    1623.0|    1910.0|    2108.0|    2299.0|    2532.0|    2918.0|    3252.0|    3699.0|    4427.0|    5050.0|    5992.0|    6588.0|    8014.0|    9125.0|   10141.0|   11178.0|   12075.0|   12693.0|   13624.0|   14423.0|   14951.0|   15641.0|   16169.0|   17101.0|   17548.0|   18205.0|   18778.0|   19410.0|   20198.0|   20939.0|   21707.0|   22460.0|   23336.0|   23822.0|   24671.0|   25346.0|   26098.0|   26891.0|   27356.0|   28038.0|   28343.0|   28794.0|   29364.0|   29812.0|   30426.0|   31068.0|   31616.0|   31960.0|   32343.0|   32876.0|   33249.0|   33860.0|   34366.0|   34884.0|   35292.0|   35836.0|   36405.0|   36922.0|   37183.0|   37527.0|   37910.0|   38296.0|   38514.0|   38965.0|   39387.0|   39850.0|   40197.0|   40604.0|   40818.0|   40969.0|   41216.0|   41473.0|   41615.0|   41833.0|   42095.0|   42313.0|   42432.0|   42623.0|   42736.0|   42955.0|   43246.0|   43459.0|   43661.0|   43907.0|   44122.0|   44310.0|   44479.0|   44664.0|   44800.0|   44983.0|   45140.0|   45298.0|   45423.0|   45614.0|   45783.0|   45961.0|   46283.0|   46630.0|   46878.0|   47126.0|   47453.0|   47655.0|   47912.0|   48035.0|   48434.0|   48744.0|   49098.0|   49375.0|   49888.0|   50369.0|   50838.0|   51197.0|   51531.0|   51809.0|   52205.0|   52512.0|   52825.0|   53051.0|   53346.0|   54254.0|   54555.0|   54797.0|   54929.0|   55104.0|   55292.0|   55353.0|   55395.0|\n",
            "|          Fiji|      null|      null|      null|      null|      null|      null|      null|      null|      null|      null|      null|      null|      null|      null|      null|      null|      null|      null|      null|      null|      null|      null|      null|      null|      null|      null|      null|      null|      null|      null|      null|      null|      null|      null|      null|      null|      null|      null|      null|      null|      null|      null|      null|      null|      null|      null|      null|      null|      null|      null|      null|      null|      null|      null|      null|      null|      null|       1.0|       1.0|       1.0|       2.0|       3.0|       4.0|       5.0|       5.0|       5.0|       5.0|       5.0|       5.0|       5.0|       5.0|       7.0|       7.0|      12.0|      12.0|      14.0|      15.0|      15.0|      15.0|      16.0|      16.0|      16.0|      16.0|      16.0|      16.0|      17.0|      17.0|      17.0|      17.0|      18.0|      18.0|      18.0|      18.0|      18.0|      18.0|      18.0|      18.0|      18.0|      18.0|      18.0|      18.0|      18.0|      18.0|      18.0|      18.0|      18.0|      18.0|      18.0|      18.0|      18.0|      18.0|      18.0|      18.0|      18.0|      18.0|      18.0|      18.0|      18.0|      18.0|      18.0|      18.0|      18.0|      18.0|      18.0|      18.0|      18.0|      18.0|      18.0|      18.0|      18.0|      18.0|      18.0|      18.0|      18.0|      18.0|      18.0|      18.0|      18.0|      18.0|      18.0|      18.0|      18.0|      18.0|      18.0|      18.0|      18.0|      18.0|      18.0|      18.0|      18.0|      18.0|      18.0|      18.0|      18.0|      18.0|      18.0|      18.0|      18.0|      18.0|      18.0|      18.0|      18.0|      18.0|      18.0|      18.0|      19.0|      21.0|      21.0|      21.0|      26.0|      26.0|      26.0|      26.0|      26.0|      26.0|      26.0|      26.0|      26.0|      26.0|      27.0|      27.0|      27.0|      27.0|      27.0|      27.0|      27.0|      27.0|      27.0|      27.0|      27.0|      27.0|      27.0|      27.0|      27.0|      27.0|      27.0|      27.0|      27.0|      27.0|      27.0|      27.0|      27.0|      27.0|      27.0|\n",
            "|        Turkey|      null|      null|      null|      null|      null|      null|      null|      null|      null|      null|      null|      null|      null|      null|      null|      null|      null|      null|      null|      null|      null|      null|      null|      null|      null|      null|      null|      null|      null|      null|      null|      null|      null|      null|      null|      null|      null|      null|      null|      null|      null|      null|      null|      null|      null|      null|      null|      null|      null|       1.0|       1.0|       5.0|       5.0|       6.0|      18.0|      47.0|      98.0|     192.0|     359.0|     670.0|    1236.0|    1529.0|    1872.0|    2433.0|    3629.0|    5698.0|    7402.0|    9217.0|   10827.0|   13531.0|   15679.0|   18135.0|   20921.0|   23934.0|   27069.0|   30217.0|   34109.0|   38226.0|   42282.0|   47029.0|   52167.0|   56956.0|   61049.0|   65111.0|   69392.0|   74193.0|   78546.0|   82329.0|   86306.0|   90980.0|   95591.0|   98674.0|  101790.0|  104912.0|  107773.0|  110130.0|  112261.0|  114653.0|  117589.0|  120204.0|  122392.0|  124375.0|  126045.0|  127659.0|  129491.0|  131744.0|  133721.0|  135569.0|  137115.0|  138657.0|  139771.0|  141475.0|  143114.0|  144749.0|  146457.0|  148067.0|  149435.0|  150593.0|  151615.0|  152587.0|  153548.0|  154500.0|  155686.0|  156827.0|  157814.0|  158762.0|  159797.0|  160979.0|  162120.0|  163103.0|  163942.0|  164769.0|  165555.0|  166422.0|  167410.0|  168340.0|  169218.0|  170132.0|  171121.0|  172114.0|  173036.0|  174023.0|  175218.0|  176677.0|  178239.0|  179831.0|  181298.0|  182727.0|  184031.0|  185245.0|  186493.0|  187685.0|  188897.0|  190165.0|  191657.0|  193115.0|  194511.0|  195883.0|  197239.0|  198613.0|  199906.0|  201098.0|  202284.0|  203456.0|  204610.0|  205758.0|  206844.0|  207897.0|  208938.0|  209962.0|  210965.0|  211981.0|  212993.0|  214001.0|  214993.0|  215940.0|  216873.0|  217799.0|  218717.0|  219641.0|  220572.0|  221500.0|  222402.0|  223315.0|  224252.0|  225173.0|  226100.0|  227019.0|  227982.0|  228924.0|  229891.0|  230873.0|  231869.0|  232856.0|  233851.0|  234934.0|  236112.0|  237265.0|  238450.0|  239622.0|  240804.0|  241997.0|  243180.0|  244392.0|\n",
            "|Western Sahara|      null|      null|      null|      null|      null|      null|      null|      null|      null|      null|      null|      null|      null|      null|      null|      null|      null|      null|      null|      null|      null|      null|      null|      null|      null|      null|      null|      null|      null|      null|      null|      null|      null|      null|      null|      null|      null|      null|      null|      null|      null|      null|      null|      null|      null|      null|      null|      null|      null|      null|      null|      null|      null|      null|      null|      null|      null|      null|      null|      null|      null|      null|      null|      null|      null|      null|      null|      null|      null|      null|      null|      null|      null|      null|       4.0|       4.0|       4.0|       4.0|       4.0|       4.0|       4.0|       6.0|       6.0|       6.0|       6.0|       6.0|       6.0|       6.0|       6.0|       6.0|       6.0|       6.0|       6.0|       6.0|       6.0|       6.0|       6.0|       6.0|       6.0|       6.0|       6.0|       6.0|       6.0|       6.0|       6.0|       6.0|       6.0|       6.0|       6.0|       6.0|       6.0|       6.0|       6.0|       6.0|       6.0|       6.0|       6.0|       6.0|       6.0|       6.0|       6.0|       6.0|       6.0|       9.0|       9.0|       9.0|       9.0|       9.0|       9.0|       9.0|       9.0|       9.0|       9.0|       9.0|       9.0|       9.0|       9.0|       9.0|       9.0|       9.0|       9.0|       9.0|       9.0|       9.0|       9.0|       9.0|       9.0|       9.0|       9.0|       9.0|       9.0|       9.0|      10.0|      10.0|      10.0|      10.0|      10.0|      10.0|      10.0|      10.0|      10.0|      10.0|      10.0|      10.0|      10.0|      10.0|      10.0|      10.0|      10.0|      10.0|      10.0|      10.0|      10.0|      10.0|      10.0|      10.0|      10.0|      10.0|      10.0|      10.0|      10.0|      10.0|      10.0|      10.0|      10.0|      10.0|      10.0|      10.0|      10.0|      10.0|      10.0|      10.0|      10.0|      10.0|      10.0|      10.0|      10.0|      10.0|      10.0|      10.0|      10.0|      10.0|      10.0|      10.0|\n",
            "|        Malawi|      null|      null|      null|      null|      null|      null|      null|      null|      null|      null|      null|      null|      null|      null|      null|      null|      null|      null|      null|      null|      null|      null|      null|      null|      null|      null|      null|      null|      null|      null|      null|      null|      null|      null|      null|      null|      null|      null|      null|      null|      null|      null|      null|      null|      null|      null|      null|      null|      null|      null|      null|      null|      null|      null|      null|      null|      null|      null|      null|      null|      null|      null|      null|      null|      null|      null|      null|      null|      null|      null|      null|       3.0|       3.0|       4.0|       4.0|       5.0|       8.0|       8.0|       8.0|       9.0|      12.0|      13.0|      16.0|      16.0|      16.0|      16.0|      17.0|      17.0|      17.0|      17.0|      18.0|      23.0|      33.0|      33.0|      33.0|      34.0|      36.0|      36.0|      36.0|      37.0|      37.0|      38.0|      39.0|      41.0|      41.0|      43.0|      43.0|      43.0|      56.0|      56.0|      57.0|      57.0|      63.0|      63.0|      63.0|      65.0|      70.0|      70.0|      70.0|      71.0|      72.0|      82.0|      82.0|      83.0|     101.0|     101.0|     101.0|     203.0|     273.0|     279.0|     284.0|     336.0|     358.0|     369.0|     393.0|     409.0|     409.0|     438.0|     443.0|     455.0|     455.0|     481.0|     481.0|     529.0|     547.0|     555.0|     564.0|     572.0|     592.0|     620.0|     620.0|     730.0|     749.0|     803.0|     941.0|     960.0|    1005.0|    1038.0|    1146.0|    1152.0|    1224.0|    1265.0|    1342.0|    1498.0|    1613.0|    1613.0|    1742.0|    1818.0|    1864.0|    1942.0|    2069.0|    2261.0|    2364.0|    2430.0|    2497.0|    2614.0|    2712.0|    2805.0|    2810.0|    2907.0|    2992.0|    3045.0|    3302.0|    3302.0|    3453.0|    3453.0|    3640.0|    3664.0|    3709.0|    3738.0|    3858.0|    4078.0|    4186.0|    4231.0|    4272.0|    4361.0|    4426.0|    4491.0|    4575.0|    4624.0|    4658.0|    4674.0|    4714.0|    4752.0|\n",
            "+--------------+----------+----------+----------+----------+----------+----------+----------+----------+----------+----------+----------+----------+----------+----------+----------+----------+----------+----------+----------+----------+----------+----------+----------+----------+----------+----------+----------+----------+----------+----------+----------+----------+----------+----------+----------+----------+----------+----------+----------+----------+----------+----------+----------+----------+----------+----------+----------+----------+----------+----------+----------+----------+----------+----------+----------+----------+----------+----------+----------+----------+----------+----------+----------+----------+----------+----------+----------+----------+----------+----------+----------+----------+----------+----------+----------+----------+----------+----------+----------+----------+----------+----------+----------+----------+----------+----------+----------+----------+----------+----------+----------+----------+----------+----------+----------+----------+----------+----------+----------+----------+----------+----------+----------+----------+----------+----------+----------+----------+----------+----------+----------+----------+----------+----------+----------+----------+----------+----------+----------+----------+----------+----------+----------+----------+----------+----------+----------+----------+----------+----------+----------+----------+----------+----------+----------+----------+----------+----------+----------+----------+----------+----------+----------+----------+----------+----------+----------+----------+----------+----------+----------+----------+----------+----------+----------+----------+----------+----------+----------+----------+----------+----------+----------+----------+----------+----------+----------+----------+----------+----------+----------+----------+----------+----------+----------+----------+----------+----------+----------+----------+----------+----------+----------+----------+----------+----------+----------+----------+----------+----------+----------+----------+----------+----------+----------+----------+----------+----------+----------+----------+----------+----------+----------+----------+\n",
            "only showing top 20 rows\n",
            "\n",
            "The processing Time is:  16.13961100578308 seconds\n"
          ],
          "name": "stdout"
        }
      ]
    },
    {
      "cell_type": "markdown",
      "metadata": {
        "id": "vNKA3qn9grA_",
        "colab_type": "text"
      },
      "source": [
        "Creating **Catagorical** value with 1 or 0 filtering by Country"
      ]
    },
    {
      "cell_type": "code",
      "metadata": {
        "id": "2zGLFLxEh4O3",
        "colab_type": "code",
        "colab": {
          "base_uri": "https://localhost:8080/",
          "height": 496
        },
        "outputId": "d967e497-a60a-49cc-9db0-71e12f51d2e7"
      },
      "source": [
        "t=time()\n",
        "corona_dataFrame.filter(col(\"Country/Region\")==\"US\").crosstab(\"Province/State\", \"ObservationDate\").show()\n",
        "print(\"The processing Time is: \", time()- t,\"seconds\")"
      ],
      "execution_count": null,
      "outputs": [
        {
          "output_type": "stream",
          "text": [
            "+------------------------------+----------+----------+----------+----------+----------+----------+----------+----------+----------+----------+----------+----------+----------+----------+----------+----------+----------+----------+----------+----------+----------+----------+----------+----------+----------+----------+----------+----------+----------+----------+----------+----------+----------+----------+----------+----------+----------+----------+----------+----------+----------+----------+----------+----------+----------+----------+----------+----------+----------+----------+----------+----------+----------+----------+----------+----------+----------+----------+----------+----------+----------+----------+----------+----------+----------+----------+----------+----------+----------+----------+----------+----------+----------+----------+----------+----------+----------+----------+----------+----------+----------+----------+----------+----------+----------+----------+----------+----------+----------+----------+----------+----------+----------+----------+----------+----------+----------+----------+----------+----------+----------+----------+----------+----------+----------+----------+----------+----------+----------+----------+----------+----------+----------+----------+----------+----------+----------+----------+----------+----------+----------+----------+----------+----------+----------+----------+----------+----------+----------+----------+----------+----------+----------+----------+----------+----------+----------+----------+----------+----------+----------+----------+----------+----------+----------+----------+----------+----------+----------+----------+----------+----------+----------+----------+----------+----------+----------+----------+----------+----------+----------+----------+----------+----------+----------+----------+----------+----------+----------+----------+----------+----------+----------+----------+----------+----------+----------+----------+----------+----------+----------+----------+----------+----------+----------+----------+----------+----------+----------+----------+----------+----------+----------+----------+----------+----------+----------+----------+----------+----------+----------+----------+----------+----------+\n",
            "|Province/State_ObservationDate|01/22/2020|01/23/2020|01/24/2020|01/25/2020|01/26/2020|01/27/2020|01/28/2020|01/29/2020|01/30/2020|01/31/2020|02/01/2020|02/02/2020|02/03/2020|02/04/2020|02/05/2020|02/06/2020|02/07/2020|02/08/2020|02/09/2020|02/10/2020|02/11/2020|02/12/2020|02/13/2020|02/14/2020|02/15/2020|02/16/2020|02/17/2020|02/18/2020|02/19/2020|02/20/2020|02/21/2020|02/22/2020|02/23/2020|02/24/2020|02/25/2020|02/26/2020|02/27/2020|02/28/2020|02/29/2020|03/01/2020|03/02/2020|03/03/2020|03/04/2020|03/05/2020|03/06/2020|03/07/2020|03/08/2020|03/09/2020|03/10/2020|03/11/2020|03/12/2020|03/13/2020|03/14/2020|03/15/2020|03/16/2020|03/17/2020|03/18/2020|03/19/2020|03/20/2020|03/21/2020|03/22/2020|03/23/2020|03/24/2020|03/25/2020|03/26/2020|03/27/2020|03/28/2020|03/29/2020|03/30/2020|03/31/2020|04/01/2020|04/02/2020|04/03/2020|04/04/2020|04/05/2020|04/06/2020|04/07/2020|04/08/2020|04/09/2020|04/10/2020|04/11/2020|04/12/2020|04/13/2020|04/14/2020|04/15/2020|04/16/2020|04/17/2020|04/18/2020|04/19/2020|04/20/2020|04/21/2020|04/22/2020|04/23/2020|04/24/2020|04/25/2020|04/26/2020|04/27/2020|04/28/2020|04/29/2020|04/30/2020|05/01/2020|05/02/2020|05/03/2020|05/04/2020|05/05/2020|05/06/2020|05/07/2020|05/08/2020|05/09/2020|05/10/2020|05/11/2020|05/12/2020|05/13/2020|05/14/2020|05/15/2020|05/16/2020|05/17/2020|05/18/2020|05/19/2020|05/20/2020|05/21/2020|05/22/2020|05/23/2020|05/24/2020|05/25/2020|05/26/2020|05/27/2020|05/28/2020|05/29/2020|05/30/2020|05/31/2020|06/01/2020|06/02/2020|06/03/2020|06/04/2020|06/05/2020|06/06/2020|06/07/2020|06/08/2020|06/09/2020|06/10/2020|06/11/2020|06/12/2020|06/13/2020|06/14/2020|06/15/2020|06/16/2020|06/17/2020|06/18/2020|06/19/2020|06/20/2020|06/21/2020|06/22/2020|06/23/2020|06/24/2020|06/25/2020|06/26/2020|06/27/2020|06/28/2020|06/29/2020|06/30/2020|07/01/2020|07/02/2020|07/03/2020|07/04/2020|07/05/2020|07/06/2020|07/07/2020|07/08/2020|07/09/2020|07/10/2020|07/11/2020|07/12/2020|07/13/2020|07/14/2020|07/15/2020|07/16/2020|07/17/2020|07/18/2020|07/19/2020|07/20/2020|07/21/2020|07/22/2020|07/23/2020|07/24/2020|07/25/2020|07/26/2020|07/27/2020|07/28/2020|07/29/2020|07/30/2020|07/31/2020|08/01/2020|08/02/2020|08/03/2020|08/04/2020|08/05/2020|08/06/2020|08/07/2020|08/08/2020|08/09/2020|08/10/2020|08/11/2020|08/12/2020|\n",
            "+------------------------------+----------+----------+----------+----------+----------+----------+----------+----------+----------+----------+----------+----------+----------+----------+----------+----------+----------+----------+----------+----------+----------+----------+----------+----------+----------+----------+----------+----------+----------+----------+----------+----------+----------+----------+----------+----------+----------+----------+----------+----------+----------+----------+----------+----------+----------+----------+----------+----------+----------+----------+----------+----------+----------+----------+----------+----------+----------+----------+----------+----------+----------+----------+----------+----------+----------+----------+----------+----------+----------+----------+----------+----------+----------+----------+----------+----------+----------+----------+----------+----------+----------+----------+----------+----------+----------+----------+----------+----------+----------+----------+----------+----------+----------+----------+----------+----------+----------+----------+----------+----------+----------+----------+----------+----------+----------+----------+----------+----------+----------+----------+----------+----------+----------+----------+----------+----------+----------+----------+----------+----------+----------+----------+----------+----------+----------+----------+----------+----------+----------+----------+----------+----------+----------+----------+----------+----------+----------+----------+----------+----------+----------+----------+----------+----------+----------+----------+----------+----------+----------+----------+----------+----------+----------+----------+----------+----------+----------+----------+----------+----------+----------+----------+----------+----------+----------+----------+----------+----------+----------+----------+----------+----------+----------+----------+----------+----------+----------+----------+----------+----------+----------+----------+----------+----------+----------+----------+----------+----------+----------+----------+----------+----------+----------+----------+----------+----------+----------+----------+----------+----------+----------+----------+----------+----------+\n",
            "|                    New Mexico|         0|         0|         0|         0|         0|         0|         0|         0|         0|         0|         0|         0|         0|         0|         0|         0|         0|         0|         0|         0|         0|         0|         0|         0|         0|         0|         0|         0|         0|         0|         0|         0|         0|         0|         0|         0|         0|         0|         0|         0|         0|         0|         0|         0|         0|         0|         0|         0|         1|         1|         1|         1|         1|         1|         1|         1|         1|         1|         1|         1|         1|         1|         1|         1|         1|         1|         1|         1|         1|         1|         1|         1|         1|         1|         1|         1|         1|         1|         1|         1|         1|         1|         1|         1|         1|         1|         1|         1|         1|         1|         1|         1|         1|         1|         1|         1|         1|         1|         1|         1|         1|         1|         1|         1|         1|         1|         1|         1|         1|         1|         1|         1|         1|         1|         1|         1|         1|         1|         1|         1|         1|         1|         1|         1|         1|         1|         1|         1|         1|         1|         1|         1|         1|         1|         1|         1|         1|         1|         1|         1|         1|         1|         1|         1|         1|         1|         1|         1|         1|         1|         1|         1|         1|         1|         1|         1|         1|         1|         1|         1|         1|         1|         1|         1|         1|         1|         1|         1|         1|         1|         1|         1|         1|         1|         1|         1|         1|         1|         1|         1|         1|         1|         1|         1|         1|         1|         1|         1|         1|         1|         1|         1|         1|         1|         1|         1|         1|         1|         1|         1|         1|         1|         1|         1|\n",
            "|              Clark County, NV|         0|         0|         0|         0|         0|         0|         0|         0|         0|         0|         0|         0|         0|         0|         0|         0|         0|         0|         0|         0|         0|         0|         0|         0|         0|         0|         0|         0|         0|         0|         0|         0|         0|         0|         0|         0|         0|         0|         0|         0|         0|         0|         0|         1|         1|         1|         1|         1|         0|         0|         0|         0|         0|         0|         0|         0|         0|         0|         0|         0|         0|         0|         0|         0|         0|         0|         0|         0|         0|         0|         0|         0|         0|         0|         0|         0|         0|         0|         0|         0|         0|         0|         0|         0|         0|         0|         0|         0|         0|         0|         0|         0|         0|         0|         0|         0|         0|         0|         0|         0|         0|         0|         0|         0|         0|         0|         0|         0|         0|         0|         0|         0|         0|         0|         0|         0|         0|         0|         0|         0|         0|         0|         0|         0|         0|         0|         0|         0|         0|         0|         0|         0|         0|         0|         0|         0|         0|         0|         0|         0|         0|         0|         0|         0|         0|         0|         0|         0|         0|         0|         0|         0|         0|         0|         0|         0|         0|         0|         0|         0|         0|         0|         0|         0|         0|         0|         0|         0|         0|         0|         0|         0|         0|         0|         0|         0|         0|         0|         0|         0|         0|         0|         0|         0|         0|         0|         0|         0|         0|         0|         0|         0|         0|         0|         0|         0|         0|         0|         0|         0|         0|         0|         0|         0|\n",
            "|             New York City, NY|         0|         0|         0|         0|         0|         0|         0|         0|         0|         0|         0|         0|         0|         0|         0|         0|         0|         0|         0|         0|         0|         0|         0|         0|         0|         0|         0|         0|         0|         0|         0|         0|         0|         0|         0|         0|         0|         0|         0|         0|         1|         1|         1|         1|         0|         0|         0|         0|         0|         0|         0|         0|         0|         0|         0|         0|         0|         0|         0|         0|         0|         0|         0|         0|         0|         0|         0|         0|         0|         0|         0|         0|         0|         0|         0|         0|         0|         0|         0|         0|         0|         0|         0|         0|         0|         0|         0|         0|         0|         0|         0|         0|         0|         0|         0|         0|         0|         0|         0|         0|         0|         0|         0|         0|         0|         0|         0|         0|         0|         0|         0|         0|         0|         0|         0|         0|         0|         0|         0|         0|         0|         0|         0|         0|         0|         0|         0|         0|         0|         0|         0|         0|         0|         0|         0|         0|         0|         0|         0|         0|         0|         0|         0|         0|         0|         0|         0|         0|         0|         0|         0|         0|         0|         0|         0|         0|         0|         0|         0|         0|         0|         0|         0|         0|         0|         0|         0|         0|         0|         0|         0|         0|         0|         0|         0|         0|         0|         0|         0|         0|         0|         0|         0|         0|         0|         0|         0|         0|         0|         0|         0|         0|         0|         0|         0|         0|         0|         0|         0|         0|         0|         0|         0|         0|\n",
            "|                    Boston, MA|         0|         0|         0|         0|         0|         0|         0|         0|         0|         0|         1|         1|         1|         1|         1|         1|         1|         1|         1|         1|         1|         1|         1|         1|         1|         1|         1|         1|         1|         1|         1|         1|         1|         1|         1|         1|         1|         1|         1|         1|         1|         1|         1|         1|         0|         0|         0|         0|         0|         0|         0|         0|         0|         0|         0|         0|         0|         0|         0|         0|         0|         0|         0|         0|         0|         0|         0|         0|         0|         0|         0|         0|         0|         0|         0|         0|         0|         0|         0|         0|         0|         0|         0|         0|         0|         0|         0|         0|         0|         0|         0|         0|         0|         0|         0|         0|         0|         0|         0|         0|         0|         0|         0|         0|         0|         0|         0|         0|         0|         0|         0|         0|         0|         0|         0|         0|         0|         0|         0|         0|         0|         0|         0|         0|         0|         0|         0|         0|         0|         0|         0|         0|         0|         0|         0|         0|         0|         0|         0|         0|         0|         0|         0|         0|         0|         0|         0|         0|         0|         0|         0|         0|         0|         0|         0|         0|         0|         0|         0|         0|         0|         0|         0|         0|         0|         0|         0|         0|         0|         0|         0|         0|         0|         0|         0|         0|         0|         0|         0|         0|         0|         0|         0|         0|         0|         0|         0|         0|         0|         0|         0|         0|         0|         0|         0|         0|         0|         0|         0|         0|         0|         0|         0|         0|\n",
            "|           Maricopa County, AZ|         0|         0|         0|         0|         0|         0|         0|         0|         0|         0|         0|         0|         0|         0|         0|         0|         0|         0|         0|         0|         0|         0|         0|         0|         0|         0|         0|         0|         0|         0|         0|         0|         0|         0|         0|         0|         0|         0|         0|         0|         0|         1|         1|         1|         1|         1|         1|         1|         0|         0|         0|         0|         0|         0|         0|         0|         0|         0|         0|         0|         0|         0|         0|         0|         0|         0|         0|         0|         0|         0|         0|         0|         0|         0|         0|         0|         0|         0|         0|         0|         0|         0|         0|         0|         0|         0|         0|         0|         0|         0|         0|         0|         0|         0|         0|         0|         0|         0|         0|         0|         0|         0|         0|         0|         0|         0|         0|         0|         0|         0|         0|         0|         0|         0|         0|         0|         0|         0|         0|         0|         0|         0|         0|         0|         0|         0|         0|         0|         0|         0|         0|         0|         0|         0|         0|         0|         0|         0|         0|         0|         0|         0|         0|         0|         0|         0|         0|         0|         0|         0|         0|         0|         0|         0|         0|         0|         0|         0|         0|         0|         0|         0|         0|         0|         0|         0|         0|         0|         0|         0|         0|         0|         0|         0|         0|         0|         0|         0|         0|         0|         0|         0|         0|         0|         0|         0|         0|         0|         0|         0|         0|         0|         0|         0|         0|         0|         0|         0|         0|         0|         0|         0|         0|         0|\n",
            "|          Omaha, NE (From D...|         0|         0|         0|         0|         0|         0|         0|         0|         0|         0|         0|         0|         0|         0|         0|         0|         0|         0|         0|         0|         0|         0|         0|         0|         0|         0|         0|         0|         0|         0|         0|         1|         1|         1|         1|         1|         1|         1|         1|         1|         1|         1|         1|         1|         1|         1|         1|         1|         0|         0|         0|         0|         0|         0|         0|         0|         0|         0|         0|         0|         0|         0|         0|         0|         0|         0|         0|         0|         0|         0|         0|         0|         0|         0|         0|         0|         0|         0|         0|         0|         0|         0|         0|         0|         0|         0|         0|         0|         0|         0|         0|         0|         0|         0|         0|         0|         0|         0|         0|         0|         0|         0|         0|         0|         0|         0|         0|         0|         0|         0|         0|         0|         0|         0|         0|         0|         0|         0|         0|         0|         0|         0|         0|         0|         0|         0|         0|         0|         0|         0|         0|         0|         0|         0|         0|         0|         0|         0|         0|         0|         0|         0|         0|         0|         0|         0|         0|         0|         0|         0|         0|         0|         0|         0|         0|         0|         0|         0|         0|         0|         0|         0|         0|         0|         0|         0|         0|         0|         0|         0|         0|         0|         0|         0|         0|         0|         0|         0|         0|         0|         0|         0|         0|         0|         0|         0|         0|         0|         0|         0|         0|         0|         0|         0|         0|         0|         0|         0|         0|         0|         0|         0|         0|         0|\n",
            "|             Harris County, TX|         0|         0|         0|         0|         0|         0|         0|         0|         0|         0|         0|         0|         0|         0|         0|         0|         0|         0|         0|         0|         0|         0|         0|         0|         0|         0|         0|         0|         0|         0|         0|         0|         0|         0|         0|         0|         0|         0|         0|         0|         0|         0|         0|         1|         1|         1|         1|         1|         0|         0|         0|         0|         0|         0|         0|         0|         0|         0|         0|         0|         0|         0|         0|         0|         0|         0|         0|         0|         0|         0|         0|         0|         0|         0|         0|         0|         0|         0|         0|         0|         0|         0|         0|         0|         0|         0|         0|         0|         0|         0|         0|         0|         0|         0|         0|         0|         0|         0|         0|         0|         0|         0|         0|         0|         0|         0|         0|         0|         0|         0|         0|         0|         0|         0|         0|         0|         0|         0|         0|         0|         0|         0|         0|         0|         0|         0|         0|         0|         0|         0|         0|         0|         0|         0|         0|         0|         0|         0|         0|         0|         0|         0|         0|         0|         0|         0|         0|         0|         0|         0|         0|         0|         0|         0|         0|         0|         0|         0|         0|         0|         0|         0|         0|         0|         0|         0|         0|         0|         0|         0|         0|         0|         0|         0|         0|         0|         0|         0|         0|         0|         0|         0|         0|         0|         0|         0|         0|         0|         0|         0|         0|         0|         0|         0|         0|         0|         0|         0|         0|         0|         0|         0|         0|         0|\n",
            "|                   Connecticut|         0|         0|         0|         0|         0|         0|         0|         0|         0|         0|         0|         0|         0|         0|         0|         0|         0|         0|         0|         0|         0|         0|         0|         0|         0|         0|         0|         0|         0|         0|         0|         0|         0|         0|         0|         0|         0|         0|         0|         0|         0|         0|         0|         0|         0|         0|         0|         0|         1|         1|         1|         1|         1|         1|         1|         1|         1|         1|         1|         1|         1|         1|         1|         1|         1|         1|         1|         1|         1|         1|         1|         1|         1|         1|         1|         1|         1|         1|         1|         1|         1|         1|         1|         1|         1|         1|         1|         1|         1|         1|         1|         1|         1|         1|         1|         1|         1|         1|         1|         1|         1|         1|         1|         1|         1|         1|         1|         1|         1|         1|         1|         1|         1|         1|         1|         1|         1|         1|         1|         1|         1|         1|         1|         1|         1|         1|         1|         1|         1|         1|         1|         1|         1|         1|         1|         1|         1|         1|         1|         1|         1|         1|         1|         1|         1|         1|         1|         1|         1|         1|         1|         1|         1|         1|         1|         1|         1|         1|         1|         1|         1|         1|         1|         1|         1|         1|         1|         1|         1|         1|         1|         1|         1|         1|         1|         1|         1|         1|         1|         1|         1|         1|         1|         1|         1|         1|         1|         1|         1|         1|         1|         1|         1|         1|         1|         1|         1|         1|         1|         1|         1|         1|         1|         1|\n",
            "|               Wake County, NC|         0|         0|         0|         0|         0|         0|         0|         0|         0|         0|         0|         0|         0|         0|         0|         0|         0|         0|         0|         0|         0|         0|         0|         0|         0|         0|         0|         0|         0|         0|         0|         0|         0|         0|         0|         0|         0|         0|         0|         0|         0|         1|         1|         1|         1|         1|         1|         1|         0|         0|         0|         0|         0|         0|         0|         0|         0|         0|         0|         0|         0|         0|         0|         0|         0|         0|         0|         0|         0|         0|         0|         0|         0|         0|         0|         0|         0|         0|         0|         0|         0|         0|         0|         0|         0|         0|         0|         0|         0|         0|         0|         0|         0|         0|         0|         0|         0|         0|         0|         0|         0|         0|         0|         0|         0|         0|         0|         0|         0|         0|         0|         0|         0|         0|         0|         0|         0|         0|         0|         0|         0|         0|         0|         0|         0|         0|         0|         0|         0|         0|         0|         0|         0|         0|         0|         0|         0|         0|         0|         0|         0|         0|         0|         0|         0|         0|         0|         0|         0|         0|         0|         0|         0|         0|         0|         0|         0|         0|         0|         0|         0|         0|         0|         0|         0|         0|         0|         0|         0|         0|         0|         0|         0|         0|         0|         0|         0|         0|         0|         0|         0|         0|         0|         0|         0|         0|         0|         0|         0|         0|         0|         0|         0|         0|         0|         0|         0|         0|         0|         0|         0|         0|         0|         0|\n",
            "|            Johnson County, IA|         0|         0|         0|         0|         0|         0|         0|         0|         0|         0|         0|         0|         0|         0|         0|         0|         0|         0|         0|         0|         0|         0|         0|         0|         0|         0|         0|         0|         0|         0|         0|         0|         0|         0|         0|         0|         0|         0|         0|         0|         0|         0|         0|         0|         0|         0|         0|         1|         0|         0|         0|         0|         0|         0|         0|         0|         0|         0|         0|         0|         0|         0|         0|         0|         0|         0|         0|         0|         0|         0|         0|         0|         0|         0|         0|         0|         0|         0|         0|         0|         0|         0|         0|         0|         0|         0|         0|         0|         0|         0|         0|         0|         0|         0|         0|         0|         0|         0|         0|         0|         0|         0|         0|         0|         0|         0|         0|         0|         0|         0|         0|         0|         0|         0|         0|         0|         0|         0|         0|         0|         0|         0|         0|         0|         0|         0|         0|         0|         0|         0|         0|         0|         0|         0|         0|         0|         0|         0|         0|         0|         0|         0|         0|         0|         0|         0|         0|         0|         0|         0|         0|         0|         0|         0|         0|         0|         0|         0|         0|         0|         0|         0|         0|         0|         0|         0|         0|         0|         0|         0|         0|         0|         0|         0|         0|         0|         0|         0|         0|         0|         0|         0|         0|         0|         0|         0|         0|         0|         0|         0|         0|         0|         0|         0|         0|         0|         0|         0|         0|         0|         0|         0|         0|         0|\n",
            "|              Tulsa County, OK|         0|         0|         0|         0|         0|         0|         0|         0|         0|         0|         0|         0|         0|         0|         0|         0|         0|         0|         0|         0|         0|         0|         0|         0|         0|         0|         0|         0|         0|         0|         0|         0|         0|         0|         0|         0|         0|         0|         0|         0|         0|         0|         0|         0|         0|         1|         1|         1|         0|         0|         0|         0|         0|         0|         0|         0|         0|         0|         0|         0|         0|         0|         0|         0|         0|         0|         0|         0|         0|         0|         0|         0|         0|         0|         0|         0|         0|         0|         0|         0|         0|         0|         0|         0|         0|         0|         0|         0|         0|         0|         0|         0|         0|         0|         0|         0|         0|         0|         0|         0|         0|         0|         0|         0|         0|         0|         0|         0|         0|         0|         0|         0|         0|         0|         0|         0|         0|         0|         0|         0|         0|         0|         0|         0|         0|         0|         0|         0|         0|         0|         0|         0|         0|         0|         0|         0|         0|         0|         0|         0|         0|         0|         0|         0|         0|         0|         0|         0|         0|         0|         0|         0|         0|         0|         0|         0|         0|         0|         0|         0|         0|         0|         0|         0|         0|         0|         0|         0|         0|         0|         0|         0|         0|         0|         0|         0|         0|         0|         0|         0|         0|         0|         0|         0|         0|         0|         0|         0|         0|         0|         0|         0|         0|         0|         0|         0|         0|         0|         0|         0|         0|         0|         0|         0|\n",
            "|                    California|         0|         0|         0|         0|         1|         1|         1|         1|         1|         1|         0|         0|         0|         0|         0|         0|         0|         0|         0|         0|         0|         0|         0|         0|         0|         0|         0|         0|         0|         0|         0|         0|         0|         0|         0|         0|         0|         0|         0|         0|         0|         0|         0|         0|         0|         0|         0|         0|         1|         1|         1|         1|         1|         1|         1|         1|         1|         1|         1|         1|         1|         1|         1|         1|         1|         1|         1|         1|         1|         1|         1|         1|         1|         1|         1|         1|         1|         1|         1|         1|         1|         1|         1|         1|         1|         1|         1|         1|         1|         1|         1|         1|         1|         1|         1|         1|         1|         1|         1|         1|         1|         1|         1|         1|         1|         1|         1|         1|         1|         1|         1|         1|         1|         1|         1|         1|         1|         1|         1|         1|         1|         1|         1|         1|         1|         1|         1|         1|         1|         1|         1|         1|         1|         1|         1|         1|         1|         1|         1|         1|         1|         1|         1|         1|         1|         1|         1|         1|         1|         1|         1|         1|         1|         1|         1|         1|         1|         1|         1|         1|         1|         1|         1|         1|         1|         1|         1|         1|         1|         1|         1|         1|         1|         1|         1|         1|         1|         1|         1|         1|         1|         1|         1|         1|         1|         1|         1|         1|         1|         1|         1|         1|         1|         1|         1|         1|         1|         1|         1|         1|         1|         1|         1|         1|\n",
            "|          Fairfield County, CT|         0|         0|         0|         0|         0|         0|         0|         0|         0|         0|         0|         0|         0|         0|         0|         0|         0|         0|         0|         0|         0|         0|         0|         0|         0|         0|         0|         0|         0|         0|         0|         0|         0|         0|         0|         0|         0|         0|         0|         0|         0|         0|         0|         0|         0|         1|         1|         1|         0|         0|         0|         0|         0|         0|         0|         0|         0|         0|         0|         0|         0|         0|         0|         0|         0|         0|         0|         0|         0|         0|         0|         0|         0|         0|         0|         0|         0|         0|         0|         0|         0|         0|         0|         0|         0|         0|         0|         0|         0|         0|         0|         0|         0|         0|         0|         0|         0|         0|         0|         0|         0|         0|         0|         0|         0|         0|         0|         0|         0|         0|         0|         0|         0|         0|         0|         0|         0|         0|         0|         0|         0|         0|         0|         0|         0|         0|         0|         0|         0|         0|         0|         0|         0|         0|         0|         0|         0|         0|         0|         0|         0|         0|         0|         0|         0|         0|         0|         0|         0|         0|         0|         0|         0|         0|         0|         0|         0|         0|         0|         0|         0|         0|         0|         0|         0|         0|         0|         0|         0|         0|         0|         0|         0|         0|         0|         0|         0|         0|         0|         0|         0|         0|         0|         0|         0|         0|         0|         0|         0|         0|         0|         0|         0|         0|         0|         0|         0|         0|         0|         0|         0|         0|         0|         0|\n",
            "|             Collin County, TX|         0|         0|         0|         0|         0|         0|         0|         0|         0|         0|         0|         0|         0|         0|         0|         0|         0|         0|         0|         0|         0|         0|         0|         0|         0|         0|         0|         0|         0|         0|         0|         0|         0|         0|         0|         0|         0|         0|         0|         0|         0|         0|         0|         0|         0|         0|         0|         1|         0|         0|         0|         0|         0|         0|         0|         0|         0|         0|         0|         0|         0|         0|         0|         0|         0|         0|         0|         0|         0|         0|         0|         0|         0|         0|         0|         0|         0|         0|         0|         0|         0|         0|         0|         0|         0|         0|         0|         0|         0|         0|         0|         0|         0|         0|         0|         0|         0|         0|         0|         0|         0|         0|         0|         0|         0|         0|         0|         0|         0|         0|         0|         0|         0|         0|         0|         0|         0|         0|         0|         0|         0|         0|         0|         0|         0|         0|         0|         0|         0|         0|         0|         0|         0|         0|         0|         0|         0|         0|         0|         0|         0|         0|         0|         0|         0|         0|         0|         0|         0|         0|         0|         0|         0|         0|         0|         0|         0|         0|         0|         0|         0|         0|         0|         0|         0|         0|         0|         0|         0|         0|         0|         0|         0|         0|         0|         0|         0|         0|         0|         0|         0|         0|         0|         0|         0|         0|         0|         0|         0|         0|         0|         0|         0|         0|         0|         0|         0|         0|         0|         0|         0|         0|         0|         0|\n",
            "|                        Nevada|         0|         0|         0|         0|         0|         0|         0|         0|         0|         0|         0|         0|         0|         0|         0|         0|         0|         0|         0|         0|         0|         0|         0|         0|         0|         0|         0|         0|         0|         0|         0|         0|         0|         0|         0|         0|         0|         0|         0|         0|         0|         0|         0|         0|         0|         0|         0|         0|         1|         1|         1|         1|         1|         1|         1|         1|         1|         1|         1|         1|         1|         1|         1|         1|         1|         1|         1|         1|         1|         1|         1|         1|         1|         1|         1|         1|         1|         1|         1|         1|         1|         1|         1|         1|         1|         1|         1|         1|         1|         1|         1|         1|         1|         1|         1|         1|         1|         1|         1|         1|         1|         1|         1|         1|         1|         1|         1|         1|         1|         1|         1|         1|         1|         1|         1|         1|         1|         1|         1|         1|         1|         1|         1|         1|         1|         1|         1|         1|         1|         1|         1|         1|         1|         1|         1|         1|         1|         1|         1|         1|         1|         1|         1|         1|         1|         1|         1|         1|         1|         1|         1|         1|         1|         1|         1|         1|         1|         1|         1|         1|         1|         1|         1|         1|         1|         1|         1|         1|         1|         1|         1|         1|         1|         1|         1|         1|         1|         1|         1|         1|         1|         1|         1|         1|         1|         1|         1|         1|         1|         1|         1|         1|         1|         1|         1|         1|         1|         1|         1|         1|         1|         1|         1|         1|\n",
            "|              Floyd County, GA|         0|         0|         0|         0|         0|         0|         0|         0|         0|         0|         0|         0|         0|         0|         0|         0|         0|         0|         0|         0|         0|         0|         0|         0|         0|         0|         0|         0|         0|         0|         0|         0|         0|         0|         0|         0|         0|         0|         0|         0|         0|         0|         0|         0|         1|         1|         0|         0|         0|         0|         0|         0|         0|         0|         0|         0|         0|         0|         0|         0|         0|         0|         0|         0|         0|         0|         0|         0|         0|         0|         0|         0|         0|         0|         0|         0|         0|         0|         0|         0|         0|         0|         0|         0|         0|         0|         0|         0|         0|         0|         0|         0|         0|         0|         0|         0|         0|         0|         0|         0|         0|         0|         0|         0|         0|         0|         0|         0|         0|         0|         0|         0|         0|         0|         0|         0|         0|         0|         0|         0|         0|         0|         0|         0|         0|         0|         0|         0|         0|         0|         0|         0|         0|         0|         0|         0|         0|         0|         0|         0|         0|         0|         0|         0|         0|         0|         0|         0|         0|         0|         0|         0|         0|         0|         0|         0|         0|         0|         0|         0|         0|         0|         0|         0|         0|         0|         0|         0|         0|         0|         0|         0|         0|         0|         0|         0|         0|         0|         0|         0|         0|         0|         0|         0|         0|         0|         0|         0|         0|         0|         0|         0|         0|         0|         0|         0|         0|         0|         0|         0|         0|         0|         0|         0|\n",
            "|              Clark County, WA|         0|         0|         0|         0|         0|         0|         0|         0|         0|         0|         0|         0|         0|         0|         0|         0|         0|         0|         0|         0|         0|         0|         0|         0|         0|         0|         0|         0|         0|         0|         0|         0|         0|         0|         0|         0|         0|         0|         0|         0|         0|         0|         0|         0|         0|         1|         1|         1|         0|         0|         0|         0|         0|         0|         0|         0|         0|         0|         0|         0|         0|         0|         0|         0|         0|         0|         0|         0|         0|         0|         0|         0|         0|         0|         0|         0|         0|         0|         0|         0|         0|         0|         0|         0|         0|         0|         0|         0|         0|         0|         0|         0|         0|         0|         0|         0|         0|         0|         0|         0|         0|         0|         0|         0|         0|         0|         0|         0|         0|         0|         0|         0|         0|         0|         0|         0|         0|         0|         0|         0|         0|         0|         0|         0|         0|         0|         0|         0|         0|         0|         0|         0|         0|         0|         0|         0|         0|         0|         0|         0|         0|         0|         0|         0|         0|         0|         0|         0|         0|         0|         0|         0|         0|         0|         0|         0|         0|         0|         0|         0|         0|         0|         0|         0|         0|         0|         0|         0|         0|         0|         0|         0|         0|         0|         0|         0|         0|         0|         0|         0|         0|         0|         0|         0|         0|         0|         0|         0|         0|         0|         0|         0|         0|         0|         0|         0|         0|         0|         0|         0|         0|         0|         0|         0|\n",
            "|                        Hawaii|         0|         0|         0|         0|         0|         0|         0|         0|         0|         0|         0|         0|         0|         0|         0|         0|         0|         0|         0|         0|         0|         0|         0|         0|         0|         0|         0|         0|         0|         0|         0|         0|         0|         0|         0|         0|         0|         0|         0|         0|         0|         0|         0|         0|         0|         0|         0|         0|         1|         1|         1|         1|         1|         1|         1|         1|         1|         1|         1|         1|         1|         1|         1|         1|         1|         1|         1|         1|         1|         1|         1|         1|         1|         1|         1|         1|         1|         1|         1|         1|         1|         1|         1|         1|         1|         1|         1|         1|         1|         1|         1|         1|         1|         1|         1|         1|         1|         1|         1|         1|         1|         1|         1|         1|         1|         1|         1|         1|         1|         1|         1|         1|         1|         1|         1|         1|         1|         1|         1|         1|         1|         1|         1|         1|         1|         1|         1|         1|         1|         1|         1|         1|         1|         1|         1|         1|         1|         1|         1|         1|         1|         1|         1|         1|         1|         1|         1|         1|         1|         1|         1|         1|         1|         1|         1|         1|         1|         1|         1|         1|         1|         1|         1|         1|         1|         1|         1|         1|         1|         1|         1|         1|         1|         1|         1|         1|         1|         1|         1|         1|         1|         1|         1|         1|         1|         1|         1|         1|         1|         1|         1|         1|         1|         1|         1|         1|         1|         1|         1|         1|         1|         1|         1|         1|\n",
            "|                    Washington|         1|         1|         1|         1|         1|         1|         1|         1|         1|         1|         0|         0|         0|         0|         0|         0|         0|         0|         0|         0|         0|         0|         0|         0|         0|         0|         0|         0|         0|         0|         0|         0|         0|         0|         0|         0|         0|         0|         0|         0|         0|         0|         0|         0|         0|         0|         0|         0|         1|         1|         1|         1|         1|         1|         1|         1|         1|         1|         1|         1|         1|         1|         1|         1|         1|         1|         1|         1|         1|         1|         1|         1|         1|         1|         1|         1|         1|         1|         1|         1|         1|         1|         1|         1|         1|         1|         1|         1|         1|         1|         1|         1|         1|         1|         1|         1|         1|         1|         1|         1|         1|         1|         1|         1|         1|         1|         1|         1|         1|         1|         1|         1|         1|         1|         1|         1|         1|         1|         1|         1|         1|         1|         1|         1|         1|         1|         1|         1|         1|         1|         1|         1|         1|         1|         1|         1|         1|         1|         1|         1|         1|         1|         1|         1|         1|         1|         1|         1|         1|         1|         1|         1|         1|         1|         1|         1|         1|         1|         1|         1|         1|         1|         1|         1|         1|         1|         1|         1|         1|         1|         1|         1|         1|         1|         1|         1|         1|         1|         1|         1|         1|         1|         1|         1|         1|         1|         1|         1|         1|         1|         1|         1|         1|         1|         1|         1|         1|         1|         1|         1|         1|         1|         1|         1|\n",
            "|                       Florida|         0|         0|         0|         0|         0|         0|         0|         0|         0|         0|         0|         0|         0|         0|         0|         0|         0|         0|         0|         0|         0|         0|         0|         0|         0|         0|         0|         0|         0|         0|         0|         0|         0|         0|         0|         0|         0|         0|         0|         0|         0|         0|         0|         0|         0|         0|         0|         0|         1|         1|         1|         1|         1|         1|         1|         1|         1|         1|         1|         1|         1|         1|         1|         1|         1|         1|         1|         1|         1|         1|         1|         1|         1|         1|         1|         1|         1|         1|         1|         1|         1|         1|         1|         1|         1|         1|         1|         1|         1|         1|         1|         1|         1|         1|         1|         1|         1|         1|         1|         1|         1|         1|         1|         1|         1|         1|         1|         1|         1|         1|         1|         1|         1|         1|         1|         1|         1|         1|         1|         1|         1|         1|         1|         1|         1|         1|         1|         1|         1|         1|         1|         1|         1|         1|         1|         1|         1|         1|         1|         1|         1|         1|         1|         1|         1|         1|         1|         1|         1|         1|         1|         1|         1|         1|         1|         1|         1|         1|         1|         1|         1|         1|         1|         1|         1|         1|         1|         1|         1|         1|         1|         1|         1|         1|         1|         1|         1|         1|         1|         1|         1|         1|         1|         1|         1|         1|         1|         1|         1|         1|         1|         1|         1|         1|         1|         1|         1|         1|         1|         1|         1|         1|         1|         1|\n",
            "+------------------------------+----------+----------+----------+----------+----------+----------+----------+----------+----------+----------+----------+----------+----------+----------+----------+----------+----------+----------+----------+----------+----------+----------+----------+----------+----------+----------+----------+----------+----------+----------+----------+----------+----------+----------+----------+----------+----------+----------+----------+----------+----------+----------+----------+----------+----------+----------+----------+----------+----------+----------+----------+----------+----------+----------+----------+----------+----------+----------+----------+----------+----------+----------+----------+----------+----------+----------+----------+----------+----------+----------+----------+----------+----------+----------+----------+----------+----------+----------+----------+----------+----------+----------+----------+----------+----------+----------+----------+----------+----------+----------+----------+----------+----------+----------+----------+----------+----------+----------+----------+----------+----------+----------+----------+----------+----------+----------+----------+----------+----------+----------+----------+----------+----------+----------+----------+----------+----------+----------+----------+----------+----------+----------+----------+----------+----------+----------+----------+----------+----------+----------+----------+----------+----------+----------+----------+----------+----------+----------+----------+----------+----------+----------+----------+----------+----------+----------+----------+----------+----------+----------+----------+----------+----------+----------+----------+----------+----------+----------+----------+----------+----------+----------+----------+----------+----------+----------+----------+----------+----------+----------+----------+----------+----------+----------+----------+----------+----------+----------+----------+----------+----------+----------+----------+----------+----------+----------+----------+----------+----------+----------+----------+----------+----------+----------+----------+----------+----------+----------+----------+----------+----------+----------+----------+----------+\n",
            "only showing top 20 rows\n",
            "\n",
            "The processing Time is:  2.623241901397705 seconds\n"
          ],
          "name": "stdout"
        }
      ]
    },
    {
      "cell_type": "markdown",
      "metadata": {
        "id": "qSnI6lV_m2cI",
        "colab_type": "text"
      },
      "source": [
        "maximum sum of confirmed cases in every country"
      ]
    },
    {
      "cell_type": "code",
      "metadata": {
        "id": "NtqgosKVm-EN",
        "colab_type": "code",
        "colab": {
          "base_uri": "https://localhost:8080/",
          "height": 476
        },
        "outputId": "5b4e0458-5287-4699-b6c4-5ace6870e72f"
      },
      "source": [
        "t=time()\n",
        "corona_dataFrame.groupBy(\"Country/Region\").agg({'Confirmed':'sum'}).show()\n",
        "print(\"The processing Time is: \", time()- t,\"seconds\")\n"
      ],
      "execution_count": null,
      "outputs": [
        {
          "output_type": "stream",
          "text": [
            "+--------------+--------------+\n",
            "|Country/Region|sum(Confirmed)|\n",
            "+--------------+--------------+\n",
            "|          Chad|       79244.0|\n",
            "|        Russia|   5.9201023E7|\n",
            "|      Paraguay|      254489.0|\n",
            "| North Ireland|           1.0|\n",
            "|         Yemen|       95438.0|\n",
            "|       Senegal|      637604.0|\n",
            "|        Sweden|     6268635.0|\n",
            "|    Cabo Verde|      125268.0|\n",
            "|        Guyana|       27071.0|\n",
            "|   Philippines|     4779755.0|\n",
            "|        Jersey|           6.0|\n",
            "|       Eritrea|       16270.0|\n",
            "|         Burma|       30886.0|\n",
            "|      Djibouti|      419996.0|\n",
            "|     Singapore|     4360627.0|\n",
            "|      Malaysia|     1021288.0|\n",
            "|          Fiji|        2698.0|\n",
            "|        Turkey|   2.1676347E7|\n",
            "|        Malawi|      159013.0|\n",
            "|Western Sahara|        1061.0|\n",
            "+--------------+--------------+\n",
            "only showing top 20 rows\n",
            "\n",
            "The processing Time is:  0.5830464363098145 seconds\n"
          ],
          "name": "stdout"
        }
      ]
    },
    {
      "cell_type": "markdown",
      "metadata": {
        "id": "Qn1Q8l48nXX7",
        "colab_type": "text"
      },
      "source": [
        "Now sum Confirmed Recovered and Death ordered by Confirmed"
      ]
    },
    {
      "cell_type": "code",
      "metadata": {
        "id": "72XlzpYTn4cl",
        "colab_type": "code",
        "colab": {
          "base_uri": "https://localhost:8080/",
          "height": 476
        },
        "outputId": "0f66c73a-9af8-4091-bcc7-05d4ed48f79a"
      },
      "source": [
        "t=time()\n",
        "corona_dataFrame.groupBy(\"Country/Region\").agg({'Confirmed':'sum', 'Recovered':'sum', 'Deaths':'sum'}).orderBy(\"sum(Confirmed)\", ascending = False).show()\n",
        "print(\"The processing Time is: \", time()- t,\"seconds\")"
      ],
      "execution_count": null,
      "outputs": [
        {
          "output_type": "stream",
          "text": [
            "+--------------+--------------+-----------+--------------+\n",
            "|Country/Region|sum(Recovered)|sum(Deaths)|sum(Confirmed)|\n",
            "+--------------+--------------+-----------+--------------+\n",
            "|            US|   8.1162917E7|1.3399185E7|  3.00808412E8|\n",
            "|        Brazil|   8.9458824E7|  5484448.0|   1.3490728E8|\n",
            "|         India|   4.4797115E7|  1756241.0|     7.19961E7|\n",
            "|        Russia|   3.5735389E7|   849662.0|   5.9201023E7|\n",
            "|         Spain|   1.7584578E7|  3488885.0|   3.2379576E7|\n",
            "|            UK|      149484.0|  4671749.0|   3.2326419E7|\n",
            "|         Italy|   1.8889311E7|  4270305.0|    3.072521E7|\n",
            "|          Peru|   1.5734356E7|   972619.0|   2.6334216E7|\n",
            "|        France|     8510250.0|  3533119.0|   2.5149684E7|\n",
            "|       Germany|   2.0220707E7|  1018086.0|   2.4480948E7|\n",
            "|          Iran|   1.9582711E7|  1306160.0|   2.4388496E7|\n",
            "|        Mexico|   1.6854272E7|  2520489.0|    2.217576E7|\n",
            "|         Chile|   1.8473612E7|   478499.0|   2.1983524E7|\n",
            "|        Turkey|   1.6851834E7|   558365.0|   2.1676347E7|\n",
            "|  South Africa|   1.1719694E7|   328303.0|   1.9553144E7|\n",
            "|      Pakistan|   1.0950337E7|   358706.0|   1.7219659E7|\n",
            "|  Saudi Arabia|   1.2368252E7|   153366.0|   1.6877615E7|\n",
            "|Mainland China|    1.286486E7|   745734.0|   1.5324172E7|\n",
            "|    Bangladesh|     5972993.0|   167658.0|   1.2707434E7|\n",
            "|      Colombia|     5774435.0|   422223.0|   1.2242341E7|\n",
            "+--------------+--------------+-----------+--------------+\n",
            "only showing top 20 rows\n",
            "\n",
            "The processing Time is:  1.4222912788391113 seconds\n"
          ],
          "name": "stdout"
        }
      ]
    },
    {
      "cell_type": "markdown",
      "metadata": {
        "id": "I7icwkg-pZUG",
        "colab_type": "text"
      },
      "source": [
        "Adding new column active case in my DataFrame"
      ]
    },
    {
      "cell_type": "code",
      "metadata": {
        "id": "9nKmPjdupg_R",
        "colab_type": "code",
        "colab": {
          "base_uri": "https://localhost:8080/",
          "height": 476
        },
        "outputId": "0df3ceb7-b1b5-4095-98f1-3aed6073b3e1"
      },
      "source": [
        "t=time()\n",
        "corona_dataFrame.withColumn(\"Active_case\", corona_dataFrame.Confirmed - corona_dataFrame.Recovered - corona_dataFrame.Deaths).sort(\"Active_case\", ascending = False).show()\n",
        "print(\"The processing Time is: \", time()- t,\"seconds\")"
      ],
      "execution_count": null,
      "outputs": [
        {
          "output_type": "stream",
          "text": [
            "+-----+---------------+--------------+--------------+-------------------+---------+-------+---------+-----------+\n",
            "|  SNo|ObservationDate|Province/State|Country/Region|        Last Update|Confirmed| Deaths|Recovered|Active_case|\n",
            "+-----+---------------+--------------+--------------+-------------------+---------+-------+---------+-----------+\n",
            "|85140|     08/12/2020|    California|            US|2020-08-13 04:29:15| 591376.0|10753.0|      0.0|   580623.0|\n",
            "|84398|     08/11/2020|    California|            US|2020-08-12 04:27:29| 578946.0|10523.0|      0.0|   568423.0|\n",
            "|83655|     08/10/2020|    California|            US|2020-08-11 04:35:08| 574231.0|10476.0|      0.0|   563755.0|\n",
            "|82912|     08/09/2020|    California|            US|2020-08-10 04:34:55| 559746.0|10377.0|      0.0|   549369.0|\n",
            "|82169|     08/08/2020|    California|            US|2020-08-09 04:34:54| 554388.0|10307.0|      0.0|   544081.0|\n",
            "|85204|     08/12/2020|       Florida|            US|2020-08-13 04:29:15| 550901.0| 8765.0|      0.0|   542136.0|\n",
            "|81426|     08/07/2020|    California|            US|2020-08-08 04:34:53| 546814.0|10133.0|      0.0|   536681.0|\n",
            "|84462|     08/11/2020|       Florida|            US|2020-08-12 04:27:29| 542792.0| 8553.0|      0.0|   534239.0|\n",
            "|80683|     08/06/2020|    California|            US|2020-08-07 04:35:11| 541339.0|10021.0|      0.0|   531318.0|\n",
            "|83719|     08/10/2020|       Florida|            US|2020-08-11 04:35:08| 536961.0| 8277.0|      0.0|   528684.0|\n",
            "|82976|     08/09/2020|       Florida|            US|2020-08-10 04:34:55| 532806.0| 8186.0|      0.0|   524620.0|\n",
            "|79940|     08/05/2020|    California|            US|2020-08-06 04:35:02| 530606.0| 9808.0|      0.0|   520798.0|\n",
            "|82233|     08/08/2020|       Florida|            US|2020-08-09 04:34:54| 526577.0| 8109.0|      0.0|   518468.0|\n",
            "|79197|     08/04/2020|    California|            US|2020-08-05 04:34:43| 526685.0| 9684.0|      0.0|   517001.0|\n",
            "|85554|     08/12/2020|         Texas|            US|2020-08-13 04:29:15| 523977.0| 9527.0|      0.0|   514450.0|\n",
            "|81490|     08/07/2020|       Florida|            US|2020-08-08 04:34:53| 518075.0| 7927.0|      0.0|   510148.0|\n",
            "|84812|     08/11/2020|         Texas|            US|2020-08-12 04:27:29| 517700.0| 9222.0|      0.0|   508478.0|\n",
            "|78454|     08/03/2020|    California|            US|2020-08-04 04:41:59| 516851.0| 9441.0|      0.0|   507410.0|\n",
            "|77711|     08/02/2020|    California|            US|2020-08-03 04:34:35| 512175.0| 9396.0|      0.0|   502779.0|\n",
            "|80747|     08/06/2020|       Florida|            US|2020-08-07 04:35:11| 510389.0| 7747.0|      0.0|   502642.0|\n",
            "+-----+---------------+--------------+--------------+-------------------+---------+-------+---------+-----------+\n",
            "only showing top 20 rows\n",
            "\n",
            "The processing Time is:  1.2259089946746826 seconds\n"
          ],
          "name": "stdout"
        }
      ]
    },
    {
      "cell_type": "markdown",
      "metadata": {
        "id": "ZQYgrWfurTHg",
        "colab_type": "text"
      },
      "source": [
        "Maximum active case in my dataset"
      ]
    },
    {
      "cell_type": "code",
      "metadata": {
        "id": "0zCfcINdrXtF",
        "colab_type": "code",
        "colab": {
          "base_uri": "https://localhost:8080/",
          "height": 1000
        },
        "outputId": "2a1f6f39-d7d7-4d22-b5e5-e7c9cc89a5bd"
      },
      "source": [
        "t=time()\n",
        "maximum_data = maximum_data.withColumn(\"Active_case\", maximum_data.Confirmed - maximum_data.Recovered - maximum_data.Deaths)\n",
        "maximum_data.show(100)\n",
        "print(\"The processing Time is: \", time()- t,\"seconds\")"
      ],
      "execution_count": null,
      "outputs": [
        {
          "output_type": "stream",
          "text": [
            "+--------------+--------------+---------+---+---------------+---------------+------+---------+-----------+\n",
            "|Country/Region|Province/State|Confirmed|SNo|ObservationDate|    Last Update|Deaths|Recovered|Active_case|\n",
            "+--------------+--------------+---------+---+---------------+---------------+------+---------+-----------+\n",
            "|Mainland China|         Anhui|      1.0|  1|     01/22/2020|1/22/2020 17:00|   0.0|      0.0|        1.0|\n",
            "|Mainland China|       Beijing|     14.0|  2|     01/22/2020|1/22/2020 17:00|   0.0|      0.0|       14.0|\n",
            "|Mainland China|     Chongqing|      6.0|  3|     01/22/2020|1/22/2020 17:00|   0.0|      0.0|        6.0|\n",
            "|Mainland China|        Fujian|      1.0|  4|     01/22/2020|1/22/2020 17:00|   0.0|      0.0|        1.0|\n",
            "|Mainland China|         Gansu|      0.0|  5|     01/22/2020|1/22/2020 17:00|   0.0|      0.0|        0.0|\n",
            "|Mainland China|     Guangdong|     26.0|  6|     01/22/2020|1/22/2020 17:00|   0.0|      0.0|       26.0|\n",
            "|Mainland China|       Guangxi|      2.0|  7|     01/22/2020|1/22/2020 17:00|   0.0|      0.0|        2.0|\n",
            "|Mainland China|       Guizhou|      1.0|  8|     01/22/2020|1/22/2020 17:00|   0.0|      0.0|        1.0|\n",
            "|Mainland China|        Hainan|      4.0|  9|     01/22/2020|1/22/2020 17:00|   0.0|      0.0|        4.0|\n",
            "|Mainland China|         Hebei|      1.0| 10|     01/22/2020|1/22/2020 17:00|   0.0|      0.0|        1.0|\n",
            "|Mainland China|  Heilongjiang|      0.0| 11|     01/22/2020|1/22/2020 17:00|   0.0|      0.0|        0.0|\n",
            "|Mainland China|         Henan|      5.0| 12|     01/22/2020|1/22/2020 17:00|   0.0|      0.0|        5.0|\n",
            "|     Hong Kong|     Hong Kong|      0.0| 13|     01/22/2020|1/22/2020 17:00|   0.0|      0.0|        0.0|\n",
            "|Mainland China|         Hubei|    444.0| 14|     01/22/2020|1/22/2020 17:00|  17.0|     28.0|      399.0|\n",
            "|Mainland China|         Hunan|      4.0| 15|     01/22/2020|1/22/2020 17:00|   0.0|      0.0|        4.0|\n",
            "|Mainland China|Inner Mongolia|      0.0| 16|     01/22/2020|1/22/2020 17:00|   0.0|      0.0|        0.0|\n",
            "|Mainland China|       Jiangsu|      1.0| 17|     01/22/2020|1/22/2020 17:00|   0.0|      0.0|        1.0|\n",
            "|Mainland China|       Jiangxi|      2.0| 18|     01/22/2020|1/22/2020 17:00|   0.0|      0.0|        2.0|\n",
            "|Mainland China|         Jilin|      0.0| 19|     01/22/2020|1/22/2020 17:00|   0.0|      0.0|        0.0|\n",
            "|Mainland China|      Liaoning|      2.0| 20|     01/22/2020|1/22/2020 17:00|   0.0|      0.0|        2.0|\n",
            "|         Macau|         Macau|      1.0| 21|     01/22/2020|1/22/2020 17:00|   0.0|      0.0|        1.0|\n",
            "|Mainland China|       Ningxia|      1.0| 22|     01/22/2020|1/22/2020 17:00|   0.0|      0.0|        1.0|\n",
            "|Mainland China|       Qinghai|      0.0| 23|     01/22/2020|1/22/2020 17:00|   0.0|      0.0|        0.0|\n",
            "|Mainland China|       Shaanxi|      0.0| 24|     01/22/2020|1/22/2020 17:00|   0.0|      0.0|        0.0|\n",
            "|Mainland China|      Shandong|      2.0| 25|     01/22/2020|1/22/2020 17:00|   0.0|      0.0|        2.0|\n",
            "|Mainland China|      Shanghai|      9.0| 26|     01/22/2020|1/22/2020 17:00|   0.0|      0.0|        9.0|\n",
            "|Mainland China|        Shanxi|      1.0| 27|     01/22/2020|1/22/2020 17:00|   0.0|      0.0|        1.0|\n",
            "|Mainland China|       Sichuan|      5.0| 28|     01/22/2020|1/22/2020 17:00|   0.0|      0.0|        5.0|\n",
            "|        Taiwan|        Taiwan|      1.0| 29|     01/22/2020|1/22/2020 17:00|   0.0|      0.0|        1.0|\n",
            "|Mainland China|       Tianjin|      4.0| 30|     01/22/2020|1/22/2020 17:00|   0.0|      0.0|        4.0|\n",
            "|Mainland China|         Tibet|      0.0| 31|     01/22/2020|1/22/2020 17:00|   0.0|      0.0|        0.0|\n",
            "|            US|    Washington|      1.0| 32|     01/22/2020|1/22/2020 17:00|   0.0|      0.0|        1.0|\n",
            "|Mainland China|      Xinjiang|      0.0| 33|     01/22/2020|1/22/2020 17:00|   0.0|      0.0|        0.0|\n",
            "|Mainland China|        Yunnan|      1.0| 34|     01/22/2020|1/22/2020 17:00|   0.0|      0.0|        1.0|\n",
            "|Mainland China|      Zhejiang|     10.0| 35|     01/22/2020|1/22/2020 17:00|   0.0|      0.0|       10.0|\n",
            "|         Japan|          null|      2.0| 36|     01/22/2020|1/22/2020 17:00|   0.0|      0.0|        2.0|\n",
            "|      Thailand|          null|      2.0| 37|     01/22/2020|1/22/2020 17:00|   0.0|      0.0|        2.0|\n",
            "|   South Korea|          null|      1.0| 38|     01/22/2020|1/22/2020 17:00|   0.0|      0.0|        1.0|\n",
            "|Mainland China|         Anhui|      9.0| 39|     01/23/2020|  1/23/20 17:00|   0.0|      0.0|        9.0|\n",
            "|Mainland China|       Beijing|     22.0| 40|     01/23/2020|  1/23/20 17:00|   0.0|      0.0|       22.0|\n",
            "|Mainland China|     Chongqing|      9.0| 41|     01/23/2020|  1/23/20 17:00|   0.0|      0.0|        9.0|\n",
            "|Mainland China|        Fujian|      5.0| 42|     01/23/2020|  1/23/20 17:00|   0.0|      0.0|        5.0|\n",
            "|Mainland China|         Gansu|      2.0| 43|     01/23/2020|  1/23/20 17:00|   0.0|      0.0|        2.0|\n",
            "|Mainland China|     Guangdong|     32.0| 44|     01/23/2020|  1/23/20 17:00|   0.0|      2.0|       30.0|\n",
            "|Mainland China|       Guangxi|      5.0| 45|     01/23/2020|  1/23/20 17:00|   0.0|      0.0|        5.0|\n",
            "|Mainland China|       Guizhou|      3.0| 46|     01/23/2020|  1/23/20 17:00|   0.0|      0.0|        3.0|\n",
            "|Mainland China|        Hainan|      5.0| 47|     01/23/2020|  1/23/20 17:00|   0.0|      0.0|        5.0|\n",
            "|Mainland China|         Hebei|      1.0| 48|     01/23/2020|  1/23/20 17:00|   1.0|      0.0|        0.0|\n",
            "|Mainland China|  Heilongjiang|      2.0| 49|     01/23/2020|  1/23/20 17:00|   0.0|      0.0|        2.0|\n",
            "|Mainland China|         Henan|      5.0| 50|     01/23/2020|  1/23/20 17:00|   0.0|      0.0|        5.0|\n",
            "|     Hong Kong|     Hong Kong|      2.0| 51|     01/23/2020|  1/23/20 17:00|   0.0|      0.0|        2.0|\n",
            "|Mainland China|         Hubei|    444.0| 52|     01/23/2020|  1/23/20 17:00|  17.0|     28.0|      399.0|\n",
            "|Mainland China|         Hunan|      9.0| 53|     01/23/2020|  1/23/20 17:00|   0.0|      0.0|        9.0|\n",
            "|Mainland China|Inner Mongolia|      0.0| 54|     01/23/2020|  1/23/20 17:00|   0.0|      0.0|        0.0|\n",
            "|Mainland China|       Jiangsu|      5.0| 55|     01/23/2020|  1/23/20 17:00|   0.0|      0.0|        5.0|\n",
            "|Mainland China|       Jiangxi|      7.0| 56|     01/23/2020|  1/23/20 17:00|   0.0|      0.0|        7.0|\n",
            "|Mainland China|         Jilin|      1.0| 57|     01/23/2020|  1/23/20 17:00|   0.0|      0.0|        1.0|\n",
            "|Mainland China|      Liaoning|      3.0| 58|     01/23/2020|  1/23/20 17:00|   0.0|      0.0|        3.0|\n",
            "|         Macau|         Macau|      2.0| 59|     01/23/2020|  1/23/20 17:00|   0.0|      0.0|        2.0|\n",
            "|Mainland China|       Ningxia|      1.0| 60|     01/23/2020|  1/23/20 17:00|   0.0|      0.0|        1.0|\n",
            "|Mainland China|       Qinghai|      0.0| 61|     01/23/2020|  1/23/20 17:00|   0.0|      0.0|        0.0|\n",
            "|Mainland China|       Shaanxi|      3.0| 62|     01/23/2020|  1/23/20 17:00|   0.0|      0.0|        3.0|\n",
            "|Mainland China|      Shandong|      6.0| 63|     01/23/2020|  1/23/20 17:00|   0.0|      0.0|        6.0|\n",
            "|Mainland China|      Shanghai|     16.0| 64|     01/23/2020|  1/23/20 17:00|   0.0|      0.0|       16.0|\n",
            "|Mainland China|        Shanxi|      1.0| 65|     01/23/2020|  1/23/20 17:00|   0.0|      0.0|        1.0|\n",
            "|Mainland China|       Sichuan|      8.0| 66|     01/23/2020|  1/23/20 17:00|   0.0|      0.0|        8.0|\n",
            "|        Taiwan|        Taiwan|      1.0| 67|     01/23/2020|  1/23/20 17:00|   0.0|      0.0|        1.0|\n",
            "|Mainland China|       Tianjin|      4.0| 68|     01/23/2020|  1/23/20 17:00|   0.0|      0.0|        4.0|\n",
            "|Mainland China|         Tibet|      0.0| 69|     01/23/2020|  1/23/20 17:00|   0.0|      0.0|        0.0|\n",
            "|            US|    Washington|      1.0| 70|     01/23/2020|  1/23/20 17:00|   0.0|      0.0|        1.0|\n",
            "|Mainland China|      Xinjiang|      2.0| 71|     01/23/2020|  1/23/20 17:00|   0.0|      0.0|        2.0|\n",
            "|Mainland China|        Yunnan|      2.0| 72|     01/23/2020|  1/23/20 17:00|   0.0|      0.0|        2.0|\n",
            "|Mainland China|      Zhejiang|     27.0| 73|     01/23/2020|  1/23/20 17:00|   0.0|      0.0|       27.0|\n",
            "|         Japan|          null|      1.0| 74|     01/23/2020|  1/23/20 17:00|   0.0|      0.0|        1.0|\n",
            "|      Thailand|          null|      3.0| 75|     01/23/2020|  1/23/20 17:00|   0.0|      0.0|        3.0|\n",
            "|   South Korea|          null|      1.0| 76|     01/23/2020|  1/23/20 17:00|   0.0|      0.0|        1.0|\n",
            "|     Singapore|          null|      1.0| 77|     01/23/2020|  1/23/20 17:00|   0.0|      0.0|        1.0|\n",
            "|   Philippines|          null|      0.0| 78|     01/23/2020|  1/23/20 17:00|   0.0|      0.0|        0.0|\n",
            "|      Malaysia|          null|      0.0| 79|     01/23/2020|  1/23/20 17:00|   0.0|      0.0|        0.0|\n",
            "|       Vietnam|          null|      2.0| 80|     01/23/2020|  1/23/20 17:00|   0.0|      0.0|        2.0|\n",
            "|     Australia|          null|      0.0| 81|     01/23/2020|  1/23/20 17:00|   0.0|      0.0|        0.0|\n",
            "|        Mexico|          null|      0.0| 82|     01/23/2020|  1/23/20 17:00|   0.0|      0.0|        0.0|\n",
            "|        Brazil|          null|      0.0| 83|     01/23/2020|  1/23/20 17:00|   0.0|      0.0|        0.0|\n",
            "|      Colombia|          null|      0.0| 84|     01/23/2020|  1/23/20 17:00|   0.0|      0.0|        0.0|\n",
            "|Mainland China|         Hubei|    549.0| 85|     01/24/2020|  1/24/20 17:00|  24.0|     31.0|      494.0|\n",
            "|Mainland China|     Guangdong|     53.0| 86|     01/24/2020|  1/24/20 17:00|   0.0|      2.0|       51.0|\n",
            "|Mainland China|      Zhejiang|     43.0| 87|     01/24/2020|  1/24/20 17:00|   0.0|      1.0|       42.0|\n",
            "|Mainland China|       Beijing|     36.0| 88|     01/24/2020|  1/24/20 17:00|   0.0|      1.0|       35.0|\n",
            "|Mainland China|     Chongqing|     27.0| 89|     01/24/2020|  1/24/20 17:00|   0.0|      0.0|       27.0|\n",
            "|Mainland China|         Hunan|     24.0| 90|     01/24/2020|  1/24/20 17:00|   0.0|      0.0|       24.0|\n",
            "|Mainland China|       Guangxi|     23.0| 91|     01/24/2020|  1/24/20 17:00|   0.0|      0.0|       23.0|\n",
            "|Mainland China|      Shanghai|     20.0| 92|     01/24/2020|  1/24/20 17:00|   0.0|      1.0|       19.0|\n",
            "|Mainland China|       Jiangxi|     18.0| 93|     01/24/2020|  1/24/20 17:00|   0.0|      0.0|       18.0|\n",
            "|Mainland China|       Sichuan|     15.0| 94|     01/24/2020|  1/24/20 17:00|   0.0|      0.0|       15.0|\n",
            "|Mainland China|      Shandong|     15.0| 95|     01/24/2020|  1/24/20 17:00|   0.0|      0.0|       15.0|\n",
            "|Mainland China|         Anhui|     15.0| 96|     01/24/2020|  1/24/20 17:00|   0.0|      0.0|       15.0|\n",
            "|Mainland China|        Fujian|     10.0| 97|     01/24/2020|  1/24/20 17:00|   0.0|      0.0|       10.0|\n",
            "|Mainland China|         Henan|      9.0| 98|     01/24/2020|  1/24/20 17:00|   0.0|      0.0|        9.0|\n",
            "|Mainland China|       Jiangsu|      9.0| 99|     01/24/2020|  1/24/20 17:00|   0.0|      0.0|        9.0|\n",
            "|Mainland China|        Hainan|      8.0|100|     01/24/2020|  1/24/20 17:00|   0.0|      0.0|        8.0|\n",
            "+--------------+--------------+---------+---+---------------+---------------+------+---------+-----------+\n",
            "only showing top 100 rows\n",
            "\n",
            "The processing Time is:  1.2734808921813965 seconds\n"
          ],
          "name": "stdout"
        }
      ]
    },
    {
      "cell_type": "markdown",
      "metadata": {
        "id": "X5eKa-nQWvzm",
        "colab_type": "text"
      },
      "source": [
        "Ordering sum of active cases"
      ]
    },
    {
      "cell_type": "code",
      "metadata": {
        "id": "ve0fFzWkWzoY",
        "colab_type": "code",
        "colab": {
          "base_uri": "https://localhost:8080/",
          "height": 306
        },
        "outputId": "6502ca4e-d183-411f-8484-89ceaf79735a"
      },
      "source": [
        "t=time()\n",
        "sum_of_Active_cases = maximum_data.groupby(\"Country/Region\").sum(\"Active_case\").orderBy(\"sum(Active_case)\", ascending = False)\n",
        "sum_of_Active_cases.show(10)\n",
        "print(\"The processing Time is: \", time()- t,\"seconds\")"
      ],
      "execution_count": null,
      "outputs": [
        {
          "output_type": "stream",
          "text": [
            "+--------------+----------------+\n",
            "|Country/Region|sum(Active_case)|\n",
            "+--------------+----------------+\n",
            "|            US|     2.0624631E8|\n",
            "|        Brazil|     3.9964008E7|\n",
            "|            UK|     2.7505186E7|\n",
            "|         India|     2.5442744E7|\n",
            "|        Russia|     2.2615972E7|\n",
            "|        France|     1.3106315E7|\n",
            "|         Spain|     1.1306113E7|\n",
            "|          Peru|       9627241.0|\n",
            "|         Italy|       7565594.0|\n",
            "|  South Africa|       7505147.0|\n",
            "+--------------+----------------+\n",
            "only showing top 10 rows\n",
            "\n",
            "The processing Time is:  2.614938497543335 seconds\n"
          ],
          "name": "stdout"
        }
      ]
    },
    {
      "cell_type": "markdown",
      "metadata": {
        "id": "HX8iCq9oaXtv",
        "colab_type": "text"
      },
      "source": [
        "showing different record for more countries"
      ]
    },
    {
      "cell_type": "code",
      "metadata": {
        "id": "Yiymh2_ACG4k",
        "colab_type": "code",
        "colab": {
          "base_uri": "https://localhost:8080/",
          "height": 153
        },
        "outputId": "ecd60efb-1603-4a95-d05a-79ae2114fb51"
      },
      "source": [
        "t=time()\n",
        "corona_dataFrame.select(\"Country/Region\", \"Province/State\", \"Confirmed\", \"Recovered\").filter(col(\"Country/Region\").isin(\"Australia\",\"Bangladesh\")).groupBy(\"Country/Region\").sum().show()\n",
        "print(\"The processing Time is: \", time()- t,\"seconds\")"
      ],
      "execution_count": null,
      "outputs": [
        {
          "output_type": "stream",
          "text": [
            "+--------------+--------------+--------------+\n",
            "|Country/Region|sum(Confirmed)|sum(Recovered)|\n",
            "+--------------+--------------+--------------+\n",
            "|    Bangladesh|   1.2707434E7|     5972993.0|\n",
            "|     Australia|     1269875.0|      883252.0|\n",
            "+--------------+--------------+--------------+\n",
            "\n",
            "The processing Time is:  1.1387054920196533 seconds\n"
          ],
          "name": "stdout"
        }
      ]
    },
    {
      "cell_type": "markdown",
      "metadata": {
        "id": "PeY9jlUMdt7x",
        "colab_type": "text"
      },
      "source": [
        "Getting sub total"
      ]
    },
    {
      "cell_type": "code",
      "metadata": {
        "id": "Az_30GgPd0fu",
        "colab_type": "code",
        "colab": {
          "base_uri": "https://localhost:8080/",
          "height": 187
        },
        "outputId": "b857c51e-b898-4ce1-e3dc-528c9b7a717b"
      },
      "source": [
        "t=time()\n",
        "corona_dataFrame.select(\"Country/Region\", \"Province/State\", \"Confirmed\", \"Recovered\").filter(col(\"Country/Region\").isin('Luxembourg','Bangladesh','US')).cube(\"Country/Region\").sum().show()\n",
        "print(\"The processing Time is: \", time()- t,\"seconds\")"
      ],
      "execution_count": null,
      "outputs": [
        {
          "output_type": "stream",
          "text": [
            "+--------------+--------------+--------------+\n",
            "|Country/Region|sum(Confirmed)|sum(Recovered)|\n",
            "+--------------+--------------+--------------+\n",
            "|          null|  3.14128174E8|   8.7604597E7|\n",
            "|    Luxembourg|      612328.0|      468687.0|\n",
            "|            US|  3.00808412E8|   8.1162917E7|\n",
            "|    Bangladesh|   1.2707434E7|     5972993.0|\n",
            "+--------------+--------------+--------------+\n",
            "\n",
            "The processing Time is:  1.4191083908081055 seconds\n"
          ],
          "name": "stdout"
        }
      ]
    },
    {
      "cell_type": "markdown",
      "metadata": {
        "id": "JU8Z9iaKg3m1",
        "colab_type": "text"
      },
      "source": [
        "show each and every state sum:"
      ]
    },
    {
      "cell_type": "code",
      "metadata": {
        "id": "3icyJVbshA5y",
        "colab_type": "code",
        "colab": {
          "base_uri": "https://localhost:8080/",
          "height": 476
        },
        "outputId": "39c19cc2-a025-421d-98ea-bfbf6e03ed86"
      },
      "source": [
        "t=time()\n",
        "corona_dataFrame.select(\"Country/Region\", \"Province/State\", \"Confirmed\", \"Recovered\").filter(col(\"Country/Region\").isin('Canada','US')).cube(\"Country/Region\",\"Province/State\").sum().show()\n",
        "print(\"The processing Time is: \", time()- t,\"seconds\")"
      ],
      "execution_count": null,
      "outputs": [
        {
          "output_type": "stream",
          "text": [
            "+--------------+--------------------+--------------+--------------+\n",
            "|Country/Region|      Province/State|sum(Confirmed)|sum(Recovered)|\n",
            "+--------------+--------------------+--------------+--------------+\n",
            "|        Canada|   Edmonton, Alberta|           4.0|           0.0|\n",
            "|          null|          Boston, MA|          34.0|           7.0|\n",
            "|          null|            Maryland|     6863672.0|           6.0|\n",
            "|            US|      Providence, RI|          11.0|           0.0|\n",
            "|          null|      Providence, RI|          11.0|           0.0|\n",
            "|          null| Saratoga County, NY|           6.0|           0.0|\n",
            "|          null|Santa Cruz County...|           1.0|           0.0|\n",
            "|            US|St. Louis County, MO|           2.0|           0.0|\n",
            "|            US|            Kentucky|     1773207.0|           2.0|\n",
            "|          null|Montgomery County...|           9.0|           0.0|\n",
            "|          null|    Washington, D.C.|           4.0|           0.0|\n",
            "|            US|        Lackland, TX|           2.0|           0.0|\n",
            "|            US|    Pinal County, AZ|           6.0|           0.0|\n",
            "|          null|  Douglas County, NE|           6.0|           0.0|\n",
            "|            US|Lackland, TX (Fro...|           4.0|           0.0|\n",
            "|            US|    Clark County, WA|           3.0|           0.0|\n",
            "|          null| Maricopa County, AZ|          14.0|           3.0|\n",
            "|            US|Santa Cruz County...|           1.0|           0.0|\n",
            "|          null|Unassigned Locati...|          20.0|           0.0|\n",
            "|          null|   Nassau County, NY|          27.0|           0.0|\n",
            "+--------------+--------------------+--------------+--------------+\n",
            "only showing top 20 rows\n",
            "\n",
            "The processing Time is:  0.8257763385772705 seconds\n"
          ],
          "name": "stdout"
        }
      ]
    },
    {
      "cell_type": "code",
      "metadata": {
        "id": "LhSaAvsAk1Ig",
        "colab_type": "code",
        "colab": {
          "base_uri": "https://localhost:8080/",
          "height": 306
        },
        "outputId": "45d3e6d1-4ac7-4777-9edf-ef4ea0c97876"
      },
      "source": [
        "t=time()\n",
        "corona_dataFrame.select(\"Country/Region\", \"Province/State\", \"Confirmed\", \"Recovered\").filter(col(\"Country/Region\").isin('India','Australia')).rollup(\"Country/Region\",\"Province/State\").sum().show(10)\n",
        "print(\"The processing Time is: \", time()- t,\"seconds\")"
      ],
      "execution_count": null,
      "outputs": [
        {
          "output_type": "stream",
          "text": [
            "+--------------+------------------+--------------+--------------+\n",
            "|Country/Region|    Province/State|sum(Confirmed)|sum(Recovered)|\n",
            "+--------------+------------------+--------------+--------------+\n",
            "|         India|        Puducherry|      121874.0|       69173.0|\n",
            "|         India|      Chhattisgarh|      339143.0|      241525.0|\n",
            "|     Australia|              null|           8.0|           0.0|\n",
            "|     Australia|Northern Territory|        4058.0|        3219.0|\n",
            "|         India|         Karnataka|     3944580.0|     1788459.0|\n",
            "|         India|        Tamil Nadu|     9644256.0|     6776741.0|\n",
            "|         India|             Bihar|     1774524.0|     1172143.0|\n",
            "|         India|           Manipur|      112667.0|       63290.0|\n",
            "|         India|       Uttarakhand|      292243.0|      191579.0|\n",
            "|          null|              null|   7.3265975E7|   4.5680367E7|\n",
            "+--------------+------------------+--------------+--------------+\n",
            "only showing top 10 rows\n",
            "\n",
            "The processing Time is:  0.977046012878418 seconds\n"
          ],
          "name": "stdout"
        }
      ]
    },
    {
      "cell_type": "markdown",
      "metadata": {
        "id": "jF5Tojptp_CI",
        "colab_type": "text"
      },
      "source": [
        "correlation between two column"
      ]
    },
    {
      "cell_type": "code",
      "metadata": {
        "id": "rlzJszYHqHfP",
        "colab_type": "code",
        "colab": {
          "base_uri": "https://localhost:8080/",
          "height": 34
        },
        "outputId": "22535719-3af0-427c-f304-a6a7f84da9b3"
      },
      "source": [
        "t=time()\n",
        "maximum_data.corr(\"Confirmed\",\"Recovered\")\n",
        "print(\"The processing Time is: \", time()- t,\"seconds\")"
      ],
      "execution_count": null,
      "outputs": [
        {
          "output_type": "stream",
          "text": [
            "The processing Time is:  1.4808101654052734 seconds\n"
          ],
          "name": "stdout"
        }
      ]
    },
    {
      "cell_type": "markdown",
      "metadata": {
        "id": "zfvzU8CLrHH2",
        "colab_type": "text"
      },
      "source": [
        "# **6. covert Spark data into pandas**"
      ]
    },
    {
      "cell_type": "code",
      "metadata": {
        "id": "tyntFxWne-Z4",
        "colab_type": "code",
        "colab": {
          "base_uri": "https://localhost:8080/",
          "height": 204
        },
        "outputId": "90f37b12-6c6e-4a1d-fbaa-c45d7299f38e"
      },
      "source": [
        "t=time()\n",
        "pandas_corona_dataFrame = corona_dataFrame.toPandas()\n",
        "pandas_corona_dataFrame.head()\n",
        "#print(\"The processing Time is: \", time()- t,\"seconds\")"
      ],
      "execution_count": null,
      "outputs": [
        {
          "output_type": "execute_result",
          "data": {
            "text/html": [
              "<div>\n",
              "<style scoped>\n",
              "    .dataframe tbody tr th:only-of-type {\n",
              "        vertical-align: middle;\n",
              "    }\n",
              "\n",
              "    .dataframe tbody tr th {\n",
              "        vertical-align: top;\n",
              "    }\n",
              "\n",
              "    .dataframe thead th {\n",
              "        text-align: right;\n",
              "    }\n",
              "</style>\n",
              "<table border=\"1\" class=\"dataframe\">\n",
              "  <thead>\n",
              "    <tr style=\"text-align: right;\">\n",
              "      <th></th>\n",
              "      <th>SNo</th>\n",
              "      <th>ObservationDate</th>\n",
              "      <th>Province/State</th>\n",
              "      <th>Country/Region</th>\n",
              "      <th>Last Update</th>\n",
              "      <th>Confirmed</th>\n",
              "      <th>Deaths</th>\n",
              "      <th>Recovered</th>\n",
              "    </tr>\n",
              "  </thead>\n",
              "  <tbody>\n",
              "    <tr>\n",
              "      <th>0</th>\n",
              "      <td>1</td>\n",
              "      <td>01/22/2020</td>\n",
              "      <td>Anhui</td>\n",
              "      <td>Mainland China</td>\n",
              "      <td>1/22/2020 17:00</td>\n",
              "      <td>1.0</td>\n",
              "      <td>0.0</td>\n",
              "      <td>0.0</td>\n",
              "    </tr>\n",
              "    <tr>\n",
              "      <th>1</th>\n",
              "      <td>2</td>\n",
              "      <td>01/22/2020</td>\n",
              "      <td>Beijing</td>\n",
              "      <td>Mainland China</td>\n",
              "      <td>1/22/2020 17:00</td>\n",
              "      <td>14.0</td>\n",
              "      <td>0.0</td>\n",
              "      <td>0.0</td>\n",
              "    </tr>\n",
              "    <tr>\n",
              "      <th>2</th>\n",
              "      <td>3</td>\n",
              "      <td>01/22/2020</td>\n",
              "      <td>Chongqing</td>\n",
              "      <td>Mainland China</td>\n",
              "      <td>1/22/2020 17:00</td>\n",
              "      <td>6.0</td>\n",
              "      <td>0.0</td>\n",
              "      <td>0.0</td>\n",
              "    </tr>\n",
              "    <tr>\n",
              "      <th>3</th>\n",
              "      <td>4</td>\n",
              "      <td>01/22/2020</td>\n",
              "      <td>Fujian</td>\n",
              "      <td>Mainland China</td>\n",
              "      <td>1/22/2020 17:00</td>\n",
              "      <td>1.0</td>\n",
              "      <td>0.0</td>\n",
              "      <td>0.0</td>\n",
              "    </tr>\n",
              "    <tr>\n",
              "      <th>4</th>\n",
              "      <td>5</td>\n",
              "      <td>01/22/2020</td>\n",
              "      <td>Gansu</td>\n",
              "      <td>Mainland China</td>\n",
              "      <td>1/22/2020 17:00</td>\n",
              "      <td>0.0</td>\n",
              "      <td>0.0</td>\n",
              "      <td>0.0</td>\n",
              "    </tr>\n",
              "  </tbody>\n",
              "</table>\n",
              "</div>"
            ],
            "text/plain": [
              "   SNo ObservationDate Province/State  ... Confirmed Deaths  Recovered\n",
              "0    1      01/22/2020          Anhui  ...       1.0    0.0        0.0\n",
              "1    2      01/22/2020        Beijing  ...      14.0    0.0        0.0\n",
              "2    3      01/22/2020      Chongqing  ...       6.0    0.0        0.0\n",
              "3    4      01/22/2020         Fujian  ...       1.0    0.0        0.0\n",
              "4    5      01/22/2020          Gansu  ...       0.0    0.0        0.0\n",
              "\n",
              "[5 rows x 8 columns]"
            ]
          },
          "metadata": {
            "tags": []
          },
          "execution_count": 111
        }
      ]
    },
    {
      "cell_type": "markdown",
      "metadata": {
        "id": "9CGMiBJSr9KO",
        "colab_type": "text"
      },
      "source": [
        "correlation matrics"
      ]
    },
    {
      "cell_type": "code",
      "metadata": {
        "id": "7yilMzbarkwU",
        "colab_type": "code",
        "colab": {
          "base_uri": "https://localhost:8080/"
        },
        "outputId": "4d749015-eb55-4e51-b334-380faeb7d10b"
      },
      "source": [
        "t=time()\n",
        "pandas_corona_dataFrame.corr()\n",
        "print(\"The processing Time is: \", time()- t,\"seconds\")"
      ],
      "execution_count": null,
      "outputs": [
        {
          "output_type": "stream",
          "text": [
            "The processing Time is:  0.010704517364501953 seconds\n"
          ],
          "name": "stdout"
        }
      ]
    },
    {
      "cell_type": "code",
      "metadata": {
        "id": "eEnAEecP15b6",
        "colab_type": "code",
        "colab": {
          "base_uri": "https://localhost:8080/",
          "height": 170
        },
        "outputId": "3b3ac897-717c-4212-921d-6ba44739662c"
      },
      "source": [
        "t=time()\n",
        "pandas_corona_dataFrame.isnull().sum()\n",
        "#print(\"The processing Time is: \", time()- t,\"seconds\")"
      ],
      "execution_count": null,
      "outputs": [
        {
          "output_type": "execute_result",
          "data": {
            "text/plain": [
              "SNo                    0\n",
              "ObservationDate        0\n",
              "Province/State     28297\n",
              "Country/Region         0\n",
              "Last Update            0\n",
              "Confirmed              0\n",
              "Deaths                 0\n",
              "Recovered              0\n",
              "dtype: int64"
            ]
          },
          "metadata": {
            "tags": []
          },
          "execution_count": 113
        }
      ]
    },
    {
      "cell_type": "markdown",
      "metadata": {
        "id": "C3ShzLpzXi0J",
        "colab_type": "text"
      },
      "source": [
        "# **7. Data Visualizing**"
      ]
    },
    {
      "cell_type": "code",
      "metadata": {
        "id": "UwkF-D5XRluS",
        "colab_type": "code",
        "colab": {
          "base_uri": "https://localhost:8080/",
          "height": 34
        },
        "outputId": "59c1612f-687c-45c8-b972-2914df54555a"
      },
      "source": [
        "t=time()\n",
        "confirmed_case = pandas_corona_dataFrame.groupby('ObservationDate').sum()['Confirmed'].reset_index()\n",
        "deaths_case = pandas_corona_dataFrame.groupby('ObservationDate').sum()['Deaths'].reset_index()\n",
        "recovered_case = pandas_corona_dataFrame.groupby('ObservationDate').sum()['Recovered'].reset_index()\n",
        "print(\"The processing Time is: \", time()- t,\"seconds\")"
      ],
      "execution_count": null,
      "outputs": [
        {
          "output_type": "stream",
          "text": [
            "The processing Time is:  0.07306599617004395 seconds\n"
          ],
          "name": "stdout"
        }
      ]
    },
    {
      "cell_type": "code",
      "metadata": {
        "id": "v68peBNuR8BC",
        "colab_type": "code",
        "colab": {
          "base_uri": "https://localhost:8080/",
          "height": 559
        },
        "outputId": "78d7240c-4e18-4f26-8ca6-85a3b3309da7"
      },
      "source": [
        "#Plotting datewise confirmed, deaths, recovered cases\n",
        "t=time()\n",
        "fig = go.Figure()\n",
        "fig.add_trace(go.Scatter(x=confirmed_case['ObservationDate'], y=confirmed_case['Confirmed'], mode='lines+markers', name='Confirmed',line=dict(color='blue', width=2)))\n",
        "fig.add_trace(go.Scatter(x=deaths_case['ObservationDate'], y=deaths_case['Deaths'], mode='lines+markers', name='Deaths', line=dict(color='Red', width=2)))\n",
        "fig.add_trace(go.Scatter(x=recovered_case['ObservationDate'], y=recovered_case['Recovered'], mode='lines+markers', name='Recovered', line=dict(color='Green', width=2)))\n",
        "fig.update_layout(title='Worldwide COVID-19 Cases', xaxis_tickfont_size=14,yaxis=dict(title='Number of Cases'))\n",
        "\n",
        "fig.show()\n",
        "print(\"The processing Time is: \", time()- t,\"seconds\")"
      ],
      "execution_count": null,
      "outputs": [
        {
          "output_type": "display_data",
          "data": {
            "text/html": [
              "<html>\n",
              "<head><meta charset=\"utf-8\" /></head>\n",
              "<body>\n",
              "    <div>\n",
              "            <script src=\"https://cdnjs.cloudflare.com/ajax/libs/mathjax/2.7.5/MathJax.js?config=TeX-AMS-MML_SVG\"></script><script type=\"text/javascript\">if (window.MathJax) {MathJax.Hub.Config({SVG: {font: \"STIX-Web\"}});}</script>\n",
              "                <script type=\"text/javascript\">window.PlotlyConfig = {MathJaxConfig: 'local'};</script>\n",
              "        <script src=\"https://cdn.plot.ly/plotly-latest.min.js\"></script>    \n",
              "            <div id=\"e2c5e12d-84ed-477a-bd3c-4b3603d0d925\" class=\"plotly-graph-div\" style=\"height:525px; width:100%;\"></div>\n",
              "            <script type=\"text/javascript\">\n",
              "                \n",
              "                    window.PLOTLYENV=window.PLOTLYENV || {};\n",
              "                    \n",
              "                if (document.getElementById(\"e2c5e12d-84ed-477a-bd3c-4b3603d0d925\")) {\n",
              "                    Plotly.newPlot(\n",
              "                        'e2c5e12d-84ed-477a-bd3c-4b3603d0d925',\n",
              "                        [{\"line\": {\"color\": \"blue\", \"width\": 2}, \"mode\": \"lines+markers\", \"name\": \"Confirmed\", \"type\": \"scatter\", \"x\": [\"01/22/2020\", \"01/23/2020\", \"01/24/2020\", \"01/25/2020\", \"01/26/2020\", \"01/27/2020\", \"01/28/2020\", \"01/29/2020\", \"01/30/2020\", \"01/31/2020\", \"02/01/2020\", \"02/02/2020\", \"02/03/2020\", \"02/04/2020\", \"02/05/2020\", \"02/06/2020\", \"02/07/2020\", \"02/08/2020\", \"02/09/2020\", \"02/10/2020\", \"02/11/2020\", \"02/12/2020\", \"02/13/2020\", \"02/14/2020\", \"02/15/2020\", \"02/16/2020\", \"02/17/2020\", \"02/18/2020\", \"02/19/2020\", \"02/20/2020\", \"02/21/2020\", \"02/22/2020\", \"02/23/2020\", \"02/24/2020\", \"02/25/2020\", \"02/26/2020\", \"02/27/2020\", \"02/28/2020\", \"02/29/2020\", \"03/01/2020\", \"03/02/2020\", \"03/03/2020\", \"03/04/2020\", \"03/05/2020\", \"03/06/2020\", \"03/07/2020\", \"03/08/2020\", \"03/09/2020\", \"03/10/2020\", \"03/11/2020\", \"03/12/2020\", \"03/13/2020\", \"03/14/2020\", \"03/15/2020\", \"03/16/2020\", \"03/17/2020\", \"03/18/2020\", \"03/19/2020\", \"03/20/2020\", \"03/21/2020\", \"03/22/2020\", \"03/23/2020\", \"03/24/2020\", \"03/25/2020\", \"03/26/2020\", \"03/27/2020\", \"03/28/2020\", \"03/29/2020\", \"03/30/2020\", \"03/31/2020\", \"04/01/2020\", \"04/02/2020\", \"04/03/2020\", \"04/04/2020\", \"04/05/2020\", \"04/06/2020\", \"04/07/2020\", \"04/08/2020\", \"04/09/2020\", \"04/10/2020\", \"04/11/2020\", \"04/12/2020\", \"04/13/2020\", \"04/14/2020\", \"04/15/2020\", \"04/16/2020\", \"04/17/2020\", \"04/18/2020\", \"04/19/2020\", \"04/20/2020\", \"04/21/2020\", \"04/22/2020\", \"04/23/2020\", \"04/24/2020\", \"04/25/2020\", \"04/26/2020\", \"04/27/2020\", \"04/28/2020\", \"04/29/2020\", \"04/30/2020\", \"05/01/2020\", \"05/02/2020\", \"05/03/2020\", \"05/04/2020\", \"05/05/2020\", \"05/06/2020\", \"05/07/2020\", \"05/08/2020\", \"05/09/2020\", \"05/10/2020\", \"05/11/2020\", \"05/12/2020\", \"05/13/2020\", \"05/14/2020\", \"05/15/2020\", \"05/16/2020\", \"05/17/2020\", \"05/18/2020\", \"05/19/2020\", \"05/20/2020\", \"05/21/2020\", \"05/22/2020\", \"05/23/2020\", \"05/24/2020\", \"05/25/2020\", \"05/26/2020\", \"05/27/2020\", \"05/28/2020\", \"05/29/2020\", \"05/30/2020\", \"05/31/2020\", \"06/01/2020\", \"06/02/2020\", \"06/03/2020\", \"06/04/2020\", \"06/05/2020\", \"06/06/2020\", \"06/07/2020\", \"06/08/2020\", \"06/09/2020\", \"06/10/2020\", \"06/11/2020\", \"06/12/2020\", \"06/13/2020\", \"06/14/2020\", \"06/15/2020\", \"06/16/2020\", \"06/17/2020\", \"06/18/2020\", \"06/19/2020\", \"06/20/2020\", \"06/21/2020\", \"06/22/2020\", \"06/23/2020\", \"06/24/2020\", \"06/25/2020\", \"06/26/2020\", \"06/27/2020\", \"06/28/2020\", \"06/29/2020\", \"06/30/2020\", \"07/01/2020\", \"07/02/2020\", \"07/03/2020\", \"07/04/2020\", \"07/05/2020\", \"07/06/2020\", \"07/07/2020\", \"07/08/2020\", \"07/09/2020\", \"07/10/2020\", \"07/11/2020\", \"07/12/2020\", \"07/13/2020\", \"07/14/2020\", \"07/15/2020\", \"07/16/2020\", \"07/17/2020\", \"07/18/2020\", \"07/19/2020\", \"07/20/2020\", \"07/21/2020\", \"07/22/2020\", \"07/23/2020\", \"07/24/2020\", \"07/25/2020\", \"07/26/2020\", \"07/27/2020\", \"07/28/2020\", \"07/29/2020\", \"07/30/2020\", \"07/31/2020\", \"08/01/2020\", \"08/02/2020\", \"08/03/2020\", \"08/04/2020\", \"08/05/2020\", \"08/06/2020\", \"08/07/2020\", \"08/08/2020\", \"08/09/2020\", \"08/10/2020\", \"08/11/2020\", \"08/12/2020\"], \"y\": [555.0, 653.0, 941.0, 1438.0, 2118.0, 2927.0, 5578.0, 6165.0, 8235.0, 9925.0, 12038.0, 16787.0, 19881.0, 23892.0, 27636.0, 30818.0, 34392.0, 37121.0, 40151.0, 42763.0, 44803.0, 45222.0, 60370.0, 66887.0, 69032.0, 71226.0, 73260.0, 75138.0, 75641.0, 76199.0, 76843.0, 78599.0, 78985.0, 79570.0, 80415.0, 81397.0, 82756.0, 84124.0, 86013.0, 88371.0, 90309.0, 92844.0, 95124.0, 97886.0, 101800.0, 105836.0, 109835.0, 113582.0, 118582.0, 125865.0, 128343.0, 145193.0, 156099.0, 167447.0, 181546.0, 197168.0, 214915.0, 242713.0, 272167.0, 304549.0, 337122.0, 378283.0, 417962.0, 467594.0, 529591.0, 593291.0, 660693.0, 720140.0, 782389.0, 857487.0, 932605.0, 1013303.0, 1095917.0, 1197408.0, 1272115.0, 1345101.0, 1426096.0, 1511104.0, 1595350.0, 1691719.0, 1771514.0, 1846680.0, 1917320.0, 1976192.0, 2056055.0, 2152647.0, 2240191.0, 2317759.0, 2401379.0, 2472259.0, 2549123.0, 2623960.0, 2708885.0, 2810715.0, 2896746.0, 2971475.0, 3041657.0, 3116398.0, 3193886.0, 3256846.0, 3343777.0, 3427343.0, 3506729.0, 3583055.0, 3662691.0, 3755341.0, 3845718.0, 3938064.0, 4024009.0, 4101699.0, 4177504.0, 4261955.0, 4347018.0, 4442163.0, 4542347.0, 4634068.0, 4713620.0, 4801943.0, 4897492.0, 4996472.0, 5102424.0, 5210817.0, 5310362.0, 5407613.0, 5495061.0, 5589626.0, 5691790.0, 5808946.0, 5924275.0, 6059017.0, 6166946.0, 6265852.0, 6386364.0, 6508635.0, 6632985.0, 6770170.0, 6896917.0, 7010582.0, 7119002.0, 7242313.0, 7360239.0, 7514481.0, 7632802.0, 7766952.0, 7900924.0, 8034504.0, 8173940.0, 8349950.0, 8488977.0, 8668523.0, 8791804.0, 8955536.0, 9098641.0, 9263466.0, 9430516.0, 9609829.0, 9801572.0, 9979535.0, 10145791.0, 10302151.0, 10475838.0, 10692551.0, 10869739.0, 11074878.0, 11267309.0, 11449707.0, 11620096.0, 11829602.0, 12041480.0, 12268518.0, 12498467.0, 12717908.0, 12910357.0, 13104391.0, 13324057.0, 13554477.0, 13805296.0, 14055299.0, 14292922.0, 14507491.0, 14707960.0, 14947428.0, 15229740.0, 15511157.0, 15792390.0, 16046986.0, 16252541.0, 16487669.0, 16691527.0, 17029155.0, 17309805.0, 17599836.0, 17850479.0, 18079516.0, 18282208.0, 18540789.0, 18811953.0, 19097149.0, 19378036.0, 19637506.0, 19861683.0, 20089624.0, 20343589.0, 20620847.0]}, {\"line\": {\"color\": \"Red\", \"width\": 2}, \"mode\": \"lines+markers\", \"name\": \"Deaths\", \"type\": \"scatter\", \"x\": [\"01/22/2020\", \"01/23/2020\", \"01/24/2020\", \"01/25/2020\", \"01/26/2020\", \"01/27/2020\", \"01/28/2020\", \"01/29/2020\", \"01/30/2020\", \"01/31/2020\", \"02/01/2020\", \"02/02/2020\", \"02/03/2020\", \"02/04/2020\", \"02/05/2020\", \"02/06/2020\", \"02/07/2020\", \"02/08/2020\", \"02/09/2020\", \"02/10/2020\", \"02/11/2020\", \"02/12/2020\", \"02/13/2020\", \"02/14/2020\", \"02/15/2020\", \"02/16/2020\", \"02/17/2020\", \"02/18/2020\", \"02/19/2020\", \"02/20/2020\", \"02/21/2020\", \"02/22/2020\", \"02/23/2020\", \"02/24/2020\", \"02/25/2020\", \"02/26/2020\", \"02/27/2020\", \"02/28/2020\", \"02/29/2020\", \"03/01/2020\", \"03/02/2020\", \"03/03/2020\", \"03/04/2020\", \"03/05/2020\", \"03/06/2020\", \"03/07/2020\", \"03/08/2020\", \"03/09/2020\", \"03/10/2020\", \"03/11/2020\", \"03/12/2020\", \"03/13/2020\", \"03/14/2020\", \"03/15/2020\", \"03/16/2020\", \"03/17/2020\", \"03/18/2020\", \"03/19/2020\", \"03/20/2020\", \"03/21/2020\", \"03/22/2020\", \"03/23/2020\", \"03/24/2020\", \"03/25/2020\", \"03/26/2020\", \"03/27/2020\", \"03/28/2020\", \"03/29/2020\", \"03/30/2020\", \"03/31/2020\", \"04/01/2020\", \"04/02/2020\", \"04/03/2020\", \"04/04/2020\", \"04/05/2020\", \"04/06/2020\", \"04/07/2020\", \"04/08/2020\", \"04/09/2020\", \"04/10/2020\", \"04/11/2020\", \"04/12/2020\", \"04/13/2020\", \"04/14/2020\", \"04/15/2020\", \"04/16/2020\", \"04/17/2020\", \"04/18/2020\", \"04/19/2020\", \"04/20/2020\", \"04/21/2020\", \"04/22/2020\", \"04/23/2020\", \"04/24/2020\", \"04/25/2020\", \"04/26/2020\", \"04/27/2020\", \"04/28/2020\", \"04/29/2020\", \"04/30/2020\", \"05/01/2020\", \"05/02/2020\", \"05/03/2020\", \"05/04/2020\", \"05/05/2020\", \"05/06/2020\", \"05/07/2020\", \"05/08/2020\", \"05/09/2020\", \"05/10/2020\", \"05/11/2020\", \"05/12/2020\", \"05/13/2020\", \"05/14/2020\", \"05/15/2020\", \"05/16/2020\", \"05/17/2020\", \"05/18/2020\", \"05/19/2020\", \"05/20/2020\", \"05/21/2020\", \"05/22/2020\", \"05/23/2020\", \"05/24/2020\", \"05/25/2020\", \"05/26/2020\", \"05/27/2020\", \"05/28/2020\", \"05/29/2020\", \"05/30/2020\", \"05/31/2020\", \"06/01/2020\", \"06/02/2020\", \"06/03/2020\", \"06/04/2020\", \"06/05/2020\", \"06/06/2020\", \"06/07/2020\", \"06/08/2020\", \"06/09/2020\", \"06/10/2020\", \"06/11/2020\", \"06/12/2020\", \"06/13/2020\", \"06/14/2020\", \"06/15/2020\", \"06/16/2020\", \"06/17/2020\", \"06/18/2020\", \"06/19/2020\", \"06/20/2020\", \"06/21/2020\", \"06/22/2020\", \"06/23/2020\", \"06/24/2020\", \"06/25/2020\", \"06/26/2020\", \"06/27/2020\", \"06/28/2020\", \"06/29/2020\", \"06/30/2020\", \"07/01/2020\", \"07/02/2020\", \"07/03/2020\", \"07/04/2020\", \"07/05/2020\", \"07/06/2020\", \"07/07/2020\", \"07/08/2020\", \"07/09/2020\", \"07/10/2020\", \"07/11/2020\", \"07/12/2020\", \"07/13/2020\", \"07/14/2020\", \"07/15/2020\", \"07/16/2020\", \"07/17/2020\", \"07/18/2020\", \"07/19/2020\", \"07/20/2020\", \"07/21/2020\", \"07/22/2020\", \"07/23/2020\", \"07/24/2020\", \"07/25/2020\", \"07/26/2020\", \"07/27/2020\", \"07/28/2020\", \"07/29/2020\", \"07/30/2020\", \"07/31/2020\", \"08/01/2020\", \"08/02/2020\", \"08/03/2020\", \"08/04/2020\", \"08/05/2020\", \"08/06/2020\", \"08/07/2020\", \"08/08/2020\", \"08/09/2020\", \"08/10/2020\", \"08/11/2020\", \"08/12/2020\"], \"y\": [17.0, 18.0, 26.0, 42.0, 56.0, 82.0, 131.0, 133.0, 171.0, 213.0, 259.0, 362.0, 426.0, 492.0, 564.0, 634.0, 719.0, 806.0, 906.0, 1013.0, 1113.0, 1118.0, 1371.0, 1523.0, 1666.0, 1770.0, 1868.0, 2007.0, 2122.0, 2247.0, 2251.0, 2458.0, 2469.0, 2629.0, 2708.0, 2770.0, 2814.0, 2872.0, 2941.0, 2996.0, 3085.0, 3160.0, 3254.0, 3348.0, 3460.0, 3558.0, 3803.0, 3996.0, 4262.0, 4615.0, 4720.0, 5404.0, 5819.0, 6440.0, 7126.0, 7905.0, 8733.0, 9867.0, 11299.0, 12973.0, 14623.0, 16497.0, 18615.0, 21181.0, 23970.0, 27198.0, 30652.0, 33925.0, 37582.0, 42107.0, 46809.0, 52983.0, 58787.0, 64606.0, 69374.0, 74565.0, 81865.0, 88338.0, 95455.0, 102525.0, 108502.0, 114089.0, 119482.0, 125984.0, 134177.0, 143801.0, 153822.0, 159510.0, 165044.0, 169986.0, 176583.0, 183066.0, 190858.0, 197151.0, 202846.0, 206544.0, 211167.0, 217153.0, 227638.0, 233388.0, 238650.0, 243808.0, 247470.0, 251537.0, 257239.0, 263831.0, 269567.0, 274898.0, 279311.0, 282709.0, 286330.0, 291964.0, 297197.0, 302418.0, 307666.0, 311781.0, 315185.0, 318481.0, 323285.0, 328115.0, 332924.0, 338160.0, 342097.0, 345059.0, 346232.0, 350453.0, 355629.0, 360308.0, 364867.0, 369126.0, 372035.0, 375543.0, 380383.0, 385947.0, 391136.0, 396121.0, 400000.0, 402744.0, 406543.0, 411436.0, 416201.0, 421458.0, 425394.0, 429736.0, 433066.0, 436899.0, 443685.0, 448959.0, 453985.0, 460217.0, 464465.0, 468365.0, 472171.0, 477584.0, 482753.0, 489312.0, 494181.0, 498710.0, 501893.0, 505505.0, 511253.0, 516210.0, 521298.0, 526411.0, 530754.0, 534267.0, 538058.0, 544163.0, 549468.0, 554924.0, 560209.0, 565138.0, 569128.0, 573003.0, 578646.0, 584124.0, 589911.0, 596518.0, 602144.0, 606173.0, 609894.0, 616443.0, 623443.0, 633396.0, 639652.0, 645257.0, 648637.0, 654055.0, 659622.0, 667011.0, 673194.0, 679500.0, 685061.0, 689360.0, 693694.0, 700736.0, 707820.0, 714940.0, 721324.0, 726781.0, 731326.0, 736191.0, 742615.0, 749358.0]}, {\"line\": {\"color\": \"Green\", \"width\": 2}, \"mode\": \"lines+markers\", \"name\": \"Recovered\", \"type\": \"scatter\", \"x\": [\"01/22/2020\", \"01/23/2020\", \"01/24/2020\", \"01/25/2020\", \"01/26/2020\", \"01/27/2020\", \"01/28/2020\", \"01/29/2020\", \"01/30/2020\", \"01/31/2020\", \"02/01/2020\", \"02/02/2020\", \"02/03/2020\", \"02/04/2020\", \"02/05/2020\", \"02/06/2020\", \"02/07/2020\", \"02/08/2020\", \"02/09/2020\", \"02/10/2020\", \"02/11/2020\", \"02/12/2020\", \"02/13/2020\", \"02/14/2020\", \"02/15/2020\", \"02/16/2020\", \"02/17/2020\", \"02/18/2020\", \"02/19/2020\", \"02/20/2020\", \"02/21/2020\", \"02/22/2020\", \"02/23/2020\", \"02/24/2020\", \"02/25/2020\", \"02/26/2020\", \"02/27/2020\", \"02/28/2020\", \"02/29/2020\", \"03/01/2020\", \"03/02/2020\", \"03/03/2020\", \"03/04/2020\", \"03/05/2020\", \"03/06/2020\", \"03/07/2020\", \"03/08/2020\", \"03/09/2020\", \"03/10/2020\", \"03/11/2020\", \"03/12/2020\", \"03/13/2020\", \"03/14/2020\", \"03/15/2020\", \"03/16/2020\", \"03/17/2020\", \"03/18/2020\", \"03/19/2020\", \"03/20/2020\", \"03/21/2020\", \"03/22/2020\", \"03/23/2020\", \"03/24/2020\", \"03/25/2020\", \"03/26/2020\", \"03/27/2020\", \"03/28/2020\", \"03/29/2020\", \"03/30/2020\", \"03/31/2020\", \"04/01/2020\", \"04/02/2020\", \"04/03/2020\", \"04/04/2020\", \"04/05/2020\", \"04/06/2020\", \"04/07/2020\", \"04/08/2020\", \"04/09/2020\", \"04/10/2020\", \"04/11/2020\", \"04/12/2020\", \"04/13/2020\", \"04/14/2020\", \"04/15/2020\", \"04/16/2020\", \"04/17/2020\", \"04/18/2020\", \"04/19/2020\", \"04/20/2020\", \"04/21/2020\", \"04/22/2020\", \"04/23/2020\", \"04/24/2020\", \"04/25/2020\", \"04/26/2020\", \"04/27/2020\", \"04/28/2020\", \"04/29/2020\", \"04/30/2020\", \"05/01/2020\", \"05/02/2020\", \"05/03/2020\", \"05/04/2020\", \"05/05/2020\", \"05/06/2020\", \"05/07/2020\", \"05/08/2020\", \"05/09/2020\", \"05/10/2020\", \"05/11/2020\", \"05/12/2020\", \"05/13/2020\", \"05/14/2020\", \"05/15/2020\", \"05/16/2020\", \"05/17/2020\", \"05/18/2020\", \"05/19/2020\", \"05/20/2020\", \"05/21/2020\", \"05/22/2020\", \"05/23/2020\", \"05/24/2020\", \"05/25/2020\", \"05/26/2020\", \"05/27/2020\", \"05/28/2020\", \"05/29/2020\", \"05/30/2020\", \"05/31/2020\", \"06/01/2020\", \"06/02/2020\", \"06/03/2020\", \"06/04/2020\", \"06/05/2020\", \"06/06/2020\", \"06/07/2020\", \"06/08/2020\", \"06/09/2020\", \"06/10/2020\", \"06/11/2020\", \"06/12/2020\", \"06/13/2020\", \"06/14/2020\", \"06/15/2020\", \"06/16/2020\", \"06/17/2020\", \"06/18/2020\", \"06/19/2020\", \"06/20/2020\", \"06/21/2020\", \"06/22/2020\", \"06/23/2020\", \"06/24/2020\", \"06/25/2020\", \"06/26/2020\", \"06/27/2020\", \"06/28/2020\", \"06/29/2020\", \"06/30/2020\", \"07/01/2020\", \"07/02/2020\", \"07/03/2020\", \"07/04/2020\", \"07/05/2020\", \"07/06/2020\", \"07/07/2020\", \"07/08/2020\", \"07/09/2020\", \"07/10/2020\", \"07/11/2020\", \"07/12/2020\", \"07/13/2020\", \"07/14/2020\", \"07/15/2020\", \"07/16/2020\", \"07/17/2020\", \"07/18/2020\", \"07/19/2020\", \"07/20/2020\", \"07/21/2020\", \"07/22/2020\", \"07/23/2020\", \"07/24/2020\", \"07/25/2020\", \"07/26/2020\", \"07/27/2020\", \"07/28/2020\", \"07/29/2020\", \"07/30/2020\", \"07/31/2020\", \"08/01/2020\", \"08/02/2020\", \"08/03/2020\", \"08/04/2020\", \"08/05/2020\", \"08/06/2020\", \"08/07/2020\", \"08/08/2020\", \"08/09/2020\", \"08/10/2020\", \"08/11/2020\", \"08/12/2020\"], \"y\": [28.0, 30.0, 36.0, 39.0, 52.0, 61.0, 107.0, 126.0, 143.0, 222.0, 284.0, 472.0, 623.0, 852.0, 1124.0, 1487.0, 2011.0, 2616.0, 3244.0, 3946.0, 4683.0, 5150.0, 6295.0, 8058.0, 9395.0, 10865.0, 12583.0, 14352.0, 16121.0, 18177.0, 18890.0, 22886.0, 23394.0, 25227.0, 27905.0, 30384.0, 33277.0, 36711.0, 39782.0, 42716.0, 45602.0, 48229.0, 51171.0, 53797.0, 55866.0, 58359.0, 60695.0, 62512.0, 64404.0, 67003.0, 68324.0, 70251.0, 72624.0, 76034.0, 78088.0, 80840.0, 83313.0, 84962.0, 87403.0, 91676.0, 97243.0, 100958.0, 107699.0, 113764.0, 122144.0, 130909.0, 139409.0, 149076.0, 164560.0, 178028.0, 193171.0, 210263.0, 225796.0, 246152.0, 260012.0, 276515.0, 300054.0, 328661.0, 353975.0, 376096.0, 402110.0, 421722.0, 448655.0, 474261.0, 511019.0, 542107.0, 568343.0, 592319.0, 623903.0, 645738.0, 679819.0, 709694.0, 738486.0, 793420.0, 816685.0, 865733.0, 893967.0, 928658.0, 972719.0, 1014753.0, 1053327.0, 1093112.0, 1125236.0, 1162724.0, 1198832.0, 1245413.0, 1284741.0, 1322050.0, 1375624.0, 1408980.0, 1456209.0, 1493414.0, 1548547.0, 1587893.0, 1637067.0, 1693197.0, 1733963.0, 1786875.0, 1838995.0, 1897466.0, 1948739.0, 2056643.0, 2112185.0, 2168563.0, 2231738.0, 2286956.0, 2350088.0, 2415960.0, 2493535.0, 2564693.0, 2641329.0, 2696009.0, 2729527.0, 2804982.0, 2869963.0, 3013132.0, 3085833.0, 3140920.0, 3293408.0, 3375673.0, 3454807.0, 3540696.0, 3613277.0, 3698304.0, 3769712.0, 3857339.0, 3955169.0, 4073955.0, 4155099.0, 4245777.0, 4378255.0, 4447086.0, 4526333.0, 4630391.0, 4746118.0, 4838921.0, 4945557.0, 5051864.0, 5140899.0, 5235813.0, 5353272.0, 5577684.0, 5754006.0, 5863847.0, 6059565.0, 6179006.0, 6302626.0, 6447656.0, 6586726.0, 6740124.0, 6879521.0, 7005299.0, 7116957.0, 7257369.0, 7399474.0, 7559252.0, 7711525.0, 7894890.0, 8045827.0, 8133663.0, 8290431.0, 8466990.0, 8643987.0, 8813886.0, 9043203.0, 9262520.0, 9397505.0, 9572619.0, 9711187.0, 9948163.0, 10170650.0, 10369140.0, 10553585.0, 10690555.0, 10913000.0, 11134735.0, 11356275.0, 11545401.0, 11737927.0, 11939109.0, 12115825.0, 12280520.0, 12585473.0, 12826815.0]}],\n",
              "                        {\"template\": {\"data\": {\"bar\": [{\"error_x\": {\"color\": \"#2a3f5f\"}, \"error_y\": {\"color\": \"#2a3f5f\"}, \"marker\": {\"line\": {\"color\": \"#E5ECF6\", \"width\": 0.5}}, \"type\": \"bar\"}], \"barpolar\": [{\"marker\": {\"line\": {\"color\": \"#E5ECF6\", \"width\": 0.5}}, \"type\": \"barpolar\"}], \"carpet\": [{\"aaxis\": {\"endlinecolor\": \"#2a3f5f\", \"gridcolor\": \"white\", \"linecolor\": \"white\", \"minorgridcolor\": \"white\", \"startlinecolor\": \"#2a3f5f\"}, \"baxis\": {\"endlinecolor\": \"#2a3f5f\", \"gridcolor\": \"white\", \"linecolor\": \"white\", \"minorgridcolor\": \"white\", \"startlinecolor\": \"#2a3f5f\"}, \"type\": \"carpet\"}], \"choropleth\": [{\"colorbar\": {\"outlinewidth\": 0, \"ticks\": \"\"}, \"type\": \"choropleth\"}], \"contour\": [{\"colorbar\": {\"outlinewidth\": 0, \"ticks\": \"\"}, \"colorscale\": [[0.0, \"#0d0887\"], [0.1111111111111111, \"#46039f\"], [0.2222222222222222, \"#7201a8\"], [0.3333333333333333, \"#9c179e\"], [0.4444444444444444, \"#bd3786\"], [0.5555555555555556, \"#d8576b\"], [0.6666666666666666, \"#ed7953\"], [0.7777777777777778, \"#fb9f3a\"], [0.8888888888888888, \"#fdca26\"], [1.0, \"#f0f921\"]], \"type\": \"contour\"}], \"contourcarpet\": [{\"colorbar\": {\"outlinewidth\": 0, \"ticks\": \"\"}, \"type\": \"contourcarpet\"}], \"heatmap\": [{\"colorbar\": {\"outlinewidth\": 0, \"ticks\": \"\"}, \"colorscale\": [[0.0, \"#0d0887\"], [0.1111111111111111, \"#46039f\"], [0.2222222222222222, \"#7201a8\"], [0.3333333333333333, \"#9c179e\"], [0.4444444444444444, \"#bd3786\"], [0.5555555555555556, \"#d8576b\"], [0.6666666666666666, \"#ed7953\"], [0.7777777777777778, \"#fb9f3a\"], [0.8888888888888888, \"#fdca26\"], [1.0, \"#f0f921\"]], \"type\": \"heatmap\"}], \"heatmapgl\": [{\"colorbar\": {\"outlinewidth\": 0, \"ticks\": \"\"}, \"colorscale\": [[0.0, \"#0d0887\"], [0.1111111111111111, \"#46039f\"], [0.2222222222222222, \"#7201a8\"], [0.3333333333333333, \"#9c179e\"], [0.4444444444444444, \"#bd3786\"], [0.5555555555555556, \"#d8576b\"], [0.6666666666666666, \"#ed7953\"], [0.7777777777777778, \"#fb9f3a\"], [0.8888888888888888, \"#fdca26\"], [1.0, \"#f0f921\"]], \"type\": \"heatmapgl\"}], \"histogram\": [{\"marker\": {\"colorbar\": {\"outlinewidth\": 0, \"ticks\": \"\"}}, \"type\": \"histogram\"}], \"histogram2d\": [{\"colorbar\": {\"outlinewidth\": 0, \"ticks\": \"\"}, \"colorscale\": [[0.0, \"#0d0887\"], [0.1111111111111111, \"#46039f\"], [0.2222222222222222, \"#7201a8\"], [0.3333333333333333, \"#9c179e\"], [0.4444444444444444, \"#bd3786\"], [0.5555555555555556, \"#d8576b\"], [0.6666666666666666, \"#ed7953\"], [0.7777777777777778, \"#fb9f3a\"], [0.8888888888888888, \"#fdca26\"], [1.0, \"#f0f921\"]], \"type\": \"histogram2d\"}], \"histogram2dcontour\": [{\"colorbar\": {\"outlinewidth\": 0, \"ticks\": \"\"}, \"colorscale\": [[0.0, \"#0d0887\"], [0.1111111111111111, \"#46039f\"], [0.2222222222222222, \"#7201a8\"], [0.3333333333333333, \"#9c179e\"], [0.4444444444444444, \"#bd3786\"], [0.5555555555555556, \"#d8576b\"], [0.6666666666666666, \"#ed7953\"], [0.7777777777777778, \"#fb9f3a\"], [0.8888888888888888, \"#fdca26\"], [1.0, \"#f0f921\"]], \"type\": \"histogram2dcontour\"}], \"mesh3d\": [{\"colorbar\": {\"outlinewidth\": 0, \"ticks\": \"\"}, \"type\": \"mesh3d\"}], \"parcoords\": [{\"line\": {\"colorbar\": {\"outlinewidth\": 0, \"ticks\": \"\"}}, \"type\": \"parcoords\"}], \"pie\": [{\"automargin\": true, \"type\": \"pie\"}], \"scatter\": [{\"marker\": {\"colorbar\": {\"outlinewidth\": 0, \"ticks\": \"\"}}, \"type\": \"scatter\"}], \"scatter3d\": [{\"line\": {\"colorbar\": {\"outlinewidth\": 0, \"ticks\": \"\"}}, \"marker\": {\"colorbar\": {\"outlinewidth\": 0, \"ticks\": \"\"}}, \"type\": \"scatter3d\"}], \"scattercarpet\": [{\"marker\": {\"colorbar\": {\"outlinewidth\": 0, \"ticks\": \"\"}}, \"type\": \"scattercarpet\"}], \"scattergeo\": [{\"marker\": {\"colorbar\": {\"outlinewidth\": 0, \"ticks\": \"\"}}, \"type\": \"scattergeo\"}], \"scattergl\": [{\"marker\": {\"colorbar\": {\"outlinewidth\": 0, \"ticks\": \"\"}}, \"type\": \"scattergl\"}], \"scattermapbox\": [{\"marker\": {\"colorbar\": {\"outlinewidth\": 0, \"ticks\": \"\"}}, \"type\": \"scattermapbox\"}], \"scatterpolar\": [{\"marker\": {\"colorbar\": {\"outlinewidth\": 0, \"ticks\": \"\"}}, \"type\": \"scatterpolar\"}], \"scatterpolargl\": [{\"marker\": {\"colorbar\": {\"outlinewidth\": 0, \"ticks\": \"\"}}, \"type\": \"scatterpolargl\"}], \"scatterternary\": [{\"marker\": {\"colorbar\": {\"outlinewidth\": 0, \"ticks\": \"\"}}, \"type\": \"scatterternary\"}], \"surface\": [{\"colorbar\": {\"outlinewidth\": 0, \"ticks\": \"\"}, \"colorscale\": [[0.0, \"#0d0887\"], [0.1111111111111111, \"#46039f\"], [0.2222222222222222, \"#7201a8\"], [0.3333333333333333, \"#9c179e\"], [0.4444444444444444, \"#bd3786\"], [0.5555555555555556, \"#d8576b\"], [0.6666666666666666, \"#ed7953\"], [0.7777777777777778, \"#fb9f3a\"], [0.8888888888888888, \"#fdca26\"], [1.0, \"#f0f921\"]], \"type\": \"surface\"}], \"table\": [{\"cells\": {\"fill\": {\"color\": \"#EBF0F8\"}, \"line\": {\"color\": \"white\"}}, \"header\": {\"fill\": {\"color\": \"#C8D4E3\"}, \"line\": {\"color\": \"white\"}}, \"type\": \"table\"}]}, \"layout\": {\"annotationdefaults\": {\"arrowcolor\": \"#2a3f5f\", \"arrowhead\": 0, \"arrowwidth\": 1}, \"coloraxis\": {\"colorbar\": {\"outlinewidth\": 0, \"ticks\": \"\"}}, \"colorscale\": {\"diverging\": [[0, \"#8e0152\"], [0.1, \"#c51b7d\"], [0.2, \"#de77ae\"], [0.3, \"#f1b6da\"], [0.4, \"#fde0ef\"], [0.5, \"#f7f7f7\"], [0.6, \"#e6f5d0\"], [0.7, \"#b8e186\"], [0.8, \"#7fbc41\"], [0.9, \"#4d9221\"], [1, \"#276419\"]], \"sequential\": [[0.0, \"#0d0887\"], [0.1111111111111111, \"#46039f\"], [0.2222222222222222, \"#7201a8\"], [0.3333333333333333, \"#9c179e\"], [0.4444444444444444, \"#bd3786\"], [0.5555555555555556, \"#d8576b\"], [0.6666666666666666, \"#ed7953\"], [0.7777777777777778, \"#fb9f3a\"], [0.8888888888888888, \"#fdca26\"], [1.0, \"#f0f921\"]], \"sequentialminus\": [[0.0, \"#0d0887\"], [0.1111111111111111, \"#46039f\"], [0.2222222222222222, \"#7201a8\"], [0.3333333333333333, \"#9c179e\"], [0.4444444444444444, \"#bd3786\"], [0.5555555555555556, \"#d8576b\"], [0.6666666666666666, \"#ed7953\"], [0.7777777777777778, \"#fb9f3a\"], [0.8888888888888888, \"#fdca26\"], [1.0, \"#f0f921\"]]}, \"colorway\": [\"#636efa\", \"#EF553B\", \"#00cc96\", \"#ab63fa\", \"#FFA15A\", \"#19d3f3\", \"#FF6692\", \"#B6E880\", \"#FF97FF\", \"#FECB52\"], \"font\": {\"color\": \"#2a3f5f\"}, \"geo\": {\"bgcolor\": \"white\", \"lakecolor\": \"white\", \"landcolor\": \"#E5ECF6\", \"showlakes\": true, \"showland\": true, \"subunitcolor\": \"white\"}, \"hoverlabel\": {\"align\": \"left\"}, \"hovermode\": \"closest\", \"mapbox\": {\"style\": \"light\"}, \"paper_bgcolor\": \"white\", \"plot_bgcolor\": \"#E5ECF6\", \"polar\": {\"angularaxis\": {\"gridcolor\": \"white\", \"linecolor\": \"white\", \"ticks\": \"\"}, \"bgcolor\": \"#E5ECF6\", \"radialaxis\": {\"gridcolor\": \"white\", \"linecolor\": \"white\", \"ticks\": \"\"}}, \"scene\": {\"xaxis\": {\"backgroundcolor\": \"#E5ECF6\", \"gridcolor\": \"white\", \"gridwidth\": 2, \"linecolor\": \"white\", \"showbackground\": true, \"ticks\": \"\", \"zerolinecolor\": \"white\"}, \"yaxis\": {\"backgroundcolor\": \"#E5ECF6\", \"gridcolor\": \"white\", \"gridwidth\": 2, \"linecolor\": \"white\", \"showbackground\": true, \"ticks\": \"\", \"zerolinecolor\": \"white\"}, \"zaxis\": {\"backgroundcolor\": \"#E5ECF6\", \"gridcolor\": \"white\", \"gridwidth\": 2, \"linecolor\": \"white\", \"showbackground\": true, \"ticks\": \"\", \"zerolinecolor\": \"white\"}}, \"shapedefaults\": {\"line\": {\"color\": \"#2a3f5f\"}}, \"ternary\": {\"aaxis\": {\"gridcolor\": \"white\", \"linecolor\": \"white\", \"ticks\": \"\"}, \"baxis\": {\"gridcolor\": \"white\", \"linecolor\": \"white\", \"ticks\": \"\"}, \"bgcolor\": \"#E5ECF6\", \"caxis\": {\"gridcolor\": \"white\", \"linecolor\": \"white\", \"ticks\": \"\"}}, \"title\": {\"x\": 0.05}, \"xaxis\": {\"automargin\": true, \"gridcolor\": \"white\", \"linecolor\": \"white\", \"ticks\": \"\", \"title\": {\"standoff\": 15}, \"zerolinecolor\": \"white\", \"zerolinewidth\": 2}, \"yaxis\": {\"automargin\": true, \"gridcolor\": \"white\", \"linecolor\": \"white\", \"ticks\": \"\", \"title\": {\"standoff\": 15}, \"zerolinecolor\": \"white\", \"zerolinewidth\": 2}}}, \"title\": {\"text\": \"Worldwide COVID-19 Cases\"}, \"xaxis\": {\"tickfont\": {\"size\": 14}}, \"yaxis\": {\"title\": {\"text\": \"Number of Cases\"}}},\n",
              "                        {\"responsive\": true}\n",
              "                    ).then(function(){\n",
              "                            \n",
              "var gd = document.getElementById('e2c5e12d-84ed-477a-bd3c-4b3603d0d925');\n",
              "var x = new MutationObserver(function (mutations, observer) {{\n",
              "        var display = window.getComputedStyle(gd).display;\n",
              "        if (!display || display === 'none') {{\n",
              "            console.log([gd, 'removed!']);\n",
              "            Plotly.purge(gd);\n",
              "            observer.disconnect();\n",
              "        }}\n",
              "}});\n",
              "\n",
              "// Listen for the removal of the full notebook cells\n",
              "var notebookContainer = gd.closest('#notebook-container');\n",
              "if (notebookContainer) {{\n",
              "    x.observe(notebookContainer, {childList: true});\n",
              "}}\n",
              "\n",
              "// Listen for the clearing of the current output cell\n",
              "var outputEl = gd.closest('.output');\n",
              "if (outputEl) {{\n",
              "    x.observe(outputEl, {childList: true});\n",
              "}}\n",
              "\n",
              "                        })\n",
              "                };\n",
              "                \n",
              "            </script>\n",
              "        </div>\n",
              "</body>\n",
              "</html>"
            ]
          },
          "metadata": {
            "tags": []
          }
        },
        {
          "output_type": "stream",
          "text": [
            "The processing Time is:  0.30569958686828613 seconds\n"
          ],
          "name": "stdout"
        }
      ]
    },
    {
      "cell_type": "markdown",
      "metadata": {
        "id": "QIMoAVrTLaK0",
        "colab_type": "text"
      },
      "source": [
        "Forecasting **Confirmed COVID-19** Cases Worldwide"
      ]
    },
    {
      "cell_type": "code",
      "metadata": {
        "id": "oQgZHWkoLcJy",
        "colab_type": "code",
        "colab": {
          "base_uri": "https://localhost:8080/",
          "height": 34
        },
        "outputId": "82b65221-b4be-4f4c-f54a-a2cac6b1bc2f"
      },
      "source": [
        "t=time()\n",
        "confirmed_case.columns = ['ds','y']\n",
        "confirmed_case['ds'] = pd.to_datetime(confirmed_case['ds'])\n",
        "print(\"The processing Time is: \", time()- t,\"seconds\")"
      ],
      "execution_count": null,
      "outputs": [
        {
          "output_type": "stream",
          "text": [
            "The processing Time is:  0.0031609535217285156 seconds\n"
          ],
          "name": "stdout"
        }
      ]
    },
    {
      "cell_type": "code",
      "metadata": {
        "id": "1f3OvGH6Lfjw",
        "colab_type": "code",
        "colab": {
          "base_uri": "https://localhost:8080/",
          "height": 204
        },
        "outputId": "b419ffeb-6df6-4b21-c1bb-c634e17672c1"
      },
      "source": [
        "t=time()\n",
        "confirmed_case.tail()\n",
        "#print(\"The processing Time is: \", time()- t,\"seconds\")"
      ],
      "execution_count": null,
      "outputs": [
        {
          "output_type": "execute_result",
          "data": {
            "text/html": [
              "<div>\n",
              "<style scoped>\n",
              "    .dataframe tbody tr th:only-of-type {\n",
              "        vertical-align: middle;\n",
              "    }\n",
              "\n",
              "    .dataframe tbody tr th {\n",
              "        vertical-align: top;\n",
              "    }\n",
              "\n",
              "    .dataframe thead th {\n",
              "        text-align: right;\n",
              "    }\n",
              "</style>\n",
              "<table border=\"1\" class=\"dataframe\">\n",
              "  <thead>\n",
              "    <tr style=\"text-align: right;\">\n",
              "      <th></th>\n",
              "      <th>ds</th>\n",
              "      <th>y</th>\n",
              "    </tr>\n",
              "  </thead>\n",
              "  <tbody>\n",
              "    <tr>\n",
              "      <th>199</th>\n",
              "      <td>2020-08-08</td>\n",
              "      <td>19637506.0</td>\n",
              "    </tr>\n",
              "    <tr>\n",
              "      <th>200</th>\n",
              "      <td>2020-08-09</td>\n",
              "      <td>19861683.0</td>\n",
              "    </tr>\n",
              "    <tr>\n",
              "      <th>201</th>\n",
              "      <td>2020-08-10</td>\n",
              "      <td>20089624.0</td>\n",
              "    </tr>\n",
              "    <tr>\n",
              "      <th>202</th>\n",
              "      <td>2020-08-11</td>\n",
              "      <td>20343589.0</td>\n",
              "    </tr>\n",
              "    <tr>\n",
              "      <th>203</th>\n",
              "      <td>2020-08-12</td>\n",
              "      <td>20620847.0</td>\n",
              "    </tr>\n",
              "  </tbody>\n",
              "</table>\n",
              "</div>"
            ],
            "text/plain": [
              "            ds           y\n",
              "199 2020-08-08  19637506.0\n",
              "200 2020-08-09  19861683.0\n",
              "201 2020-08-10  20089624.0\n",
              "202 2020-08-11  20343589.0\n",
              "203 2020-08-12  20620847.0"
            ]
          },
          "metadata": {
            "tags": []
          },
          "execution_count": 69
        }
      ]
    },
    {
      "cell_type": "code",
      "metadata": {
        "id": "4JprzQcEXGth",
        "colab_type": "code",
        "colab": {
          "base_uri": "https://localhost:8080/",
          "height": 85
        },
        "outputId": "83b45f2c-c185-444f-eec1-59894a13e653"
      },
      "source": [
        "t=time()\n",
        "model = Prophet(interval_width=0.95)\n",
        "model.fit(confirmed_case)\n",
        "future = model.make_future_dataframe(periods=7)\n",
        "future.tail()\n",
        "print(\"The processing Time is: \", time()- t,\"seconds\")"
      ],
      "execution_count": null,
      "outputs": [
        {
          "output_type": "stream",
          "text": [
            "INFO:numexpr.utils:NumExpr defaulting to 2 threads.\n",
            "INFO:fbprophet:Disabling yearly seasonality. Run prophet with yearly_seasonality=True to override this.\n",
            "INFO:fbprophet:Disabling daily seasonality. Run prophet with daily_seasonality=True to override this.\n"
          ],
          "name": "stderr"
        },
        {
          "output_type": "stream",
          "text": [
            "The processing Time is:  1.8357467651367188 seconds\n"
          ],
          "name": "stdout"
        }
      ]
    },
    {
      "cell_type": "code",
      "metadata": {
        "id": "NZu5rK81ZjhW",
        "colab_type": "code",
        "colab": {
          "base_uri": "https://localhost:8080/",
          "height": 34
        },
        "outputId": "0e815445-7985-4719-f6e1-ad04a8bf98c7"
      },
      "source": [
        "#predicting the future with date, and upper and lower limit of y value\n",
        "t=time()\n",
        "fore_confirm_cases = model.predict(future)\n",
        "fore_confirm_cases[['ds', 'yhat', 'yhat_lower', 'yhat_upper']].tail()\n",
        "print(\"The processing Time is: \", time()- t,\"seconds\")"
      ],
      "execution_count": null,
      "outputs": [
        {
          "output_type": "stream",
          "text": [
            "The processing Time is:  1.9301674365997314 seconds\n"
          ],
          "name": "stdout"
        }
      ]
    },
    {
      "cell_type": "code",
      "metadata": {
        "id": "1ZGY1EZTaCO3",
        "colab_type": "code",
        "colab": {
          "base_uri": "https://localhost:8080/",
          "height": 458
        },
        "outputId": "d8193484-c174-443d-d2ec-d5b2eb91aba7"
      },
      "source": [
        "t=time()\n",
        "fore_confirmed_plot = model.plot(fore_confirm_cases)\n",
        "print(\"The processing Time is: \", time()- t,\"seconds\")"
      ],
      "execution_count": null,
      "outputs": [
        {
          "output_type": "stream",
          "text": [
            "The processing Time is:  0.08375835418701172 seconds\n"
          ],
          "name": "stdout"
        },
        {
          "output_type": "display_data",
          "data": {
            "image/png": "[encoded data removed]",
            "text/plain": [
              "<Figure size 720x432 with 1 Axes>"
            ]
          },
          "metadata": {
            "tags": []
          }
        }
      ]
    },
    {
      "cell_type": "code",
      "metadata": {
        "id": "7ADS4MlJcH7L",
        "colab_type": "code",
        "colab": {
          "base_uri": "https://localhost:8080/",
          "height": 458
        },
        "outputId": "974ab8d4-19b7-430a-edb2-b6012de7bb98"
      },
      "source": [
        "t=time()\n",
        "fore_confirmed_plot =model.plot_components(fore_confirm_cases)\n",
        "print(\"The processing Time is: \", time()- t,\"seconds\")"
      ],
      "execution_count": null,
      "outputs": [
        {
          "output_type": "stream",
          "text": [
            "The processing Time is:  0.12999248504638672 seconds\n"
          ],
          "name": "stdout"
        },
        {
          "output_type": "display_data",
          "data": {
            "image/png": "[encoded data removed]",
            "text/plain": [
              "<Figure size 648x432 with 2 Axes>"
            ]
          },
          "metadata": {
            "tags": []
          }
        }
      ]
    },
    {
      "cell_type": "markdown",
      "metadata": {
        "id": "A4fF5ibdKlaL",
        "colab_type": "text"
      },
      "source": [
        "Forecasting **Recovered COVID-19** Cases Worldwide\n",
        "\n",
        "---\n",
        "\n"
      ]
    },
    {
      "cell_type": "code",
      "metadata": {
        "id": "eFvm9irITIf7",
        "colab_type": "code",
        "colab": {
          "base_uri": "https://localhost:8080/",
          "height": 34
        },
        "outputId": "c1c4b641-b0cd-4b3b-e9bd-d5a227f78bb7"
      },
      "source": [
        "t=time()\n",
        "recovered_case.columns = ['ds','y']\n",
        "recovered_case['ds'] = pd.to_datetime(recovered_case['ds'])\n",
        "print(\"The processing Time is: \", time()- t,\"seconds\")"
      ],
      "execution_count": null,
      "outputs": [
        {
          "output_type": "stream",
          "text": [
            "The processing Time is:  0.0016412734985351562 seconds\n"
          ],
          "name": "stdout"
        }
      ]
    },
    {
      "cell_type": "code",
      "metadata": {
        "id": "t-JgtqRbTUpB",
        "colab_type": "code",
        "colab": {
          "base_uri": "https://localhost:8080/",
          "height": 359
        },
        "outputId": "e77347b3-1cb3-4a50-872a-621d4ed02b30"
      },
      "source": [
        "recovered_case.tail(10)"
      ],
      "execution_count": null,
      "outputs": [
        {
          "output_type": "execute_result",
          "data": {
            "text/html": [
              "<div>\n",
              "<style scoped>\n",
              "    .dataframe tbody tr th:only-of-type {\n",
              "        vertical-align: middle;\n",
              "    }\n",
              "\n",
              "    .dataframe tbody tr th {\n",
              "        vertical-align: top;\n",
              "    }\n",
              "\n",
              "    .dataframe thead th {\n",
              "        text-align: right;\n",
              "    }\n",
              "</style>\n",
              "<table border=\"1\" class=\"dataframe\">\n",
              "  <thead>\n",
              "    <tr style=\"text-align: right;\">\n",
              "      <th></th>\n",
              "      <th>ds</th>\n",
              "      <th>y</th>\n",
              "    </tr>\n",
              "  </thead>\n",
              "  <tbody>\n",
              "    <tr>\n",
              "      <th>194</th>\n",
              "      <td>2020-08-03</td>\n",
              "      <td>10913000.0</td>\n",
              "    </tr>\n",
              "    <tr>\n",
              "      <th>195</th>\n",
              "      <td>2020-08-04</td>\n",
              "      <td>11134735.0</td>\n",
              "    </tr>\n",
              "    <tr>\n",
              "      <th>196</th>\n",
              "      <td>2020-08-05</td>\n",
              "      <td>11356275.0</td>\n",
              "    </tr>\n",
              "    <tr>\n",
              "      <th>197</th>\n",
              "      <td>2020-08-06</td>\n",
              "      <td>11545401.0</td>\n",
              "    </tr>\n",
              "    <tr>\n",
              "      <th>198</th>\n",
              "      <td>2020-08-07</td>\n",
              "      <td>11737927.0</td>\n",
              "    </tr>\n",
              "    <tr>\n",
              "      <th>199</th>\n",
              "      <td>2020-08-08</td>\n",
              "      <td>11939109.0</td>\n",
              "    </tr>\n",
              "    <tr>\n",
              "      <th>200</th>\n",
              "      <td>2020-08-09</td>\n",
              "      <td>12115825.0</td>\n",
              "    </tr>\n",
              "    <tr>\n",
              "      <th>201</th>\n",
              "      <td>2020-08-10</td>\n",
              "      <td>12280520.0</td>\n",
              "    </tr>\n",
              "    <tr>\n",
              "      <th>202</th>\n",
              "      <td>2020-08-11</td>\n",
              "      <td>12585473.0</td>\n",
              "    </tr>\n",
              "    <tr>\n",
              "      <th>203</th>\n",
              "      <td>2020-08-12</td>\n",
              "      <td>12826815.0</td>\n",
              "    </tr>\n",
              "  </tbody>\n",
              "</table>\n",
              "</div>"
            ],
            "text/plain": [
              "            ds           y\n",
              "194 2020-08-03  10913000.0\n",
              "195 2020-08-04  11134735.0\n",
              "196 2020-08-05  11356275.0\n",
              "197 2020-08-06  11545401.0\n",
              "198 2020-08-07  11737927.0\n",
              "199 2020-08-08  11939109.0\n",
              "200 2020-08-09  12115825.0\n",
              "201 2020-08-10  12280520.0\n",
              "202 2020-08-11  12585473.0\n",
              "203 2020-08-12  12826815.0"
            ]
          },
          "metadata": {
            "tags": []
          },
          "execution_count": 79
        }
      ]
    },
    {
      "cell_type": "code",
      "metadata": {
        "id": "CkXkwZh3LFti",
        "colab_type": "code",
        "colab": {
          "base_uri": "https://localhost:8080/",
          "height": 238
        },
        "outputId": "35ed8487-7da3-4fe7-a4ad-0fe6f30b69e8"
      },
      "source": [
        "model = Prophet(interval_width=0.95)\n",
        "model.fit(recovered_case)\n",
        "future = model.make_future_dataframe(periods=7)\n",
        "future.tail()"
      ],
      "execution_count": null,
      "outputs": [
        {
          "output_type": "stream",
          "text": [
            "INFO:fbprophet:Disabling yearly seasonality. Run prophet with yearly_seasonality=True to override this.\n",
            "INFO:fbprophet:Disabling daily seasonality. Run prophet with daily_seasonality=True to override this.\n"
          ],
          "name": "stderr"
        },
        {
          "output_type": "execute_result",
          "data": {
            "text/html": [
              "<div>\n",
              "<style scoped>\n",
              "    .dataframe tbody tr th:only-of-type {\n",
              "        vertical-align: middle;\n",
              "    }\n",
              "\n",
              "    .dataframe tbody tr th {\n",
              "        vertical-align: top;\n",
              "    }\n",
              "\n",
              "    .dataframe thead th {\n",
              "        text-align: right;\n",
              "    }\n",
              "</style>\n",
              "<table border=\"1\" class=\"dataframe\">\n",
              "  <thead>\n",
              "    <tr style=\"text-align: right;\">\n",
              "      <th></th>\n",
              "      <th>ds</th>\n",
              "    </tr>\n",
              "  </thead>\n",
              "  <tbody>\n",
              "    <tr>\n",
              "      <th>206</th>\n",
              "      <td>2020-08-15</td>\n",
              "    </tr>\n",
              "    <tr>\n",
              "      <th>207</th>\n",
              "      <td>2020-08-16</td>\n",
              "    </tr>\n",
              "    <tr>\n",
              "      <th>208</th>\n",
              "      <td>2020-08-17</td>\n",
              "    </tr>\n",
              "    <tr>\n",
              "      <th>209</th>\n",
              "      <td>2020-08-18</td>\n",
              "    </tr>\n",
              "    <tr>\n",
              "      <th>210</th>\n",
              "      <td>2020-08-19</td>\n",
              "    </tr>\n",
              "  </tbody>\n",
              "</table>\n",
              "</div>"
            ],
            "text/plain": [
              "            ds\n",
              "206 2020-08-15\n",
              "207 2020-08-16\n",
              "208 2020-08-17\n",
              "209 2020-08-18\n",
              "210 2020-08-19"
            ]
          },
          "metadata": {
            "tags": []
          },
          "execution_count": 80
        }
      ]
    },
    {
      "cell_type": "code",
      "metadata": {
        "id": "I9lP-qEgTnea",
        "colab_type": "code",
        "colab": {
          "base_uri": "https://localhost:8080/",
          "height": 204
        },
        "outputId": "c683745a-af47-476b-a191-7330c1303ef4"
      },
      "source": [
        "#predicting the future with date, and upper and lower limit of y value\n",
        "fore_recovered_cases = model.predict(future)\n",
        "fore_recovered_cases[['ds', 'yhat', 'yhat_lower', 'yhat_upper']].tail()"
      ],
      "execution_count": null,
      "outputs": [
        {
          "output_type": "execute_result",
          "data": {
            "text/html": [
              "<div>\n",
              "<style scoped>\n",
              "    .dataframe tbody tr th:only-of-type {\n",
              "        vertical-align: middle;\n",
              "    }\n",
              "\n",
              "    .dataframe tbody tr th {\n",
              "        vertical-align: top;\n",
              "    }\n",
              "\n",
              "    .dataframe thead th {\n",
              "        text-align: right;\n",
              "    }\n",
              "</style>\n",
              "<table border=\"1\" class=\"dataframe\">\n",
              "  <thead>\n",
              "    <tr style=\"text-align: right;\">\n",
              "      <th></th>\n",
              "      <th>ds</th>\n",
              "      <th>yhat</th>\n",
              "      <th>yhat_lower</th>\n",
              "      <th>yhat_upper</th>\n",
              "    </tr>\n",
              "  </thead>\n",
              "  <tbody>\n",
              "    <tr>\n",
              "      <th>206</th>\n",
              "      <td>2020-08-15</td>\n",
              "      <td>1.295865e+07</td>\n",
              "      <td>1.279899e+07</td>\n",
              "      <td>1.311559e+07</td>\n",
              "    </tr>\n",
              "    <tr>\n",
              "      <th>207</th>\n",
              "      <td>2020-08-16</td>\n",
              "      <td>1.311587e+07</td>\n",
              "      <td>1.296646e+07</td>\n",
              "      <td>1.328451e+07</td>\n",
              "    </tr>\n",
              "    <tr>\n",
              "      <th>208</th>\n",
              "      <td>2020-08-17</td>\n",
              "      <td>1.328435e+07</td>\n",
              "      <td>1.312893e+07</td>\n",
              "      <td>1.344045e+07</td>\n",
              "    </tr>\n",
              "    <tr>\n",
              "      <th>209</th>\n",
              "      <td>2020-08-18</td>\n",
              "      <td>1.345629e+07</td>\n",
              "      <td>1.330448e+07</td>\n",
              "      <td>1.361437e+07</td>\n",
              "    </tr>\n",
              "    <tr>\n",
              "      <th>210</th>\n",
              "      <td>2020-08-19</td>\n",
              "      <td>1.363827e+07</td>\n",
              "      <td>1.345245e+07</td>\n",
              "      <td>1.380228e+07</td>\n",
              "    </tr>\n",
              "  </tbody>\n",
              "</table>\n",
              "</div>"
            ],
            "text/plain": [
              "            ds          yhat    yhat_lower    yhat_upper\n",
              "206 2020-08-15  1.295865e+07  1.279899e+07  1.311559e+07\n",
              "207 2020-08-16  1.311587e+07  1.296646e+07  1.328451e+07\n",
              "208 2020-08-17  1.328435e+07  1.312893e+07  1.344045e+07\n",
              "209 2020-08-18  1.345629e+07  1.330448e+07  1.361437e+07\n",
              "210 2020-08-19  1.363827e+07  1.345245e+07  1.380228e+07"
            ]
          },
          "metadata": {
            "tags": []
          },
          "execution_count": 81
        }
      ]
    },
    {
      "cell_type": "code",
      "metadata": {
        "id": "cMC67mCeT1g_",
        "colab_type": "code",
        "colab": {
          "base_uri": "https://localhost:8080/",
          "height": 458
        },
        "outputId": "8a8fc172-5dce-42db-9df8-92cfd66eba80"
      },
      "source": [
        "t=time()\n",
        "fore_recovered_plot = model.plot(fore_recovered_cases)\n",
        "print(\"The processing Time is: \", time()- t,\"seconds\")"
      ],
      "execution_count": null,
      "outputs": [
        {
          "output_type": "stream",
          "text": [
            "The processing Time is:  0.06696724891662598 seconds\n"
          ],
          "name": "stdout"
        },
        {
          "output_type": "display_data",
          "data": {
            "image/png": "[encoded data removed]",
            "text/plain": [
              "<Figure size 720x432 with 1 Axes>"
            ]
          },
          "metadata": {
            "tags": []
          }
        }
      ]
    },
    {
      "cell_type": "code",
      "metadata": {
        "id": "GuDvhfRUUJt6",
        "colab_type": "code",
        "colab": {
          "base_uri": "https://localhost:8080/",
          "height": 458
        },
        "outputId": "3636740e-3dfd-4166-a479-4485b3b40b8b"
      },
      "source": [
        "t=time()\n",
        "fore_recovered_plot =model.plot_components(fore_recovered_cases)\n",
        "print(\"The processing Time is: \", time()- t,\"seconds\")"
      ],
      "execution_count": null,
      "outputs": [
        {
          "output_type": "stream",
          "text": [
            "The processing Time is:  0.13489484786987305 seconds\n"
          ],
          "name": "stdout"
        },
        {
          "output_type": "display_data",
          "data": {
            "image/png": "[encoded data removed]",
            "text/plain": [
              "<Figure size 648x432 with 2 Axes>"
            ]
          },
          "metadata": {
            "tags": []
          }
        }
      ]
    },
    {
      "cell_type": "markdown",
      "metadata": {
        "id": "EedJh3sAYSDH",
        "colab_type": "text"
      },
      "source": [
        "Forecasting Recovered COVID-19 Cases Worldwide"
      ]
    },
    {
      "cell_type": "code",
      "metadata": {
        "id": "NnHEcAi9YUrZ",
        "colab_type": "code",
        "colab": {
          "base_uri": "https://localhost:8080/",
          "height": 204
        },
        "outputId": "b6966851-2936-495a-86f4-8df614e4629b"
      },
      "source": [
        "deaths_case.columns = ['ds','y']\n",
        "deaths_case['ds'] = pd.to_datetime(deaths_case['ds'])\n",
        "\n",
        "deaths_case.tail()"
      ],
      "execution_count": null,
      "outputs": [
        {
          "output_type": "execute_result",
          "data": {
            "text/html": [
              "<div>\n",
              "<style scoped>\n",
              "    .dataframe tbody tr th:only-of-type {\n",
              "        vertical-align: middle;\n",
              "    }\n",
              "\n",
              "    .dataframe tbody tr th {\n",
              "        vertical-align: top;\n",
              "    }\n",
              "\n",
              "    .dataframe thead th {\n",
              "        text-align: right;\n",
              "    }\n",
              "</style>\n",
              "<table border=\"1\" class=\"dataframe\">\n",
              "  <thead>\n",
              "    <tr style=\"text-align: right;\">\n",
              "      <th></th>\n",
              "      <th>ds</th>\n",
              "      <th>y</th>\n",
              "    </tr>\n",
              "  </thead>\n",
              "  <tbody>\n",
              "    <tr>\n",
              "      <th>199</th>\n",
              "      <td>2020-08-08</td>\n",
              "      <td>726781.0</td>\n",
              "    </tr>\n",
              "    <tr>\n",
              "      <th>200</th>\n",
              "      <td>2020-08-09</td>\n",
              "      <td>731326.0</td>\n",
              "    </tr>\n",
              "    <tr>\n",
              "      <th>201</th>\n",
              "      <td>2020-08-10</td>\n",
              "      <td>736191.0</td>\n",
              "    </tr>\n",
              "    <tr>\n",
              "      <th>202</th>\n",
              "      <td>2020-08-11</td>\n",
              "      <td>742615.0</td>\n",
              "    </tr>\n",
              "    <tr>\n",
              "      <th>203</th>\n",
              "      <td>2020-08-12</td>\n",
              "      <td>749358.0</td>\n",
              "    </tr>\n",
              "  </tbody>\n",
              "</table>\n",
              "</div>"
            ],
            "text/plain": [
              "            ds         y\n",
              "199 2020-08-08  726781.0\n",
              "200 2020-08-09  731326.0\n",
              "201 2020-08-10  736191.0\n",
              "202 2020-08-11  742615.0\n",
              "203 2020-08-12  749358.0"
            ]
          },
          "metadata": {
            "tags": []
          },
          "execution_count": 84
        }
      ]
    },
    {
      "cell_type": "code",
      "metadata": {
        "id": "FkJdyxy9Y-Bq",
        "colab_type": "code",
        "colab": {
          "base_uri": "https://localhost:8080/",
          "height": 238
        },
        "outputId": "7884a1ea-e58f-416a-eac8-57f135e28a2c"
      },
      "source": [
        "model = Prophet(interval_width=0.95)\n",
        "model.fit(deaths_case)\n",
        "future = model.make_future_dataframe(periods=7)\n",
        "future.tail()"
      ],
      "execution_count": null,
      "outputs": [
        {
          "output_type": "stream",
          "text": [
            "INFO:fbprophet:Disabling yearly seasonality. Run prophet with yearly_seasonality=True to override this.\n",
            "INFO:fbprophet:Disabling daily seasonality. Run prophet with daily_seasonality=True to override this.\n"
          ],
          "name": "stderr"
        },
        {
          "output_type": "execute_result",
          "data": {
            "text/html": [
              "<div>\n",
              "<style scoped>\n",
              "    .dataframe tbody tr th:only-of-type {\n",
              "        vertical-align: middle;\n",
              "    }\n",
              "\n",
              "    .dataframe tbody tr th {\n",
              "        vertical-align: top;\n",
              "    }\n",
              "\n",
              "    .dataframe thead th {\n",
              "        text-align: right;\n",
              "    }\n",
              "</style>\n",
              "<table border=\"1\" class=\"dataframe\">\n",
              "  <thead>\n",
              "    <tr style=\"text-align: right;\">\n",
              "      <th></th>\n",
              "      <th>ds</th>\n",
              "    </tr>\n",
              "  </thead>\n",
              "  <tbody>\n",
              "    <tr>\n",
              "      <th>206</th>\n",
              "      <td>2020-08-15</td>\n",
              "    </tr>\n",
              "    <tr>\n",
              "      <th>207</th>\n",
              "      <td>2020-08-16</td>\n",
              "    </tr>\n",
              "    <tr>\n",
              "      <th>208</th>\n",
              "      <td>2020-08-17</td>\n",
              "    </tr>\n",
              "    <tr>\n",
              "      <th>209</th>\n",
              "      <td>2020-08-18</td>\n",
              "    </tr>\n",
              "    <tr>\n",
              "      <th>210</th>\n",
              "      <td>2020-08-19</td>\n",
              "    </tr>\n",
              "  </tbody>\n",
              "</table>\n",
              "</div>"
            ],
            "text/plain": [
              "            ds\n",
              "206 2020-08-15\n",
              "207 2020-08-16\n",
              "208 2020-08-17\n",
              "209 2020-08-18\n",
              "210 2020-08-19"
            ]
          },
          "metadata": {
            "tags": []
          },
          "execution_count": 85
        }
      ]
    },
    {
      "cell_type": "code",
      "metadata": {
        "id": "TNl8bm60ZGEC",
        "colab_type": "code",
        "colab": {
          "base_uri": "https://localhost:8080/",
          "height": 204
        },
        "outputId": "31e4c812-14eb-4a1b-fd0b-0057fd910a53"
      },
      "source": [
        "#predicting the future with date, and upper and lower limit of y value\n",
        "fore_deaths_cases = model.predict(future)\n",
        "fore_deaths_cases[['ds', 'yhat', 'yhat_lower', 'yhat_upper']].tail()"
      ],
      "execution_count": null,
      "outputs": [
        {
          "output_type": "execute_result",
          "data": {
            "text/html": [
              "<div>\n",
              "<style scoped>\n",
              "    .dataframe tbody tr th:only-of-type {\n",
              "        vertical-align: middle;\n",
              "    }\n",
              "\n",
              "    .dataframe tbody tr th {\n",
              "        vertical-align: top;\n",
              "    }\n",
              "\n",
              "    .dataframe thead th {\n",
              "        text-align: right;\n",
              "    }\n",
              "</style>\n",
              "<table border=\"1\" class=\"dataframe\">\n",
              "  <thead>\n",
              "    <tr style=\"text-align: right;\">\n",
              "      <th></th>\n",
              "      <th>ds</th>\n",
              "      <th>yhat</th>\n",
              "      <th>yhat_lower</th>\n",
              "      <th>yhat_upper</th>\n",
              "    </tr>\n",
              "  </thead>\n",
              "  <tbody>\n",
              "    <tr>\n",
              "      <th>206</th>\n",
              "      <td>2020-08-15</td>\n",
              "      <td>763379.999191</td>\n",
              "      <td>759877.255006</td>\n",
              "      <td>766671.093901</td>\n",
              "    </tr>\n",
              "    <tr>\n",
              "      <th>207</th>\n",
              "      <td>2020-08-16</td>\n",
              "      <td>767972.033822</td>\n",
              "      <td>763866.257940</td>\n",
              "      <td>771685.230872</td>\n",
              "    </tr>\n",
              "    <tr>\n",
              "      <th>208</th>\n",
              "      <td>2020-08-17</td>\n",
              "      <td>772721.347088</td>\n",
              "      <td>768142.452836</td>\n",
              "      <td>777105.587277</td>\n",
              "    </tr>\n",
              "    <tr>\n",
              "      <th>209</th>\n",
              "      <td>2020-08-18</td>\n",
              "      <td>778744.078594</td>\n",
              "      <td>773888.425761</td>\n",
              "      <td>784469.296444</td>\n",
              "    </tr>\n",
              "    <tr>\n",
              "      <th>210</th>\n",
              "      <td>2020-08-19</td>\n",
              "      <td>785069.603514</td>\n",
              "      <td>778320.319719</td>\n",
              "      <td>791859.488782</td>\n",
              "    </tr>\n",
              "  </tbody>\n",
              "</table>\n",
              "</div>"
            ],
            "text/plain": [
              "            ds           yhat     yhat_lower     yhat_upper\n",
              "206 2020-08-15  763379.999191  759877.255006  766671.093901\n",
              "207 2020-08-16  767972.033822  763866.257940  771685.230872\n",
              "208 2020-08-17  772721.347088  768142.452836  777105.587277\n",
              "209 2020-08-18  778744.078594  773888.425761  784469.296444\n",
              "210 2020-08-19  785069.603514  778320.319719  791859.488782"
            ]
          },
          "metadata": {
            "tags": []
          },
          "execution_count": 86
        }
      ]
    },
    {
      "cell_type": "code",
      "metadata": {
        "id": "7BcqHA3ZZVrn",
        "colab_type": "code",
        "colab": {
          "base_uri": "https://localhost:8080/",
          "height": 458
        },
        "outputId": "1c58f484-0fae-4cf6-c590-76da8f761f15"
      },
      "source": [
        "t=time()\n",
        "deaths_fore_plot = model.plot(fore_deaths_cases)\n",
        "print(\"The processing Time is: \", time()- t,\"seconds\")"
      ],
      "execution_count": null,
      "outputs": [
        {
          "output_type": "stream",
          "text": [
            "The processing Time is:  0.06166434288024902 seconds\n"
          ],
          "name": "stdout"
        },
        {
          "output_type": "display_data",
          "data": {
            "image/png": "[encoded data removed]",
            "text/plain": [
              "<Figure size 720x432 with 1 Axes>"
            ]
          },
          "metadata": {
            "tags": []
          }
        }
      ]
    },
    {
      "cell_type": "code",
      "metadata": {
        "id": "5mWeL_fGZl6E",
        "colab_type": "code",
        "colab": {
          "base_uri": "https://localhost:8080/",
          "height": 458
        },
        "outputId": "256e0d8e-53f8-4a65-a6a4-cb53c2f067df"
      },
      "source": [
        "t=time()\n",
        "deaths_fore_plot =model.plot_components(fore_deaths_cases)\n",
        "print(\"The processing Time is: \", time()- t,\"seconds\")"
      ],
      "execution_count": null,
      "outputs": [
        {
          "output_type": "stream",
          "text": [
            "The processing Time is:  0.13291668891906738 seconds\n"
          ],
          "name": "stdout"
        },
        {
          "output_type": "display_data",
          "data": {
            "image/png": "[encoded data removed]",
            "text/plain": [
              "<Figure size 648x432 with 2 Axes>"
            ]
          },
          "metadata": {
            "tags": []
          }
        }
      ]
    }
  ]
}